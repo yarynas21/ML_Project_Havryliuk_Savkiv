{
 "cells": [
  {
   "cell_type": "code",
   "execution_count": 2,
   "id": "3e0cb1b2",
   "metadata": {
    "execution": {
     "iopub.execute_input": "2025-05-08T10:54:16.386697Z",
     "iopub.status.busy": "2025-05-08T10:54:16.386208Z",
     "iopub.status.idle": "2025-05-08T10:54:23.420862Z",
     "shell.execute_reply": "2025-05-08T10:54:23.420145Z",
     "shell.execute_reply.started": "2025-05-08T10:54:16.386671Z"
    },
    "trusted": true
   },
   "outputs": [
    {
     "name": "stdout",
     "output_type": "stream",
     "text": [
      "Requirement already satisfied: torch in /usr/local/lib/python3.11/dist-packages (2.5.1+cu124)\n",
      "Requirement already satisfied: filelock in /usr/local/lib/python3.11/dist-packages (from torch) (3.18.0)\n",
      "Requirement already satisfied: typing-extensions>=4.8.0 in /usr/local/lib/python3.11/dist-packages (from torch) (4.13.1)\n",
      "Requirement already satisfied: networkx in /usr/local/lib/python3.11/dist-packages (from torch) (3.4.2)\n",
      "Requirement already satisfied: jinja2 in /usr/local/lib/python3.11/dist-packages (from torch) (3.1.6)\n",
      "Requirement already satisfied: fsspec in /usr/local/lib/python3.11/dist-packages (from torch) (2025.3.2)\n",
      "Requirement already satisfied: nvidia-cuda-nvrtc-cu12==12.4.127 in /usr/local/lib/python3.11/dist-packages (from torch) (12.4.127)\n",
      "Requirement already satisfied: nvidia-cuda-runtime-cu12==12.4.127 in /usr/local/lib/python3.11/dist-packages (from torch) (12.4.127)\n",
      "Requirement already satisfied: nvidia-cuda-cupti-cu12==12.4.127 in /usr/local/lib/python3.11/dist-packages (from torch) (12.4.127)\n",
      "Requirement already satisfied: nvidia-cudnn-cu12==9.1.0.70 in /usr/local/lib/python3.11/dist-packages (from torch) (9.1.0.70)\n",
      "Requirement already satisfied: nvidia-cublas-cu12==12.4.5.8 in /usr/local/lib/python3.11/dist-packages (from torch) (12.4.5.8)\n",
      "Requirement already satisfied: nvidia-cufft-cu12==11.2.1.3 in /usr/local/lib/python3.11/dist-packages (from torch) (11.2.1.3)\n",
      "Requirement already satisfied: nvidia-curand-cu12==10.3.5.147 in /usr/local/lib/python3.11/dist-packages (from torch) (10.3.5.147)\n",
      "Requirement already satisfied: nvidia-cusolver-cu12==11.6.1.9 in /usr/local/lib/python3.11/dist-packages (from torch) (11.6.1.9)\n",
      "Requirement already satisfied: nvidia-cusparse-cu12==12.3.1.170 in /usr/local/lib/python3.11/dist-packages (from torch) (12.3.1.170)\n",
      "Requirement already satisfied: nvidia-nccl-cu12==2.21.5 in /usr/local/lib/python3.11/dist-packages (from torch) (2.21.5)\n",
      "Requirement already satisfied: nvidia-nvtx-cu12==12.4.127 in /usr/local/lib/python3.11/dist-packages (from torch) (12.4.127)\n",
      "Requirement already satisfied: nvidia-nvjitlink-cu12==12.4.127 in /usr/local/lib/python3.11/dist-packages (from torch) (12.4.127)\n",
      "Requirement already satisfied: triton==3.1.0 in /usr/local/lib/python3.11/dist-packages (from torch) (3.1.0)\n",
      "Requirement already satisfied: sympy==1.13.1 in /usr/local/lib/python3.11/dist-packages (from torch) (1.13.1)\n",
      "Requirement already satisfied: mpmath<1.4,>=1.1.0 in /usr/local/lib/python3.11/dist-packages (from sympy==1.13.1->torch) (1.3.0)\n",
      "Requirement already satisfied: MarkupSafe>=2.0 in /usr/local/lib/python3.11/dist-packages (from jinja2->torch) (3.0.2)\n",
      "Collecting git+https://github.com/kmkurn/pytorch-crf.git\n",
      "  Cloning https://github.com/kmkurn/pytorch-crf.git to /tmp/pip-req-build-6_dkr9z2\n",
      "  Running command git clone --filter=blob:none --quiet https://github.com/kmkurn/pytorch-crf.git /tmp/pip-req-build-6_dkr9z2\n",
      "  Resolved https://github.com/kmkurn/pytorch-crf.git to commit 623e3402d00a2728e99d6e8486010d67c754267b\n",
      "  Preparing metadata (setup.py) ... \u001b[?25l\u001b[?25hdone\n"
     ]
    }
   ],
   "source": [
    "# !pip3 install datasets\n",
    "# !pip install evaluate\n",
    "# !pip install seqeval\n",
    "# !pip install matplotlib\n",
    "# !pip install seaborn\n",
    "!pip install torch\n",
    "!pip install git+https://github.com/kmkurn/pytorch-crf.git"
   ]
  },
  {
   "cell_type": "code",
   "execution_count": 3,
   "id": "beabdb9c",
   "metadata": {
    "execution": {
     "iopub.execute_input": "2025-05-08T10:54:23.422700Z",
     "iopub.status.busy": "2025-05-08T10:54:23.422487Z",
     "iopub.status.idle": "2025-05-08T10:54:26.295161Z",
     "shell.execute_reply": "2025-05-08T10:54:26.294116Z",
     "shell.execute_reply.started": "2025-05-08T10:54:23.422681Z"
    },
    "trusted": true
   },
   "outputs": [],
   "source": [
    "import pandas as pd\n",
    "import numpy as np\n",
    "import ast\n",
    "# import matplotlib.pyplot as plt\n",
    "# import seaborn as sns\n",
    "from sklearn.model_selection import train_test_split\n",
    "from datasets import Dataset, DatasetDict\n",
    "import torch"
   ]
  },
  {
   "cell_type": "code",
   "execution_count": 4,
   "id": "9b40e73f",
   "metadata": {
    "execution": {
     "iopub.execute_input": "2025-05-08T10:54:26.296638Z",
     "iopub.status.busy": "2025-05-08T10:54:26.296268Z",
     "iopub.status.idle": "2025-05-08T10:54:30.828099Z",
     "shell.execute_reply": "2025-05-08T10:54:30.827522Z",
     "shell.execute_reply.started": "2025-05-08T10:54:26.296617Z"
    },
    "trusted": true
   },
   "outputs": [],
   "source": [
    "df = pd.read_csv('/kaggle/input/big-ukr/filtered_text_big.csv')"
   ]
  },
  {
   "cell_type": "code",
   "execution_count": 5,
   "id": "4be043ea",
   "metadata": {
    "execution": {
     "iopub.execute_input": "2025-05-08T10:54:30.830221Z",
     "iopub.status.busy": "2025-05-08T10:54:30.829622Z",
     "iopub.status.idle": "2025-05-08T10:54:30.835442Z",
     "shell.execute_reply": "2025-05-08T10:54:30.834771Z",
     "shell.execute_reply.started": "2025-05-08T10:54:30.830202Z"
    },
    "trusted": true
   },
   "outputs": [
    {
     "data": {
      "text/plain": [
       "Index(['flattened_filtered_text_words', 'flattened_filtered_text_word_labels'], dtype='object')"
      ]
     },
     "execution_count": 5,
     "metadata": {},
     "output_type": "execute_result"
    }
   ],
   "source": [
    "df.columns"
   ]
  },
  {
   "cell_type": "code",
   "execution_count": 6,
   "id": "7baae79a-649d-4abe-87de-d5c30754201b",
   "metadata": {
    "execution": {
     "iopub.execute_input": "2025-05-08T10:54:30.836371Z",
     "iopub.status.busy": "2025-05-08T10:54:30.836095Z",
     "iopub.status.idle": "2025-05-08T10:55:17.023995Z",
     "shell.execute_reply": "2025-05-08T10:55:17.023371Z",
     "shell.execute_reply.started": "2025-05-08T10:54:30.836354Z"
    },
    "trusted": true
   },
   "outputs": [],
   "source": [
    "df['flattened_filtered_text_words'] = df['flattened_filtered_text_words'].apply(ast.literal_eval)\n",
    "df['flattened_filtered_text_word_labels'] = df['flattened_filtered_text_word_labels'].apply(ast.literal_eval)\n"
   ]
  },
  {
   "cell_type": "code",
   "execution_count": 7,
   "id": "e9f8a7f3",
   "metadata": {
    "execution": {
     "iopub.execute_input": "2025-05-08T10:55:17.037123Z",
     "iopub.status.busy": "2025-05-08T10:55:17.036876Z",
     "iopub.status.idle": "2025-05-08T10:55:17.419694Z",
     "shell.execute_reply": "2025-05-08T10:55:17.419131Z",
     "shell.execute_reply.started": "2025-05-08T10:55:17.037106Z"
    },
    "trusted": true
   },
   "outputs": [
    {
     "data": {
      "text/plain": [
       "0        True\n",
       "1        True\n",
       "2        True\n",
       "3        True\n",
       "4        True\n",
       "         ... \n",
       "65776    True\n",
       "65777    True\n",
       "65778    True\n",
       "65779    True\n",
       "65780    True\n",
       "Length: 65781, dtype: bool"
      ]
     },
     "execution_count": 7,
     "metadata": {},
     "output_type": "execute_result"
    }
   ],
   "source": [
    "length_check_flattened = df.apply(\n",
    "    lambda row: len(row['flattened_filtered_text_words']) == len(row['flattened_filtered_text_word_labels']), axis=1)\n",
    "length_check_flattened\n"
   ]
  },
  {
   "cell_type": "code",
   "execution_count": 8,
   "id": "3b25f1f4",
   "metadata": {
    "execution": {
     "iopub.execute_input": "2025-05-08T10:55:17.420684Z",
     "iopub.status.busy": "2025-05-08T10:55:17.420448Z",
     "iopub.status.idle": "2025-05-08T10:55:17.426013Z",
     "shell.execute_reply": "2025-05-08T10:55:17.425126Z",
     "shell.execute_reply.started": "2025-05-08T10:55:17.420660Z"
    },
    "trusted": true
   },
   "outputs": [
    {
     "data": {
      "text/plain": [
       "Index(['flattened_filtered_text_words', 'flattened_filtered_text_word_labels'], dtype='object')"
      ]
     },
     "execution_count": 8,
     "metadata": {},
     "output_type": "execute_result"
    }
   ],
   "source": [
    "df.columns"
   ]
  },
  {
   "cell_type": "code",
   "execution_count": 9,
   "id": "b04e675e",
   "metadata": {
    "execution": {
     "iopub.execute_input": "2025-05-08T10:55:17.427545Z",
     "iopub.status.busy": "2025-05-08T10:55:17.427280Z",
     "iopub.status.idle": "2025-05-08T10:55:17.448188Z",
     "shell.execute_reply": "2025-05-08T10:55:17.447570Z",
     "shell.execute_reply.started": "2025-05-08T10:55:17.427522Z"
    },
    "trusted": true
   },
   "outputs": [
    {
     "data": {
      "text/html": [
       "<div>\n",
       "<style scoped>\n",
       "    .dataframe tbody tr th:only-of-type {\n",
       "        vertical-align: middle;\n",
       "    }\n",
       "\n",
       "    .dataframe tbody tr th {\n",
       "        vertical-align: top;\n",
       "    }\n",
       "\n",
       "    .dataframe thead th {\n",
       "        text-align: right;\n",
       "    }\n",
       "</style>\n",
       "<table border=\"1\" class=\"dataframe\">\n",
       "  <thead>\n",
       "    <tr style=\"text-align: right;\">\n",
       "      <th></th>\n",
       "      <th>flattened_filtered_text_words</th>\n",
       "      <th>flattened_filtered_text_word_labels</th>\n",
       "    </tr>\n",
       "  </thead>\n",
       "  <tbody>\n",
       "    <tr>\n",
       "      <th>0</th>\n",
       "      <td>[Напередодні, річниці, 76-денно, локдауну, Уха...</td>\n",
       "      <td>[O, O, O, O, B-LOC, O, O, O, O, O, O, O, O, B-...</td>\n",
       "    </tr>\n",
       "    <tr>\n",
       "      <th>1</th>\n",
       "      <td>[Німеччина, та, Люксембург, знову, відкрили, с...</td>\n",
       "      <td>[B-LOC, O, B-LOC, O, O, O, O, O, O, O, O, O, O...</td>\n",
       "    </tr>\n",
       "    <tr>\n",
       "      <th>2</th>\n",
       "      <td>[Однокурсник, засновника, SoftServe, Юрія, Вас...</td>\n",
       "      <td>[O, O, B-ORG, B-PER, I-PER, O, B-PER, I-PER, O...</td>\n",
       "    </tr>\n",
       "    <tr>\n",
       "      <th>3</th>\n",
       "      <td>[Дослідники, Единбурзького, університету, вияв...</td>\n",
       "      <td>[O, B-ORG, I-ORG, O, O, O, O, O, O, O, O, O, O...</td>\n",
       "    </tr>\n",
       "  </tbody>\n",
       "</table>\n",
       "</div>"
      ],
      "text/plain": [
       "                       flattened_filtered_text_words  \\\n",
       "0  [Напередодні, річниці, 76-денно, локдауну, Уха...   \n",
       "1  [Німеччина, та, Люксембург, знову, відкрили, с...   \n",
       "2  [Однокурсник, засновника, SoftServe, Юрія, Вас...   \n",
       "3  [Дослідники, Единбурзького, університету, вияв...   \n",
       "\n",
       "                 flattened_filtered_text_word_labels  \n",
       "0  [O, O, O, O, B-LOC, O, O, O, O, O, O, O, O, B-...  \n",
       "1  [B-LOC, O, B-LOC, O, O, O, O, O, O, O, O, O, O...  \n",
       "2  [O, O, B-ORG, B-PER, I-PER, O, B-PER, I-PER, O...  \n",
       "3  [O, B-ORG, I-ORG, O, O, O, O, O, O, O, O, O, O...  "
      ]
     },
     "execution_count": 9,
     "metadata": {},
     "output_type": "execute_result"
    }
   ],
   "source": [
    "df.head(4)"
   ]
  },
  {
   "cell_type": "markdown",
   "id": "135c03ff",
   "metadata": {},
   "source": [
    "## Крок 1. Створити word2idx і tag2idx"
   ]
  },
  {
   "cell_type": "code",
   "execution_count": 10,
   "id": "9a66a436",
   "metadata": {
    "execution": {
     "iopub.execute_input": "2025-05-08T10:55:17.449258Z",
     "iopub.status.busy": "2025-05-08T10:55:17.449025Z",
     "iopub.status.idle": "2025-05-08T10:55:23.947745Z",
     "shell.execute_reply": "2025-05-08T10:55:23.946950Z",
     "shell.execute_reply.started": "2025-05-08T10:55:17.449237Z"
    },
    "trusted": true
   },
   "outputs": [],
   "source": [
    "from collections import defaultdict\n",
    "\n",
    "# Словник, який повертає індекс <UNK> якщо слово не знайдено\n",
    "\n",
    "# Резервовані токени\n",
    "word2idx = defaultdict(lambda: word2idx[\"<UNK>\"])\n",
    "word2idx[\"<PAD>\"] = 0\n",
    "word2idx[\"<UNK>\"] = 1\n",
    "\n",
    "unique_words = set(\n",
    "    word for word in df[\"flattened_filtered_text_words\"].explode().dropna() if isinstance(word, str)\n",
    ")\n",
    "for idx, word in enumerate(sorted(unique_words), start=2):\n",
    "    word2idx[word] = idx"
   ]
  },
  {
   "cell_type": "code",
   "execution_count": 11,
   "id": "785d8844-42c7-4785-adc4-40067d9842ce",
   "metadata": {
    "execution": {
     "iopub.execute_input": "2025-05-08T10:55:23.950782Z",
     "iopub.status.busy": "2025-05-08T10:55:23.950554Z",
     "iopub.status.idle": "2025-05-08T10:55:24.038283Z",
     "shell.execute_reply": "2025-05-08T10:55:24.037310Z",
     "shell.execute_reply.started": "2025-05-08T10:55:23.950765Z"
    },
    "trusted": true
   },
   "outputs": [
    {
     "data": {
      "text/plain": [
       "['50-річна',\n",
       " 'Ocado,',\n",
       " '\"Схід-Захід\",',\n",
       " 'Бакинську',\n",
       " 'ЦКС.',\n",
       " 'дільничною',\n",
       " 'Лаврова\",',\n",
       " '\"аромат\"',\n",
       " 'платах.',\n",
       " 'кмітливих']"
      ]
     },
     "execution_count": 11,
     "metadata": {},
     "output_type": "execute_result"
    }
   ],
   "source": [
    "list(unique_words)[:10]"
   ]
  },
  {
   "cell_type": "code",
   "execution_count": null,
   "id": "f556da09-5059-4d0e-8122-1735dc5cdfa8",
   "metadata": {
    "execution": {
     "iopub.execute_input": "2025-05-08T10:55:24.039266Z",
     "iopub.status.busy": "2025-05-08T10:55:24.039070Z",
     "iopub.status.idle": "2025-05-08T10:55:24.054312Z",
     "shell.execute_reply": "2025-05-08T10:55:24.053606Z",
     "shell.execute_reply.started": "2025-05-08T10:55:24.039251Z"
    },
    "trusted": true
   },
   "outputs": [
    {
     "name": "stdout",
     "output_type": "stream",
     "text": [
      "340104\n",
      "1\n",
      "0\n"
     ]
    }
   ],
   "source": [
    "print(word2idx[\"Україна\"])\n",
    "print(word2idx[\"неіснуючеслово\"])\n",
    "print(word2idx[\"<PAD>\"])"
   ]
  },
  {
   "cell_type": "code",
   "execution_count": 13,
   "id": "f436f9ad-5762-4d50-8217-224254b8a595",
   "metadata": {
    "execution": {
     "iopub.execute_input": "2025-05-08T10:55:24.055288Z",
     "iopub.status.busy": "2025-05-08T10:55:24.055052Z",
     "iopub.status.idle": "2025-05-08T10:55:24.071593Z",
     "shell.execute_reply": "2025-05-08T10:55:24.070880Z",
     "shell.execute_reply.started": "2025-05-08T10:55:24.055271Z"
    },
    "trusted": true
   },
   "outputs": [
    {
     "data": {
      "text/plain": [
       "839173"
      ]
     },
     "execution_count": 13,
     "metadata": {},
     "output_type": "execute_result"
    }
   ],
   "source": [
    "len(word2idx)"
   ]
  },
  {
   "cell_type": "code",
   "execution_count": 14,
   "id": "733d09e1",
   "metadata": {
    "execution": {
     "iopub.execute_input": "2025-05-08T10:55:24.072644Z",
     "iopub.status.busy": "2025-05-08T10:55:24.072356Z",
     "iopub.status.idle": "2025-05-08T10:55:24.088027Z",
     "shell.execute_reply": "2025-05-08T10:55:24.087287Z",
     "shell.execute_reply.started": "2025-05-08T10:55:24.072626Z"
    },
    "trusted": true
   },
   "outputs": [],
   "source": [
    "tag2idx = {\n",
    "    'O': 0,\n",
    "    'B-PER': 1,\n",
    "    'I-PER': 2,\n",
    "    'B-ORG': 3,\n",
    "    'I-ORG': 4,\n",
    "    'B-LOC': 5,\n",
    "    'I-LOC': 6,\n",
    "}\n",
    "\n",
    "idx2tag = {v: k for k, v in tag2idx.items()}"
   ]
  },
  {
   "cell_type": "code",
   "execution_count": 15,
   "id": "f04572a6",
   "metadata": {
    "execution": {
     "iopub.execute_input": "2025-05-08T10:55:24.088984Z",
     "iopub.status.busy": "2025-05-08T10:55:24.088763Z",
     "iopub.status.idle": "2025-05-08T10:55:24.103340Z",
     "shell.execute_reply": "2025-05-08T10:55:24.102689Z",
     "shell.execute_reply.started": "2025-05-08T10:55:24.088969Z"
    },
    "trusted": true
   },
   "outputs": [
    {
     "data": {
      "text/plain": [
       "{0: 'O',\n",
       " 1: 'B-PER',\n",
       " 2: 'I-PER',\n",
       " 3: 'B-ORG',\n",
       " 4: 'I-ORG',\n",
       " 5: 'B-LOC',\n",
       " 6: 'I-LOC'}"
      ]
     },
     "execution_count": 15,
     "metadata": {},
     "output_type": "execute_result"
    }
   ],
   "source": [
    "idx2tag"
   ]
  },
  {
   "cell_type": "code",
   "execution_count": null,
   "id": "27b95e44-1c38-4d8c-a4cb-d045b90297ac",
   "metadata": {
    "execution": {
     "iopub.execute_input": "2025-05-08T10:55:24.104233Z",
     "iopub.status.busy": "2025-05-08T10:55:24.104037Z",
     "iopub.status.idle": "2025-05-08T10:55:24.118773Z",
     "shell.execute_reply": "2025-05-08T10:55:24.118227Z",
     "shell.execute_reply.started": "2025-05-08T10:55:24.104220Z"
    },
    "trusted": true
   },
   "outputs": [
    {
     "name": "stdout",
     "output_type": "stream",
     "text": [
      "5\n",
      "I-ORG\n"
     ]
    }
   ],
   "source": [
    "print(tag2idx[\"B-LOC\"])\n",
    "print(idx2tag[4])"
   ]
  },
  {
   "cell_type": "code",
   "execution_count": 17,
   "id": "fa7ae8d8",
   "metadata": {
    "execution": {
     "iopub.execute_input": "2025-05-08T10:55:24.119585Z",
     "iopub.status.busy": "2025-05-08T10:55:24.119410Z",
     "iopub.status.idle": "2025-05-08T10:55:25.576866Z",
     "shell.execute_reply": "2025-05-08T10:55:25.576318Z",
     "shell.execute_reply.started": "2025-05-08T10:55:24.119571Z"
    },
    "trusted": true
   },
   "outputs": [],
   "source": [
    "label_to_number = {\n",
    "    'O': 0,\n",
    "    'B-PER': 1,\n",
    "    'I-PER': 2,\n",
    "    'B-ORG': 3,\n",
    "    'I-ORG': 4,\n",
    "    'B-LOC': 5,\n",
    "    'I-LOC': 6,\n",
    "}\n",
    "def convert_labels_to_numbers(labels):\n",
    "    return [label_to_number[label] for label in labels]\n",
    "\n",
    "df['numeric_labels'] = df['flattened_filtered_text_word_labels'].apply(convert_labels_to_numbers)"
   ]
  },
  {
   "cell_type": "code",
   "execution_count": 18,
   "id": "6cee3006-55e0-4c49-9dd7-2e2adfcdf7f5",
   "metadata": {
    "execution": {
     "iopub.execute_input": "2025-05-08T10:55:25.577698Z",
     "iopub.status.busy": "2025-05-08T10:55:25.577497Z",
     "iopub.status.idle": "2025-05-08T10:55:25.589323Z",
     "shell.execute_reply": "2025-05-08T10:55:25.588449Z",
     "shell.execute_reply.started": "2025-05-08T10:55:25.577683Z"
    },
    "trusted": true
   },
   "outputs": [
    {
     "name": "stdout",
     "output_type": "stream",
     "text": [
      "                 flattened_filtered_text_word_labels  \\\n",
      "0  [O, O, O, O, B-LOC, O, O, O, O, O, O, O, O, B-...   \n",
      "\n",
      "                                      numeric_labels  \n",
      "0  [0, 0, 0, 0, 5, 0, 0, 0, 0, 0, 0, 0, 0, 5, 0, ...  \n"
     ]
    }
   ],
   "source": [
    "print(df[['flattened_filtered_text_word_labels', 'numeric_labels']].head(1))"
   ]
  },
  {
   "cell_type": "code",
   "execution_count": 19,
   "id": "4c0d9b39-bd72-4178-8c62-2b6b6a722c96",
   "metadata": {
    "execution": {
     "iopub.execute_input": "2025-05-08T10:55:25.590405Z",
     "iopub.status.busy": "2025-05-08T10:55:25.590125Z",
     "iopub.status.idle": "2025-05-08T10:55:29.414051Z",
     "shell.execute_reply": "2025-05-08T10:55:29.413218Z",
     "shell.execute_reply.started": "2025-05-08T10:55:25.590383Z"
    },
    "trusted": true
   },
   "outputs": [],
   "source": [
    "def convert_words_to_ids(words):\n",
    "    return [word2idx[word] for word in words]\n",
    "\n",
    "df['input_ids'] = df['flattened_filtered_text_words'].apply(convert_words_to_ids)"
   ]
  },
  {
   "cell_type": "code",
   "execution_count": 20,
   "id": "6487128d-14a0-4f29-98a8-b714667bb974",
   "metadata": {
    "execution": {
     "iopub.execute_input": "2025-05-08T10:55:29.415182Z",
     "iopub.status.busy": "2025-05-08T10:55:29.414945Z",
     "iopub.status.idle": "2025-05-08T10:55:29.425663Z",
     "shell.execute_reply": "2025-05-08T10:55:29.424968Z",
     "shell.execute_reply.started": "2025-05-08T10:55:29.415166Z"
    },
    "trusted": true
   },
   "outputs": [
    {
     "name": "stdout",
     "output_type": "stream",
     "text": [
      "                       flattened_filtered_text_words  \\\n",
      "0  [Напередодні, річниці, 76-денно, локдауну, Уха...   \n",
      "\n",
      "                                           input_ids  \n",
      "0  [283432, 731236, 110745, 553891, 342205, 79476...  \n"
     ]
    }
   ],
   "source": [
    "print(df[['flattened_filtered_text_words', 'input_ids']].head(1))"
   ]
  },
  {
   "cell_type": "code",
   "execution_count": 21,
   "id": "7ee401ef",
   "metadata": {
    "execution": {
     "iopub.execute_input": "2025-05-08T10:55:29.426663Z",
     "iopub.status.busy": "2025-05-08T10:55:29.426400Z",
     "iopub.status.idle": "2025-05-08T10:55:29.440318Z",
     "shell.execute_reply": "2025-05-08T10:55:29.439725Z",
     "shell.execute_reply.started": "2025-05-08T10:55:29.426641Z"
    },
    "trusted": true
   },
   "outputs": [],
   "source": [
    "from torch.utils.data import Dataset, DataLoader\n",
    "\n",
    "class NERDataset(Dataset):\n",
    "    def __init__(self, texts, labels, word2idx):\n",
    "        self.texts = texts\n",
    "        self.labels = labels\n",
    "        self.word2idx = word2idx\n",
    "\n",
    "    def __len__(self):\n",
    "        return len(self.texts)\n",
    "\n",
    "    def __getitem__(self, idx):\n",
    "        word_ids = [self.word2idx.get(word, self.word2idx[\"<UNK>\"]) for word in self.texts[idx]]\n",
    "        label_ids = self.labels[idx]\n",
    "        return {\n",
    "            \"input_ids\": torch.tensor(word_ids, dtype=torch.long),\n",
    "            \"labels\": torch.tensor(label_ids, dtype=torch.long)\n",
    "        }"
   ]
  },
  {
   "cell_type": "code",
   "execution_count": null,
   "id": "34b57943",
   "metadata": {
    "execution": {
     "iopub.execute_input": "2025-05-08T10:55:29.441768Z",
     "iopub.status.busy": "2025-05-08T10:55:29.441206Z",
     "iopub.status.idle": "2025-05-08T10:55:29.455321Z",
     "shell.execute_reply": "2025-05-08T10:55:29.454411Z",
     "shell.execute_reply.started": "2025-05-08T10:55:29.441750Z"
    },
    "trusted": true
   },
   "outputs": [],
   "source": [
    "def collate_fn(batch):\n",
    "    input_ids = [item[\"input_ids\"] for item in batch]\n",
    "    labels = [item[\"labels\"] for item in batch]\n",
    "    max_len = max(len(x) for x in input_ids)\n",
    "\n",
    "    padded_inputs = []\n",
    "    padded_labels = []\n",
    "    masks = []\n",
    "\n",
    "    for i, l in zip(input_ids, labels):\n",
    "        pad_len = max_len - len(i)\n",
    "        padded_inputs.append(torch.cat([i, torch.zeros(pad_len, dtype=torch.long)]))\n",
    "        \n",
    "        padded_labels.append(torch.cat([l, torch.full((pad_len,), tag2idx['O'], dtype=torch.long)]))\n",
    "        \n",
    "        masks.append(torch.cat([torch.ones(len(i)), torch.zeros(pad_len)]))\n",
    "\n",
    "    return {\n",
    "        \"input_ids\": torch.stack(padded_inputs),\n",
    "        \"labels\": torch.stack(padded_labels),\n",
    "        \"mask\": torch.stack(masks)\n",
    "    }"
   ]
  },
  {
   "cell_type": "code",
   "execution_count": 23,
   "id": "1704332f-979d-403e-a63b-d9d6164aad02",
   "metadata": {
    "execution": {
     "iopub.execute_input": "2025-05-08T10:55:29.456949Z",
     "iopub.status.busy": "2025-05-08T10:55:29.456387Z",
     "iopub.status.idle": "2025-05-08T10:55:29.470599Z",
     "shell.execute_reply": "2025-05-08T10:55:29.469928Z",
     "shell.execute_reply.started": "2025-05-08T10:55:29.456924Z"
    },
    "trusted": true
   },
   "outputs": [
    {
     "data": {
      "text/plain": [
       "(65781, 4)"
      ]
     },
     "execution_count": 23,
     "metadata": {},
     "output_type": "execute_result"
    }
   ],
   "source": [
    "df.shape"
   ]
  },
  {
   "cell_type": "code",
   "execution_count": 24,
   "id": "0852cfdc-0eb1-4478-b6e4-111d33ad4de0",
   "metadata": {
    "execution": {
     "iopub.execute_input": "2025-05-08T10:55:29.471507Z",
     "iopub.status.busy": "2025-05-08T10:55:29.471323Z",
     "iopub.status.idle": "2025-05-08T10:55:29.530293Z",
     "shell.execute_reply": "2025-05-08T10:55:29.529759Z",
     "shell.execute_reply.started": "2025-05-08T10:55:29.471493Z"
    },
    "trusted": true
   },
   "outputs": [],
   "source": [
    "df = df[df['flattened_filtered_text_words'].apply(lambda x: len(x) > 0)]\n",
    "df = df[df['numeric_labels'].apply(lambda x: len(x) > 0)]"
   ]
  },
  {
   "cell_type": "code",
   "execution_count": 25,
   "id": "0b3bd946",
   "metadata": {
    "execution": {
     "iopub.execute_input": "2025-05-08T10:55:29.531216Z",
     "iopub.status.busy": "2025-05-08T10:55:29.530975Z",
     "iopub.status.idle": "2025-05-08T10:55:29.535110Z",
     "shell.execute_reply": "2025-05-08T10:55:29.534432Z",
     "shell.execute_reply.started": "2025-05-08T10:55:29.531194Z"
    },
    "trusted": true
   },
   "outputs": [],
   "source": [
    "all_rows = 65780\n",
    "train_data_size = round(all_rows * 0.7, 0)\n",
    "valid_data_size = round(all_rows * 0.15, 0)\n",
    "test_data_size = all_rows - train_data_size - valid_data_size"
   ]
  },
  {
   "cell_type": "code",
   "execution_count": 26,
   "id": "4e6295f0",
   "metadata": {
    "execution": {
     "iopub.execute_input": "2025-05-08T10:55:29.536129Z",
     "iopub.status.busy": "2025-05-08T10:55:29.535858Z",
     "iopub.status.idle": "2025-05-08T10:55:30.675326Z",
     "shell.execute_reply": "2025-05-08T10:55:30.674460Z",
     "shell.execute_reply.started": "2025-05-08T10:55:29.536104Z"
    },
    "trusted": true
   },
   "outputs": [
    {
     "name": "stdout",
     "output_type": "stream",
     "text": [
      "Train size: 46046 rows\n",
      "Validation size: 9867 rows\n",
      "Test size: 9867 rows\n",
      "\n",
      "Train label distribution:\n",
      "per_count    289479\n",
      "org_count    427640\n",
      "loc_count    284004\n",
      "dtype: int64\n",
      "Train label percentages: PER: 28.92%, ORG: 42.72%, LOC: 28.37%\n",
      "\n",
      "Validation label distribution:\n",
      "per_count    61214\n",
      "org_count    91880\n",
      "loc_count    58961\n",
      "dtype: int64\n",
      "Validation label percentages: PER: 28.87%, ORG: 43.33%, LOC: 27.80%\n",
      "\n",
      "Test label distribution:\n",
      "per_count    62396\n",
      "org_count    91337\n",
      "loc_count    62374\n",
      "dtype: int64\n",
      "Test label percentages: PER: 28.87%, ORG: 42.26%, LOC: 28.86%\n"
     ]
    }
   ],
   "source": [
    "def create_splits(df, train_size, val_size, test_size):\n",
    "    def count_labels(tags):\n",
    "        b_per = tags.count(1) \n",
    "        i_per = tags.count(2)\n",
    "        b_org = tags.count(3)\n",
    "        i_org = tags.count(4)\n",
    "        b_loc = tags.count(5) \n",
    "        i_loc = tags.count(6)\n",
    "        return {\"per\": b_per + i_per, \"org\": b_org + i_org, \"loc\": b_loc + i_loc}\n",
    "\n",
    "    df[\"label_counts\"] = df['numeric_labels'].apply(count_labels)\n",
    "    df[\"per_count\"] = df[\"label_counts\"].apply(lambda x: x[\"per\"])\n",
    "    df[\"org_count\"] = df[\"label_counts\"].apply(lambda x: x[\"org\"])\n",
    "    df[\"loc_count\"] = df[\"label_counts\"].apply(lambda x: x[\"loc\"]) \n",
    "    \n",
    "    train_data = df.sample(n=train_size, random_state=21)\n",
    "    remaining_data = df.drop(train_data.index)\n",
    "    validation_data = remaining_data.sample(n=val_size, random_state=21)\n",
    "    test_data = remaining_data.drop(validation_data.index).sample(n=test_size, random_state=21)\n",
    "    \n",
    "    print(f\"Train size: {len(train_data)} rows\")\n",
    "    print(f\"Validation size: {len(validation_data)} rows\")\n",
    "    print(f\"Test size: {len(test_data)} rows\")\n",
    "    \n",
    "    def print_distribution(name, data):\n",
    "        label_sum = data[[\"per_count\", \"org_count\", \"loc_count\"]].sum() \n",
    "        total = label_sum[\"per_count\"] + label_sum[\"org_count\"] + label_sum[\"loc_count\"]\n",
    "        per_percentage = label_sum[\"per_count\"] / total * 100 if total else 0\n",
    "        org_percentage = label_sum[\"org_count\"] / total * 100 if total else 0\n",
    "        loc_percentage = label_sum[\"loc_count\"] / total * 100 if total else 0\n",
    "        print(f\"\\n{name} label distribution:\")\n",
    "        print(label_sum)\n",
    "        print(f\"{name} label percentages: PER: {per_percentage:.2f}%, ORG: {org_percentage:.2f}%, LOC: {loc_percentage:.2f}%\")\n",
    "    \n",
    "    print_distribution(\"Train\", train_data)\n",
    "    print_distribution(\"Validation\", validation_data)\n",
    "    print_distribution(\"Test\", test_data)\n",
    "    \n",
    "    return train_data, validation_data, test_data\n",
    "\n",
    "train_data, validation_data, test_data = create_splits(df, int(train_data_size), int(valid_data_size), int(test_data_size))\n"
   ]
  },
  {
   "cell_type": "code",
   "execution_count": 27,
   "id": "d1cadf5a",
   "metadata": {
    "execution": {
     "iopub.execute_input": "2025-05-08T10:55:30.676985Z",
     "iopub.status.busy": "2025-05-08T10:55:30.676726Z",
     "iopub.status.idle": "2025-05-08T10:55:30.686417Z",
     "shell.execute_reply": "2025-05-08T10:55:30.685809Z",
     "shell.execute_reply.started": "2025-05-08T10:55:30.676968Z"
    },
    "trusted": true
   },
   "outputs": [],
   "source": [
    "train_dataset = NERDataset(\n",
    "    texts=train_data[\"flattened_filtered_text_words\"].tolist(),\n",
    "    labels=train_data[\"numeric_labels\"].tolist(),\n",
    "    word2idx=word2idx\n",
    ")\n",
    "\n",
    "val_dataset = NERDataset(\n",
    "    texts=validation_data[\"flattened_filtered_text_words\"].tolist(),\n",
    "    labels=validation_data[\"numeric_labels\"].tolist(),\n",
    "    word2idx=word2idx\n",
    ")\n",
    "\n",
    "test_dataset = NERDataset(\n",
    "    texts=test_data[\"flattened_filtered_text_words\"].tolist(),\n",
    "    labels=test_data[\"numeric_labels\"].tolist(),\n",
    "    word2idx=word2idx\n",
    ")"
   ]
  },
  {
   "cell_type": "code",
   "execution_count": 28,
   "id": "3b76c55d-5184-46c0-8ebe-2c4c7288f2db",
   "metadata": {
    "execution": {
     "iopub.execute_input": "2025-05-08T10:55:30.687306Z",
     "iopub.status.busy": "2025-05-08T10:55:30.687097Z",
     "iopub.status.idle": "2025-05-08T10:55:30.704605Z",
     "shell.execute_reply": "2025-05-08T10:55:30.704102Z",
     "shell.execute_reply.started": "2025-05-08T10:55:30.687291Z"
    },
    "trusted": true
   },
   "outputs": [],
   "source": [
    "from torch.utils.data import DataLoader\n",
    "\n",
    "BATCH_SIZE = 32\n",
    "\n",
    "train_loader = DataLoader(train_dataset, batch_size=BATCH_SIZE, shuffle=True, collate_fn=collate_fn)\n",
    "val_loader = DataLoader(val_dataset, batch_size=BATCH_SIZE, shuffle=False, collate_fn=collate_fn)\n",
    "test_loader = DataLoader(test_dataset, batch_size=BATCH_SIZE, shuffle=False, collate_fn=collate_fn)"
   ]
  },
  {
   "cell_type": "code",
   "execution_count": 29,
   "id": "b101fbeb",
   "metadata": {
    "execution": {
     "iopub.execute_input": "2025-05-08T10:55:30.707789Z",
     "iopub.status.busy": "2025-05-08T10:55:30.707588Z",
     "iopub.status.idle": "2025-05-08T10:55:30.720307Z",
     "shell.execute_reply": "2025-05-08T10:55:30.719712Z",
     "shell.execute_reply.started": "2025-05-08T10:55:30.707774Z"
    },
    "trusted": true
   },
   "outputs": [],
   "source": [
    "import torch.nn as nn\n",
    "from torchcrf import CRF\n",
    "\n",
    "class BiLSTM_CRF(nn.Module):\n",
    "    def __init__(self, vocab_size, tagset_size, embedding_dim=100, hidden_dim=256):\n",
    "        super(BiLSTM_CRF, self).__init__()\n",
    "        self.embedding = nn.Embedding(vocab_size, embedding_dim, padding_idx=0)\n",
    "        self.bilstm = nn.LSTM(embedding_dim, hidden_dim // 2, bidirectional=True, batch_first=True)\n",
    "        self.hidden2tag = nn.Linear(hidden_dim, tagset_size)\n",
    "        self.crf = CRF(tagset_size, batch_first=True)\n",
    "\n",
    "    def forward(self, input_ids, labels=None, mask=None):\n",
    "        embeds = self.embedding(input_ids)\n",
    "        lstm_out, _ = self.bilstm(embeds)\n",
    "        emissions = self.hidden2tag(lstm_out)\n",
    "\n",
    "        if labels is not None:\n",
    "            loss = -self.crf(emissions, labels, mask=mask.bool(), reduction='mean')\n",
    "            return loss\n",
    "        else:\n",
    "            return self.crf.decode(emissions, mask=mask.bool())"
   ]
  },
  {
   "cell_type": "code",
   "execution_count": 136,
   "id": "700f6dd6-46eb-4227-8ebd-e8b164c5d8e3",
   "metadata": {
    "execution": {
     "iopub.execute_input": "2025-05-07T21:40:27.712388Z",
     "iopub.status.busy": "2025-05-07T21:40:27.711969Z",
     "iopub.status.idle": "2025-05-07T21:40:27.726713Z",
     "shell.execute_reply": "2025-05-07T21:40:27.726041Z",
     "shell.execute_reply.started": "2025-05-07T21:40:27.712371Z"
    },
    "trusted": true
   },
   "outputs": [],
   "source": [
    "from tqdm import tqdm\n",
    "\n",
    "def train_one_epoch(model, dataloader, optimizer):\n",
    "    model.train()\n",
    "    total_loss = 0\n",
    "\n",
    "    for batch in tqdm(dataloader, desc=\"Training\", leave=False):\n",
    "        optimizer.zero_grad()\n",
    "\n",
    "        input_ids = batch[\"input_ids\"].to(device)\n",
    "        labels = batch[\"labels\"].to(device)\n",
    "        mask = batch[\"mask\"].to(device)\n",
    "\n",
    "        loss = model(input_ids, labels=labels, mask=mask)\n",
    "        loss.backward()\n",
    "        torch.nn.utils.clip_grad_norm_(model.parameters(), max_norm=1.0)\n",
    "        optimizer.step()\n",
    "\n",
    "        total_loss += loss.item()\n",
    "\n",
    "    avg_loss = total_loss / len(dataloader)\n",
    "    tqdm.write(f\"🟢 Avg training loss: {avg_loss:.4f}\")\n",
    "    return avg_loss"
   ]
  },
  {
   "cell_type": "code",
   "execution_count": 137,
   "id": "c481a148-7df0-4517-883f-197f3f50f0e8",
   "metadata": {
    "execution": {
     "iopub.execute_input": "2025-05-07T21:40:27.727770Z",
     "iopub.status.busy": "2025-05-07T21:40:27.727443Z",
     "iopub.status.idle": "2025-05-07T21:40:27.746976Z",
     "shell.execute_reply": "2025-05-07T21:40:27.746329Z",
     "shell.execute_reply.started": "2025-05-07T21:40:27.727743Z"
    },
    "trusted": true
   },
   "outputs": [],
   "source": [
    "from sklearn.metrics import classification_report, precision_recall_fscore_support, accuracy_score\n",
    "\n",
    "def evaluate(model, dataloader, idx2tag, save_report_path=None):\n",
    "    model.eval()\n",
    "    all_preds = []\n",
    "    all_labels = []\n",
    "    total_loss = 0\n",
    "\n",
    "    with torch.no_grad():\n",
    "        for batch in tqdm(dataloader, desc=\"Evaluating\"):\n",
    "            input_ids = batch[\"input_ids\"].to(device)\n",
    "            labels = batch[\"labels\"].to(device)\n",
    "            mask = batch[\"mask\"].to(device)\n",
    "\n",
    "            loss = model(input_ids, labels=labels, mask=mask)\n",
    "            total_loss += loss.item()\n",
    "\n",
    "            predictions = model(input_ids, mask=mask)\n",
    "\n",
    "            for pred_seq, true_seq, mask_seq in zip(predictions, labels, mask):\n",
    "                length = int(mask_seq.sum().item())\n",
    "                pred_seq = pred_seq[:length]\n",
    "                true_seq = true_seq[:length]\n",
    "                all_preds.extend(pred_seq)\n",
    "                all_labels.extend(true_seq.tolist())\n",
    "\n",
    "    pred_tags = [idx2tag[i] for i in all_preds]\n",
    "    true_tags = [idx2tag[i] for i in all_labels]\n",
    "\n",
    "    report = classification_report(true_tags, pred_tags, digits=4, zero_division=0)\n",
    "    print(\"📋 Classification Report:\\n\")\n",
    "    print(report)\n",
    "\n",
    "    if save_report_path:\n",
    "        with open(save_report_path, \"w\") as f:\n",
    "            f.write(report)\n",
    "\n",
    "    precision, recall, f1, _ = precision_recall_fscore_support(\n",
    "        true_tags, pred_tags, average='weighted', zero_division=0\n",
    "    )\n",
    "    accuracy = accuracy_score(true_tags, pred_tags)\n",
    "    avg_loss = total_loss / len(dataloader)\n",
    "\n",
    "    return {\n",
    "        \"val_loss\": avg_loss,\n",
    "        \"precision\": precision,\n",
    "        \"recall\": recall,\n",
    "        \"f1\": f1,\n",
    "        \"accuracy\": accuracy\n",
    "    }"
   ]
  },
  {
   "cell_type": "code",
   "execution_count": 150,
   "id": "5f0008d3-c99a-4ef9-b39b-3bb933b3019e",
   "metadata": {
    "execution": {
     "iopub.execute_input": "2025-05-07T21:50:30.588040Z",
     "iopub.status.busy": "2025-05-07T21:50:30.587468Z",
     "iopub.status.idle": "2025-05-07T21:50:30.594343Z",
     "shell.execute_reply": "2025-05-07T21:50:30.593647Z",
     "shell.execute_reply.started": "2025-05-07T21:50:30.588017Z"
    },
    "trusted": true
   },
   "outputs": [],
   "source": [
    "def train_model(model, train_loader, val_loader, idx2tag, epochs=15, lr=0.001, patience=3):\n",
    "    optimizer = torch.optim.Adam(model.parameters(), lr=lr)\n",
    "    best_val_loss = float(\"inf\")\n",
    "    early_stop_counter = 0\n",
    "\n",
    "    print(f\"{'Epoch':<6} {'TrainLoss':<12} {'ValLoss':<12} {'F1':<8} {'Acc':<8} {'Saved':<6}\")\n",
    "    print(\"-\" * 50)\n",
    "\n",
    "    for epoch in range(1, epochs + 1):\n",
    "        train_loss = train_one_epoch(model, train_loader, optimizer)\n",
    "\n",
    "        val_metrics = evaluate(\n",
    "            model, val_loader, idx2tag\n",
    "        )\n",
    "\n",
    "        val_loss = val_metrics[\"val_loss\"]\n",
    "        f1 = val_metrics[\"f1\"]\n",
    "        acc = val_metrics[\"accuracy\"]\n",
    "\n",
    "        saved = \"\"\n",
    "        if val_loss < best_val_loss:\n",
    "            best_val_loss = val_loss\n",
    "            torch.save(model.state_dict(), \"best_model.pt\")\n",
    "            saved = \"✅\"\n",
    "            early_stop_counter = 0\n",
    "        else:\n",
    "            early_stop_counter += 1\n",
    "\n",
    "        print(f\"{epoch:<6} {train_loss:<12.4f} {val_loss:<12.4f} {f1:<8.4f} {acc:<8.4f} {saved}\")\n",
    "\n",
    "        if early_stop_counter >= patience:\n",
    "            print(f\"\\n⏹️ Early stopping triggered after {patience} bad epochs.\")\n",
    "            break"
   ]
  },
  {
   "cell_type": "code",
   "execution_count": 151,
   "id": "c35612a6-0cc4-4302-9fb0-5bdc7f9ff05c",
   "metadata": {
    "execution": {
     "iopub.execute_input": "2025-05-07T21:50:30.835684Z",
     "iopub.status.busy": "2025-05-07T21:50:30.835160Z",
     "iopub.status.idle": "2025-05-07T21:50:30.839545Z",
     "shell.execute_reply": "2025-05-07T21:50:30.838852Z",
     "shell.execute_reply.started": "2025-05-07T21:50:30.835661Z"
    },
    "trusted": true
   },
   "outputs": [
    {
     "name": "stdout",
     "output_type": "stream",
     "text": [
      "✅ Using device: cuda\n"
     ]
    }
   ],
   "source": [
    "device = torch.device(\"cuda\" if torch.cuda.is_available() else \"cpu\")\n",
    "print(f\"✅ Using device: {device}\")"
   ]
  },
  {
   "cell_type": "code",
   "execution_count": null,
   "id": "b5fdfd33-d9e6-4a08-8f1d-1e9c5659dd9e",
   "metadata": {
    "execution": {
     "iopub.execute_input": "2025-05-07T21:50:31.500398Z",
     "iopub.status.busy": "2025-05-07T21:50:31.499915Z"
    },
    "trusted": true
   },
   "outputs": [
    {
     "name": "stdout",
     "output_type": "stream",
     "text": [
      "Epoch  TrainLoss    ValLoss      F1       Acc      Saved \n",
      "--------------------------------------------------\n"
     ]
    },
    {
     "name": "stderr",
     "output_type": "stream",
     "text": [
      "                                                             \r"
     ]
    },
    {
     "name": "stdout",
     "output_type": "stream",
     "text": [
      "🟢 Avg training loss: 50.8073\n"
     ]
    },
    {
     "name": "stderr",
     "output_type": "stream",
     "text": [
      "Evaluating: 100%|██████████| 309/309 [02:52<00:00,  1.79it/s]\n"
     ]
    },
    {
     "name": "stdout",
     "output_type": "stream",
     "text": [
      "📋 Classification Report:\n",
      "\n",
      "              precision    recall  f1-score   support\n",
      "\n",
      "       B-LOC     0.8601    0.7469    0.7995     51538\n",
      "       B-ORG     0.8116    0.6129    0.6984     54556\n",
      "       B-PER     0.8535    0.5683    0.6823     39446\n",
      "       I-LOC     0.7483    0.5475    0.6323      7423\n",
      "       I-ORG     0.7570    0.6861    0.7198     37324\n",
      "       I-PER     0.8366    0.7277    0.7784     21768\n",
      "           O     0.9670    0.9907    0.9787   1700904\n",
      "\n",
      "    accuracy                         0.9540   1912959\n",
      "   macro avg     0.8334    0.6971    0.7556   1912959\n",
      "weighted avg     0.9509    0.9540    0.9511   1912959\n",
      "\n",
      "1      50.8073      27.6487      0.9511   0.9540   ✅\n"
     ]
    },
    {
     "name": "stderr",
     "output_type": "stream",
     "text": [
      "                                                             \r"
     ]
    },
    {
     "name": "stdout",
     "output_type": "stream",
     "text": [
      "🟢 Avg training loss: 20.7982\n"
     ]
    },
    {
     "name": "stderr",
     "output_type": "stream",
     "text": [
      "Evaluating: 100%|██████████| 309/309 [02:55<00:00,  1.76it/s]\n"
     ]
    },
    {
     "name": "stdout",
     "output_type": "stream",
     "text": [
      "📋 Classification Report:\n",
      "\n",
      "              precision    recall  f1-score   support\n",
      "\n",
      "       B-LOC     0.9014    0.8186    0.8580     51538\n",
      "       B-ORG     0.8406    0.7055    0.7672     54556\n",
      "       B-PER     0.8791    0.6726    0.7621     39446\n",
      "       I-LOC     0.8102    0.6545    0.7240      7423\n",
      "       I-ORG     0.8211    0.7486    0.7831     37324\n",
      "       I-PER     0.8778    0.8051    0.8399     21768\n",
      "           O     0.9758    0.9926    0.9841   1700904\n",
      "\n",
      "    accuracy                         0.9649   1912959\n",
      "   macro avg     0.8723    0.7711    0.8169   1912959\n",
      "weighted avg     0.9631    0.9649    0.9634   1912959\n",
      "\n",
      "2      20.7982      19.6875      0.9634   0.9649   ✅\n"
     ]
    },
    {
     "name": "stderr",
     "output_type": "stream",
     "text": [
      "                                                              \r"
     ]
    },
    {
     "name": "stdout",
     "output_type": "stream",
     "text": [
      "🟢 Avg training loss: 13.1355\n"
     ]
    },
    {
     "name": "stderr",
     "output_type": "stream",
     "text": [
      "Evaluating: 100%|██████████| 309/309 [03:53<00:00,  1.33it/s]\n"
     ]
    },
    {
     "name": "stdout",
     "output_type": "stream",
     "text": [
      "📋 Classification Report:\n",
      "\n",
      "              precision    recall  f1-score   support\n",
      "\n",
      "       B-LOC     0.8929    0.8553    0.8737     51538\n",
      "       B-ORG     0.8332    0.7584    0.7941     54556\n",
      "       B-PER     0.8400    0.7565    0.7960     39446\n",
      "       I-LOC     0.8306    0.6977    0.7584      7423\n",
      "       I-ORG     0.8269    0.7904    0.8083     37324\n",
      "       I-PER     0.8730    0.8488    0.8607     21768\n",
      "           O     0.9822    0.9905    0.9863   1700904\n",
      "\n",
      "    accuracy                         0.9688   1912959\n",
      "   macro avg     0.8684    0.8139    0.8396   1912959\n",
      "weighted avg     0.9677    0.9688    0.9681   1912959\n",
      "\n",
      "3      13.1355      17.2898      0.9681   0.9688   ✅\n"
     ]
    },
    {
     "name": "stderr",
     "output_type": "stream",
     "text": [
      "                                                              \r"
     ]
    },
    {
     "name": "stdout",
     "output_type": "stream",
     "text": [
      "🟢 Avg training loss: 15.2127\n"
     ]
    },
    {
     "name": "stderr",
     "output_type": "stream",
     "text": [
      "Evaluating: 100%|██████████| 309/309 [02:58<00:00,  1.73it/s]\n"
     ]
    },
    {
     "name": "stdout",
     "output_type": "stream",
     "text": [
      "📋 Classification Report:\n",
      "\n",
      "              precision    recall  f1-score   support\n",
      "\n",
      "       B-LOC     0.8415    0.7344    0.7843     51538\n",
      "       B-ORG     0.7281    0.6040    0.6603     54556\n",
      "       B-PER     0.8357    0.5068    0.6310     39446\n",
      "       I-LOC     0.6576    0.4618    0.5426      7423\n",
      "       I-ORG     0.5544    0.7117    0.6233     37324\n",
      "       I-PER     0.7882    0.7065    0.7451     21768\n",
      "           O     0.9696    0.9840    0.9768   1700904\n",
      "\n",
      "    accuracy                         0.9461   1912959\n",
      "   macro avg     0.7679    0.6727    0.7090   1912959\n",
      "weighted avg     0.9452    0.9461    0.9442   1912959\n",
      "\n",
      "4      15.2127      30.0201      0.9442   0.9461   \n"
     ]
    },
    {
     "name": "stderr",
     "output_type": "stream",
     "text": [
      "Training:  27%|██▋       | 383/1439 [08:03<20:53,  1.19s/it]  "
     ]
    }
   ],
   "source": [
    "model = BiLSTM_CRF(\n",
    "    vocab_size=len(word2idx),\n",
    "    tagset_size=len(tag2idx)\n",
    ").to(device)\n",
    "\n",
    "train_model(model, train_loader, val_loader, idx2tag, epochs=15)"
   ]
  },
  {
   "cell_type": "code",
   "execution_count": 43,
   "id": "2f2a293c-4a14-429e-b419-a0d83a67fcec",
   "metadata": {
    "execution": {
     "iopub.execute_input": "2025-05-08T11:03:58.025993Z",
     "iopub.status.busy": "2025-05-08T11:03:58.025681Z",
     "iopub.status.idle": "2025-05-08T11:03:58.034759Z",
     "shell.execute_reply": "2025-05-08T11:03:58.033831Z",
     "shell.execute_reply.started": "2025-05-08T11:03:58.025972Z"
    },
    "trusted": true
   },
   "outputs": [],
   "source": [
    "from sklearn.metrics import classification_report, confusion_matrix, precision_recall_fscore_support, accuracy_score\n",
    "import matplotlib.pyplot as plt\n",
    "import seaborn as sns\n",
    "def predict_on_test_and_plot_confusion_matrix(model, dataloader, idx2tag):\n",
    "    model.eval()\n",
    "    all_preds = []\n",
    "    all_labels = []\n",
    "\n",
    "    with torch.no_grad():\n",
    "        for batch in tqdm(dataloader, desc=\"Predicting on test set\"):\n",
    "            input_ids = batch[\"input_ids\"].to(device)\n",
    "            labels = batch[\"labels\"].to(device)\n",
    "            mask = batch[\"mask\"].to(device)\n",
    "\n",
    "            predictions = model(input_ids, mask=mask)\n",
    "\n",
    "            for pred_seq, true_seq, mask_seq in zip(predictions, labels, mask):\n",
    "                length = int(mask_seq.sum().item())\n",
    "                pred_seq = pred_seq[:length]\n",
    "                true_seq = true_seq[:length]\n",
    "                all_preds.extend(pred_seq)\n",
    "                all_labels.extend(true_seq.tolist())\n",
    "\n",
    "    pred_tags = [idx2tag[i] for i in all_preds]\n",
    "    true_tags = [idx2tag[i] for i in all_labels]\n",
    "\n",
    "    label_to_number = {\n",
    "        'O': 0,\n",
    "        'B-PER': 1,\n",
    "        'I-PER': 2,\n",
    "        'B-ORG': 3,\n",
    "        'I-ORG': 4,\n",
    "        'B-LOC': 5,\n",
    "        'I-LOC': 6,\n",
    "    }\n",
    "    ordered_labels = list(label_to_number.keys())\n",
    "\n",
    "    print(\"\\n📋 Classification Report:\\n\")\n",
    "    print(classification_report(true_tags, pred_tags, labels=ordered_labels, digits=4, zero_division=0))\n",
    "\n",
    "    cm = confusion_matrix(true_tags, pred_tags, labels=ordered_labels)\n",
    "\n",
    "    plt.figure(figsize=(8, 6))\n",
    "    sns.heatmap(\n",
    "        cm,\n",
    "        annot=True,\n",
    "        fmt=\"d\",\n",
    "        cmap=\"Blues\",\n",
    "        xticklabels=ordered_labels,\n",
    "        yticklabels=ordered_labels\n",
    "    )\n",
    "    plt.xlabel(\"Predicted Labels\")\n",
    "    plt.ylabel(\"True Labels\")\n",
    "    plt.title(\"Confusion Matrix on Test Set (BiLSTM-CRF)\")\n",
    "    plt.tight_layout()\n",
    "    plt.show()\n",
    "\n",
    "    precision, recall, f1, _ = precision_recall_fscore_support(\n",
    "        true_tags, pred_tags, average='weighted', zero_division=0\n",
    "    )\n",
    "    accuracy = accuracy_score(true_tags, pred_tags)\n",
    "    print(f\"\\n✅ Weighted Avg — Precision: {precision:.4f} | Recall: {recall:.4f} | F1: {f1:.4f} | Accuracy: {accuracy:.4f}\")"
   ]
  },
  {
   "cell_type": "code",
   "execution_count": 44,
   "id": "62335bd0-89ce-4930-b802-d79f9bc79b7e",
   "metadata": {
    "execution": {
     "iopub.execute_input": "2025-05-08T11:04:08.665532Z",
     "iopub.status.busy": "2025-05-08T11:04:08.665232Z",
     "iopub.status.idle": "2025-05-08T11:05:41.957422Z",
     "shell.execute_reply": "2025-05-08T11:05:41.956760Z",
     "shell.execute_reply.started": "2025-05-08T11:04:08.665511Z"
    },
    "trusted": true
   },
   "outputs": [
    {
     "name": "stderr",
     "output_type": "stream",
     "text": [
      "Predicting on test set: 100%|██████████| 309/309 [00:58<00:00,  5.27it/s]\n"
     ]
    },
    {
     "name": "stdout",
     "output_type": "stream",
     "text": [
      "\n",
      "📋 Classification Report:\n",
      "\n",
      "              precision    recall  f1-score   support\n",
      "\n",
      "           O     0.9822    0.9907    0.9864   1689336\n",
      "       B-PER     0.8454    0.7624    0.8018     40360\n",
      "       I-PER     0.8748    0.8611    0.8679     22036\n",
      "       B-ORG     0.8366    0.7615    0.7973     54611\n",
      "       I-ORG     0.8264    0.7934    0.8095     36726\n",
      "       B-LOC     0.8960    0.8559    0.8755     54571\n",
      "       I-LOC     0.8246    0.6783    0.7443      7803\n",
      "\n",
      "    accuracy                         0.9688   1905443\n",
      "   macro avg     0.8694    0.8148    0.8404   1905443\n",
      "weighted avg     0.9678    0.9688    0.9682   1905443\n",
      "\n"
     ]
    },
    {
     "data": {
      "image/png": "[encoded data removed]",
      "text/plain": [
       "<Figure size 800x600 with 2 Axes>"
      ]
     },
     "metadata": {},
     "output_type": "display_data"
    },
    {
     "name": "stdout",
     "output_type": "stream",
     "text": [
      "\n",
      "✅ Weighted Avg — Precision: 0.9678 | Recall: 0.9688 | F1: 0.9682 | Accuracy: 0.9688\n"
     ]
    }
   ],
   "source": [
    "from tqdm import tqdm\n",
    "predict_on_test_and_plot_confusion_matrix(model, test_loader, idx2tag)"
   ]
  }
 ],
 "metadata": {
  "kaggle": {
   "accelerator": "gpu",
   "dataSources": [
    {
     "datasetId": 7358258,
     "sourceId": 11721635,
     "sourceType": "datasetVersion"
    },
    {
     "datasetId": 7359324,
     "sourceId": 11723390,
     "sourceType": "datasetVersion"
    }
   ],
   "dockerImageVersionId": 31012,
   "isGpuEnabled": true,
   "isInternetEnabled": true,
   "language": "python",
   "sourceType": "notebook"
  },
  "kernelspec": {
   "display_name": "ner-env",
   "language": "python",
   "name": "python3"
  },
  "language_info": {
   "codemirror_mode": {
    "name": "ipython",
    "version": 3
   },
   "file_extension": ".py",
   "mimetype": "text/x-python",
   "name": "python",
   "nbconvert_exporter": "python",
   "pygments_lexer": "ipython3",
   "version": "3.13.3"
  }
 },
 "nbformat": 4,
 "nbformat_minor": 5
}
