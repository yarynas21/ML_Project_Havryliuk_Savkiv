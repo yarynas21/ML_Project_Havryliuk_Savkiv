{
 "cells": [
  {
   "cell_type": "code",
   "execution_count": 5,
   "metadata": {
    "execution": {
     "iopub.execute_input": "2025-05-07T17:08:11.956597Z",
     "iopub.status.busy": "2025-05-07T17:08:11.956236Z",
     "iopub.status.idle": "2025-05-07T17:08:26.049143Z",
     "shell.execute_reply": "2025-05-07T17:08:26.047993Z",
     "shell.execute_reply.started": "2025-05-07T17:08:11.956571Z"
    },
    "trusted": true
   },
   "outputs": [
    {
     "name": "stdout",
     "output_type": "stream",
     "text": [
      "Requirement already satisfied: datasets in /usr/local/lib/python3.10/dist-packages (3.3.1)\n",
      "Requirement already satisfied: filelock in /usr/local/lib/python3.10/dist-packages (from datasets) (3.17.0)\n",
      "Requirement already satisfied: numpy>=1.17 in /usr/local/lib/python3.10/dist-packages (from datasets) (1.26.4)\n",
      "Requirement already satisfied: pyarrow>=15.0.0 in /usr/local/lib/python3.10/dist-packages (from datasets) (19.0.1)\n",
      "Requirement already satisfied: dill<0.3.9,>=0.3.0 in /usr/local/lib/python3.10/dist-packages (from datasets) (0.3.8)\n",
      "Requirement already satisfied: pandas in /usr/local/lib/python3.10/dist-packages (from datasets) (2.2.3)\n",
      "Requirement already satisfied: requests>=2.32.2 in /usr/local/lib/python3.10/dist-packages (from datasets) (2.32.3)\n",
      "Requirement already satisfied: tqdm>=4.66.3 in /usr/local/lib/python3.10/dist-packages (from datasets) (4.67.1)\n",
      "Requirement already satisfied: xxhash in /usr/local/lib/python3.10/dist-packages (from datasets) (3.5.0)\n",
      "Requirement already satisfied: multiprocess<0.70.17 in /usr/local/lib/python3.10/dist-packages (from datasets) (0.70.16)\n",
      "Requirement already satisfied: fsspec<=2024.12.0,>=2023.1.0 in /usr/local/lib/python3.10/dist-packages (from fsspec[http]<=2024.12.0,>=2023.1.0->datasets) (2024.12.0)\n",
      "Requirement already satisfied: aiohttp in /usr/local/lib/python3.10/dist-packages (from datasets) (3.11.12)\n",
      "Requirement already satisfied: huggingface-hub>=0.24.0 in /usr/local/lib/python3.10/dist-packages (from datasets) (0.29.0)\n",
      "Requirement already satisfied: packaging in /usr/local/lib/python3.10/dist-packages (from datasets) (24.2)\n",
      "Requirement already satisfied: pyyaml>=5.1 in /usr/local/lib/python3.10/dist-packages (from datasets) (6.0.2)\n",
      "Requirement already satisfied: aiohappyeyeballs>=2.3.0 in /usr/local/lib/python3.10/dist-packages (from aiohttp->datasets) (2.4.6)\n",
      "Requirement already satisfied: aiosignal>=1.1.2 in /usr/local/lib/python3.10/dist-packages (from aiohttp->datasets) (1.3.2)\n",
      "Requirement already satisfied: async-timeout<6.0,>=4.0 in /usr/local/lib/python3.10/dist-packages (from aiohttp->datasets) (5.0.1)\n",
      "Requirement already satisfied: attrs>=17.3.0 in /usr/local/lib/python3.10/dist-packages (from aiohttp->datasets) (25.1.0)\n",
      "Requirement already satisfied: frozenlist>=1.1.1 in /usr/local/lib/python3.10/dist-packages (from aiohttp->datasets) (1.5.0)\n",
      "Requirement already satisfied: multidict<7.0,>=4.5 in /usr/local/lib/python3.10/dist-packages (from aiohttp->datasets) (6.1.0)\n",
      "Requirement already satisfied: propcache>=0.2.0 in /usr/local/lib/python3.10/dist-packages (from aiohttp->datasets) (0.2.1)\n",
      "Requirement already satisfied: yarl<2.0,>=1.17.0 in /usr/local/lib/python3.10/dist-packages (from aiohttp->datasets) (1.18.3)\n",
      "Requirement already satisfied: typing-extensions>=3.7.4.3 in /usr/local/lib/python3.10/dist-packages (from huggingface-hub>=0.24.0->datasets) (4.12.2)\n",
      "Requirement already satisfied: mkl_fft in /usr/local/lib/python3.10/dist-packages (from numpy>=1.17->datasets) (1.3.8)\n",
      "Requirement already satisfied: mkl_random in /usr/local/lib/python3.10/dist-packages (from numpy>=1.17->datasets) (1.2.4)\n",
      "Requirement already satisfied: mkl_umath in /usr/local/lib/python3.10/dist-packages (from numpy>=1.17->datasets) (0.1.1)\n",
      "Requirement already satisfied: mkl in /usr/local/lib/python3.10/dist-packages (from numpy>=1.17->datasets) (2025.0.1)\n",
      "Requirement already satisfied: tbb4py in /usr/local/lib/python3.10/dist-packages (from numpy>=1.17->datasets) (2022.0.0)\n",
      "Requirement already satisfied: mkl-service in /usr/local/lib/python3.10/dist-packages (from numpy>=1.17->datasets) (2.4.1)\n",
      "Requirement already satisfied: charset-normalizer<4,>=2 in /usr/local/lib/python3.10/dist-packages (from requests>=2.32.2->datasets) (3.4.1)\n",
      "Requirement already satisfied: idna<4,>=2.5 in /usr/local/lib/python3.10/dist-packages (from requests>=2.32.2->datasets) (3.10)\n",
      "Requirement already satisfied: urllib3<3,>=1.21.1 in /usr/local/lib/python3.10/dist-packages (from requests>=2.32.2->datasets) (2.3.0)\n",
      "Requirement already satisfied: certifi>=2017.4.17 in /usr/local/lib/python3.10/dist-packages (from requests>=2.32.2->datasets) (2025.1.31)\n",
      "Requirement already satisfied: python-dateutil>=2.8.2 in /usr/local/lib/python3.10/dist-packages (from pandas->datasets) (2.9.0.post0)\n",
      "Requirement already satisfied: pytz>=2020.1 in /usr/local/lib/python3.10/dist-packages (from pandas->datasets) (2025.1)\n",
      "Requirement already satisfied: tzdata>=2022.7 in /usr/local/lib/python3.10/dist-packages (from pandas->datasets) (2025.1)\n",
      "Requirement already satisfied: six>=1.5 in /usr/local/lib/python3.10/dist-packages (from python-dateutil>=2.8.2->pandas->datasets) (1.17.0)\n",
      "Requirement already satisfied: intel-openmp>=2024 in /usr/local/lib/python3.10/dist-packages (from mkl->numpy>=1.17->datasets) (2024.2.0)\n",
      "Requirement already satisfied: tbb==2022.* in /usr/local/lib/python3.10/dist-packages (from mkl->numpy>=1.17->datasets) (2022.0.0)\n",
      "Requirement already satisfied: tcmlib==1.* in /usr/local/lib/python3.10/dist-packages (from tbb==2022.*->mkl->numpy>=1.17->datasets) (1.2.0)\n",
      "Requirement already satisfied: intel-cmplr-lib-rt in /usr/local/lib/python3.10/dist-packages (from mkl_umath->numpy>=1.17->datasets) (2024.2.0)\n",
      "Requirement already satisfied: intel-cmplr-lib-ur==2024.2.0 in /usr/local/lib/python3.10/dist-packages (from intel-openmp>=2024->mkl->numpy>=1.17->datasets) (2024.2.0)\n",
      "Collecting evaluate\n",
      "  Downloading evaluate-0.4.3-py3-none-any.whl.metadata (9.2 kB)\n",
      "Requirement already satisfied: datasets>=2.0.0 in /usr/local/lib/python3.10/dist-packages (from evaluate) (3.3.1)\n",
      "Requirement already satisfied: numpy>=1.17 in /usr/local/lib/python3.10/dist-packages (from evaluate) (1.26.4)\n",
      "Requirement already satisfied: dill in /usr/local/lib/python3.10/dist-packages (from evaluate) (0.3.8)\n",
      "Requirement already satisfied: pandas in /usr/local/lib/python3.10/dist-packages (from evaluate) (2.2.3)\n",
      "Requirement already satisfied: requests>=2.19.0 in /usr/local/lib/python3.10/dist-packages (from evaluate) (2.32.3)\n",
      "Requirement already satisfied: tqdm>=4.62.1 in /usr/local/lib/python3.10/dist-packages (from evaluate) (4.67.1)\n",
      "Requirement already satisfied: xxhash in /usr/local/lib/python3.10/dist-packages (from evaluate) (3.5.0)\n",
      "Requirement already satisfied: multiprocess in /usr/local/lib/python3.10/dist-packages (from evaluate) (0.70.16)\n",
      "Requirement already satisfied: fsspec>=2021.05.0 in /usr/local/lib/python3.10/dist-packages (from fsspec[http]>=2021.05.0->evaluate) (2024.12.0)\n",
      "Requirement already satisfied: huggingface-hub>=0.7.0 in /usr/local/lib/python3.10/dist-packages (from evaluate) (0.29.0)\n",
      "Requirement already satisfied: packaging in /usr/local/lib/python3.10/dist-packages (from evaluate) (24.2)\n",
      "Requirement already satisfied: filelock in /usr/local/lib/python3.10/dist-packages (from datasets>=2.0.0->evaluate) (3.17.0)\n",
      "Requirement already satisfied: pyarrow>=15.0.0 in /usr/local/lib/python3.10/dist-packages (from datasets>=2.0.0->evaluate) (19.0.1)\n",
      "Requirement already satisfied: aiohttp in /usr/local/lib/python3.10/dist-packages (from datasets>=2.0.0->evaluate) (3.11.12)\n",
      "Requirement already satisfied: pyyaml>=5.1 in /usr/local/lib/python3.10/dist-packages (from datasets>=2.0.0->evaluate) (6.0.2)\n",
      "Requirement already satisfied: typing-extensions>=3.7.4.3 in /usr/local/lib/python3.10/dist-packages (from huggingface-hub>=0.7.0->evaluate) (4.12.2)\n",
      "Requirement already satisfied: mkl_fft in /usr/local/lib/python3.10/dist-packages (from numpy>=1.17->evaluate) (1.3.8)\n",
      "Requirement already satisfied: mkl_random in /usr/local/lib/python3.10/dist-packages (from numpy>=1.17->evaluate) (1.2.4)\n",
      "Requirement already satisfied: mkl_umath in /usr/local/lib/python3.10/dist-packages (from numpy>=1.17->evaluate) (0.1.1)\n",
      "Requirement already satisfied: mkl in /usr/local/lib/python3.10/dist-packages (from numpy>=1.17->evaluate) (2025.0.1)\n",
      "Requirement already satisfied: tbb4py in /usr/local/lib/python3.10/dist-packages (from numpy>=1.17->evaluate) (2022.0.0)\n",
      "Requirement already satisfied: mkl-service in /usr/local/lib/python3.10/dist-packages (from numpy>=1.17->evaluate) (2.4.1)\n",
      "Requirement already satisfied: charset-normalizer<4,>=2 in /usr/local/lib/python3.10/dist-packages (from requests>=2.19.0->evaluate) (3.4.1)\n",
      "Requirement already satisfied: idna<4,>=2.5 in /usr/local/lib/python3.10/dist-packages (from requests>=2.19.0->evaluate) (3.10)\n",
      "Requirement already satisfied: urllib3<3,>=1.21.1 in /usr/local/lib/python3.10/dist-packages (from requests>=2.19.0->evaluate) (2.3.0)\n",
      "Requirement already satisfied: certifi>=2017.4.17 in /usr/local/lib/python3.10/dist-packages (from requests>=2.19.0->evaluate) (2025.1.31)\n",
      "Requirement already satisfied: python-dateutil>=2.8.2 in /usr/local/lib/python3.10/dist-packages (from pandas->evaluate) (2.9.0.post0)\n",
      "Requirement already satisfied: pytz>=2020.1 in /usr/local/lib/python3.10/dist-packages (from pandas->evaluate) (2025.1)\n",
      "Requirement already satisfied: tzdata>=2022.7 in /usr/local/lib/python3.10/dist-packages (from pandas->evaluate) (2025.1)\n",
      "Requirement already satisfied: aiohappyeyeballs>=2.3.0 in /usr/local/lib/python3.10/dist-packages (from aiohttp->datasets>=2.0.0->evaluate) (2.4.6)\n",
      "Requirement already satisfied: aiosignal>=1.1.2 in /usr/local/lib/python3.10/dist-packages (from aiohttp->datasets>=2.0.0->evaluate) (1.3.2)\n",
      "Requirement already satisfied: async-timeout<6.0,>=4.0 in /usr/local/lib/python3.10/dist-packages (from aiohttp->datasets>=2.0.0->evaluate) (5.0.1)\n",
      "Requirement already satisfied: attrs>=17.3.0 in /usr/local/lib/python3.10/dist-packages (from aiohttp->datasets>=2.0.0->evaluate) (25.1.0)\n",
      "Requirement already satisfied: frozenlist>=1.1.1 in /usr/local/lib/python3.10/dist-packages (from aiohttp->datasets>=2.0.0->evaluate) (1.5.0)\n",
      "Requirement already satisfied: multidict<7.0,>=4.5 in /usr/local/lib/python3.10/dist-packages (from aiohttp->datasets>=2.0.0->evaluate) (6.1.0)\n",
      "Requirement already satisfied: propcache>=0.2.0 in /usr/local/lib/python3.10/dist-packages (from aiohttp->datasets>=2.0.0->evaluate) (0.2.1)\n",
      "Requirement already satisfied: yarl<2.0,>=1.17.0 in /usr/local/lib/python3.10/dist-packages (from aiohttp->datasets>=2.0.0->evaluate) (1.18.3)\n",
      "Requirement already satisfied: six>=1.5 in /usr/local/lib/python3.10/dist-packages (from python-dateutil>=2.8.2->pandas->evaluate) (1.17.0)\n",
      "Requirement already satisfied: intel-openmp>=2024 in /usr/local/lib/python3.10/dist-packages (from mkl->numpy>=1.17->evaluate) (2024.2.0)\n",
      "Requirement already satisfied: tbb==2022.* in /usr/local/lib/python3.10/dist-packages (from mkl->numpy>=1.17->evaluate) (2022.0.0)\n",
      "Requirement already satisfied: tcmlib==1.* in /usr/local/lib/python3.10/dist-packages (from tbb==2022.*->mkl->numpy>=1.17->evaluate) (1.2.0)\n",
      "Requirement already satisfied: intel-cmplr-lib-rt in /usr/local/lib/python3.10/dist-packages (from mkl_umath->numpy>=1.17->evaluate) (2024.2.0)\n",
      "Requirement already satisfied: intel-cmplr-lib-ur==2024.2.0 in /usr/local/lib/python3.10/dist-packages (from intel-openmp>=2024->mkl->numpy>=1.17->evaluate) (2024.2.0)\n",
      "Downloading evaluate-0.4.3-py3-none-any.whl (84 kB)\n",
      "\u001b[2K   \u001b[90m━━━━━━━━━━━━━━━━━━━━━━━━━━━━━━━━━━━━━━━━\u001b[0m \u001b[32m84.0/84.0 kB\u001b[0m \u001b[31m2.6 MB/s\u001b[0m eta \u001b[36m0:00:00\u001b[0m\n",
      "\u001b[?25hInstalling collected packages: evaluate\n",
      "Successfully installed evaluate-0.4.3\n",
      "Collecting seqeval\n",
      "  Downloading seqeval-1.2.2.tar.gz (43 kB)\n",
      "\u001b[2K     \u001b[90m━━━━━━━━━━━━━━━━━━━━━━━━━━━━━━━━━━━━━━━━\u001b[0m \u001b[32m43.6/43.6 kB\u001b[0m \u001b[31m1.4 MB/s\u001b[0m eta \u001b[36m0:00:00\u001b[0m\n",
      "\u001b[?25h  Preparing metadata (setup.py) ... \u001b[?25l\u001b[?25hdone\n",
      "Requirement already satisfied: numpy>=1.14.0 in /usr/local/lib/python3.10/dist-packages (from seqeval) (1.26.4)\n",
      "Requirement already satisfied: scikit-learn>=0.21.3 in /usr/local/lib/python3.10/dist-packages (from seqeval) (1.2.2)\n",
      "Requirement already satisfied: mkl_fft in /usr/local/lib/python3.10/dist-packages (from numpy>=1.14.0->seqeval) (1.3.8)\n",
      "Requirement already satisfied: mkl_random in /usr/local/lib/python3.10/dist-packages (from numpy>=1.14.0->seqeval) (1.2.4)\n",
      "Requirement already satisfied: mkl_umath in /usr/local/lib/python3.10/dist-packages (from numpy>=1.14.0->seqeval) (0.1.1)\n",
      "Requirement already satisfied: mkl in /usr/local/lib/python3.10/dist-packages (from numpy>=1.14.0->seqeval) (2025.0.1)\n",
      "Requirement already satisfied: tbb4py in /usr/local/lib/python3.10/dist-packages (from numpy>=1.14.0->seqeval) (2022.0.0)\n",
      "Requirement already satisfied: mkl-service in /usr/local/lib/python3.10/dist-packages (from numpy>=1.14.0->seqeval) (2.4.1)\n",
      "Requirement already satisfied: scipy>=1.3.2 in /usr/local/lib/python3.10/dist-packages (from scikit-learn>=0.21.3->seqeval) (1.13.1)\n",
      "Requirement already satisfied: joblib>=1.1.1 in /usr/local/lib/python3.10/dist-packages (from scikit-learn>=0.21.3->seqeval) (1.4.2)\n",
      "Requirement already satisfied: threadpoolctl>=2.0.0 in /usr/local/lib/python3.10/dist-packages (from scikit-learn>=0.21.3->seqeval) (3.5.0)\n",
      "Requirement already satisfied: intel-openmp>=2024 in /usr/local/lib/python3.10/dist-packages (from mkl->numpy>=1.14.0->seqeval) (2024.2.0)\n",
      "Requirement already satisfied: tbb==2022.* in /usr/local/lib/python3.10/dist-packages (from mkl->numpy>=1.14.0->seqeval) (2022.0.0)\n",
      "Requirement already satisfied: tcmlib==1.* in /usr/local/lib/python3.10/dist-packages (from tbb==2022.*->mkl->numpy>=1.14.0->seqeval) (1.2.0)\n",
      "Requirement already satisfied: intel-cmplr-lib-rt in /usr/local/lib/python3.10/dist-packages (from mkl_umath->numpy>=1.14.0->seqeval) (2024.2.0)\n",
      "Requirement already satisfied: intel-cmplr-lib-ur==2024.2.0 in /usr/local/lib/python3.10/dist-packages (from intel-openmp>=2024->mkl->numpy>=1.14.0->seqeval) (2024.2.0)\n",
      "Building wheels for collected packages: seqeval\n",
      "  Building wheel for seqeval (setup.py) ... \u001b[?25l\u001b[?25hdone\n",
      "  Created wheel for seqeval: filename=seqeval-1.2.2-py3-none-any.whl size=16161 sha256=ba72b76df0c725b880b97182b27a6d3d9d50a073838a91f1417eff30b879594e\n",
      "  Stored in directory: /root/.cache/pip/wheels/1a/67/4a/ad4082dd7dfc30f2abfe4d80a2ed5926a506eb8a972b4767fa\n",
      "Successfully built seqeval\n",
      "Installing collected packages: seqeval\n",
      "Successfully installed seqeval-1.2.2\n"
     ]
    }
   ],
   "source": [
    "!pip3 install datasets\n",
    "!pip install evaluate\n",
    "!pip install seqeval"
   ]
  },
  {
   "cell_type": "code",
   "execution_count": 1,
   "metadata": {
    "execution": {
     "iopub.execute_input": "2025-05-08T21:52:56.287114Z",
     "iopub.status.busy": "2025-05-08T21:52:56.286883Z",
     "iopub.status.idle": "2025-05-08T21:53:00.074673Z",
     "shell.execute_reply": "2025-05-08T21:53:00.073889Z",
     "shell.execute_reply.started": "2025-05-08T21:52:56.287093Z"
    },
    "trusted": true
   },
   "outputs": [],
   "source": [
    "import pandas as pd\n",
    "import numpy as np\n",
    "import ast\n",
    "import matplotlib.pyplot as plt\n",
    "import seaborn as sns\n",
    "from sklearn.model_selection import train_test_split\n",
    "from datasets import Dataset, DatasetDict\n",
    "# import torch"
   ]
  },
  {
   "cell_type": "code",
   "execution_count": 7,
   "metadata": {
    "execution": {
     "iopub.execute_input": "2025-05-08T10:29:07.686885Z",
     "iopub.status.busy": "2025-05-08T10:29:07.686261Z",
     "iopub.status.idle": "2025-05-08T10:29:24.485881Z",
     "shell.execute_reply": "2025-05-08T10:29:24.485103Z",
     "shell.execute_reply.started": "2025-05-08T10:29:07.686857Z"
    },
    "trusted": true
   },
   "outputs": [],
   "source": [
    "df = pd.read_csv('/kaggle/input/ukr-news/output.csv')"
   ]
  },
  {
   "cell_type": "code",
   "execution_count": 8,
   "metadata": {
    "execution": {
     "iopub.execute_input": "2025-05-07T17:08:43.615494Z",
     "iopub.status.busy": "2025-05-07T17:08:43.615155Z",
     "iopub.status.idle": "2025-05-07T17:08:43.621710Z",
     "shell.execute_reply": "2025-05-07T17:08:43.620731Z",
     "shell.execute_reply.started": "2025-05-07T17:08:43.615464Z"
    },
    "trusted": true
   },
   "outputs": [
    {
     "data": {
      "text/plain": [
       "Index(['Id', 'title', 'title_words', 'title_word_offsets', 'title_word_labels',\n",
       "       'text', 'text_words', 'text_word_offsets', 'text_word_labels',\n",
       "       'source'],\n",
       "      dtype='object')"
      ]
     },
     "execution_count": 8,
     "metadata": {},
     "output_type": "execute_result"
    }
   ],
   "source": [
    "df.columns"
   ]
  },
  {
   "cell_type": "code",
   "execution_count": 9,
   "metadata": {
    "execution": {
     "iopub.execute_input": "2025-05-07T17:08:43.622808Z",
     "iopub.status.busy": "2025-05-07T17:08:43.622588Z",
     "iopub.status.idle": "2025-05-07T17:08:43.643746Z",
     "shell.execute_reply": "2025-05-07T17:08:43.642954Z",
     "shell.execute_reply.started": "2025-05-07T17:08:43.622788Z"
    },
    "trusted": true
   },
   "outputs": [
    {
     "data": {
      "text/plain": [
       "'[[\\'Напередодні\\', \\'річниці\\', \\'76-денно\\', \\'локдауну\\', \\'в\\', \\'Ухані\\', \\'-\\', \\'місті,\\', \\'де\\', \\'вперше\\', \\'був\\', \\'виявлений\\', \\'коронавірус\\', \\'—\\', \\'Китай\\', \\'випустив\\', \\'документальний\\', \\'фільм.\\'], [\\'У\\', \\'випущеному\\', \\'за\\', \\'підтримки\\', \\'держави\\', \\'документальному\\', \\'фільмі\\', \\'під\\', \\'назвою\\', \\'Days\\', \\'and\\', \\'Nights\\', \\'in\\', \\'Wuhan\\', \\'(Дні\\', \\'та\\', \\'ночі\\', \\'в\\', \\'Ухані)\\', \\'представлені\\', \\'матеріали\\', \\'30\\', \\'режисерів,\\', \\'що\\', \\'зображують\\', \\'страждання\\', \\'і\\', \\'жертви,\\', \\'принесені\\', \\'11\\', \\'мільйонами\\', \\'жителів\\', \\'міста,\\', \\'медичним\\', \\'персоналом\\', \\'та\\', \\'працівниками\\', \\'на\\', \\'передовій\\', \\'боротьби\\', \\'з\\', \\'вірусом,\\', \\'який\\', \\'почав\\', \\'поширюватися\\', \\'містом\\', \\'у\\', \\'грудні\\', \\'2019\\', \\'року,\\', \\'повідомляє\\', \\'AP.\\'], [\\'Фільм\\', \\'режисера\\', \\'Цао\\', \\'Цзіньліна\\', \\'є\\', \\'одним\\', \\'з\\', \\'трьох\\', \\'випущених\\', \\'документальних\\', \\'фільмів\\', \\'про\\', \\'карантин\\', \\'в\\', \\'Ухані\\', \\'й\\', \\'перегукується\\', \\'з\\', \\'офіційною\\', \\'лінією\\', \\'Китаю\\', \\'про\\', \\'те,\\', \\'що\\', \\'вжиті\\', \\'заходи,\\', \\'в\\', \\'тому\\', \\'числі\\', \\'ізоляція,\\', \\'дозволили\\', \\'світові\\', \\'виграти\\', \\'дорогоцінний\\', \\'час\\', \\'для\\', \\'підготовки\\', \\'до\\', \\'пандемії.\\'], [\\'Свій\\', \\'фільм\\', \\'Coronation\\', \\'(Коронація)\\', \\'також\\', \\'випустив\\', \\'художник-активіст\\', \\'Ай\\', \\'Вейвей,\\', \\'який\\', \\'через\\', \\'переслідування\\', \\'Комуністичною\\', \\'партією\\', \\'був\\', \\'змушений\\', \\'оселитися\\', \\'за\\', \\'кордоном.\\'], [\\'На\\', \\'відміну\\', \\'від\\', \\'фільму\\', \\'опального\\', \\'Вейвея,\\', \\'Дні\\', \\'та\\', \\'ночі\\', \\'в\\', \\'Ухані\\', \\'мають\\', \\'сильну\\', \\'державну\\', \\'підтримку,\\', \\'а\\', \\'значить\\', \\'доступ\\', \\'до\\', \\'фестивалів,\\', \\'кінотеатрів\\', \\'і\\', \\'потокових\\', \\'сервісів.\\'], [\\'Картина\\', \\'Цзіньліна\\', \\'в\\', \"п\\'ятницю,\", \\'22\\', \\'січня,\\', \\'виходить\\', \\'в\\', \\'прокат\\', \\'в\\', \\'містах\\', \\'Китаю.\\'], [\\'Нагадаємо,\\', \\'локдаун\\', \\'в\\', \\'Ухані\\', \\'був\\', \\'введений\\', \\'23\\', \\'січня\\', \\'2020\\', \\'року,\\', \\'а\\', \\'потім\\', \\'поширений\\', \\'на\\', \\'прилеглі\\', \\'райони\\', \\'провінції\\', \\'Хубей,\\', \\'залишивши\\', \\'закритими\\', \\'в\\', \\'своїх\\', \\'будинках\\', \\'близько\\', \\'56\\', \\'мільйонів\\', \\'чоловік.\\'], [\\'«Ми\\', \\'хотіли\\', \\'зняти\\', \\'фільм\\', \\'про\\', \\'боротьбу\\', \\'з\\', \\'епідемією\\', \\'COVID-19.\\'], [\\'Деякі\\', \\'деталі,\\', \\'в\\', \\'тому\\', \\'числі\\', \\'інтенсивна\\', \\'турбота,\\', \\'тривожне\\', \\'очікування,\\', \\'несамовите\\', \\'прощання\\', \\'й\\', \\'обнадійливі\\', \\'переродження,\\', \\'можуть\\', \\'викликати\\', \\'відгук\\', \\'у\\', \\'глядачів»,\\', \\'-\\', \\'цитує\\', \\'Цао\\', \\'Цзіньліна\\', \\'державна\\', \\'телекомпанія\\', \\'CCTV.\\'], [\\'Відзначимо,\\', \\'недавнє\\', \\'дослідження\\', \\'показало,\\', \\'що\\', \\'тисячі\\', \\'жителів\\', \\'Ухань\\', \\'були\\', \\'інфіковані\\', \\'COVID-19\\', \\'після\\', \\'того,\\', \\'як\\', \\'новий\\', \\'коронавірус,\\', \\'як\\', \\'вважалося,\\', \\'був\\', \\'узятий\\', \\'під\\', \\'контроль\\', \\'в\\', \\'Китаї.\\']]'"
      ]
     },
     "execution_count": 9,
     "metadata": {},
     "output_type": "execute_result"
    }
   ],
   "source": [
    "df['text_words'][0]"
   ]
  },
  {
   "cell_type": "code",
   "execution_count": 10,
   "metadata": {
    "execution": {
     "iopub.execute_input": "2025-05-07T17:08:43.645010Z",
     "iopub.status.busy": "2025-05-07T17:08:43.644734Z",
     "iopub.status.idle": "2025-05-07T17:08:43.660961Z",
     "shell.execute_reply": "2025-05-07T17:08:43.660172Z",
     "shell.execute_reply.started": "2025-05-07T17:08:43.644983Z"
    },
    "trusted": true
   },
   "outputs": [
    {
     "data": {
      "text/plain": [
       "\"[['O', 'O', 'O', 'O', 'O', 'B-LOC', 'O', 'O', 'O', 'O', 'O', 'O', 'O', 'O', 'B-LOC', 'O', 'O', 'O'], ['O', 'O', 'O', 'O', 'O', 'O', 'O', 'O', 'O', 'O', 'O', 'O', 'O', 'O', 'O', 'O', 'O', 'O', 'B-LOC', 'O', 'O', 'O', 'O', 'O', 'O', 'O', 'O', 'O', 'O', 'O', 'O', 'O', 'O', 'O', 'O', 'O', 'O', 'O', 'O', 'O', 'O', 'O', 'O', 'O', 'O', 'O', 'O', 'O', 'O', 'O', 'O', 'B-ORG'], ['O', 'O', 'B-PER', 'I-PER', 'O', 'O', 'O', 'O', 'O', 'O', 'O', 'O', 'O', 'O', 'B-LOC', 'O', 'O', 'O', 'O', 'O', 'B-LOC', 'O', 'O', 'O', 'O', 'O', 'O', 'O', 'O', 'O', 'O', 'O', 'O', 'O', 'O', 'O', 'O', 'O', 'O'], ['O', 'O', 'O', 'O', 'O', 'O', 'O', 'B-PER', 'I-PER', 'O', 'O', 'O', 'B-ORG', 'I-ORG', 'O', 'O', 'O', 'O', 'O'], ['O', 'O', 'O', 'O', 'O', 'B-LOC', 'B-LOC', 'O', 'O', 'O', 'B-LOC', 'O', 'O', 'O', 'O', 'O', 'O', 'O', 'O', 'O', 'O', 'O', 'O', 'O'], ['O', 'B-PER', 'O', 'O', 'O', 'O', 'O', 'O', 'O', 'O', 'O', 'B-LOC'], ['O', 'O', 'O', 'B-LOC', 'O', 'O', 'O', 'O', 'O', 'O', 'O', 'O', 'O', 'O', 'O', 'O', 'O', 'B-LOC', 'O', 'O', 'O', 'O', 'O', 'O', 'O', 'O', 'O'], ['O', 'O', 'O', 'O', 'O', 'O', 'O', 'O', 'O'], ['O', 'O', 'O', 'O', 'O', 'O', 'O', 'O', 'O', 'O', 'O', 'O', 'O', 'O', 'O', 'O', 'O', 'O', 'O', 'O', 'O', 'B-PER', 'I-PER', 'O', 'O', 'B-ORG'], ['O', 'O', 'O', 'O', 'O', 'O', 'O', 'B-LOC', 'O', 'O', 'O', 'O', 'O', 'O', 'O', 'O', 'O', 'O', 'O', 'O', 'O', 'O', 'O', 'B-LOC']]\""
      ]
     },
     "execution_count": 10,
     "metadata": {},
     "output_type": "execute_result"
    }
   ],
   "source": [
    "df['text_word_labels'][0]"
   ]
  },
  {
   "cell_type": "code",
   "execution_count": 11,
   "metadata": {
    "execution": {
     "iopub.execute_input": "2025-05-07T17:08:43.662076Z",
     "iopub.status.busy": "2025-05-07T17:08:43.661810Z",
     "iopub.status.idle": "2025-05-07T17:09:46.503059Z",
     "shell.execute_reply": "2025-05-07T17:09:46.502413Z",
     "shell.execute_reply.started": "2025-05-07T17:08:43.662049Z"
    },
    "trusted": true
   },
   "outputs": [],
   "source": [
    "df['text_words'] = df['text_words'].apply(ast.literal_eval)\n",
    "df['text_word_labels'] = df['text_word_labels'].apply(ast.literal_eval)"
   ]
  },
  {
   "cell_type": "code",
   "execution_count": 12,
   "metadata": {
    "execution": {
     "iopub.execute_input": "2025-05-07T17:09:46.505648Z",
     "iopub.status.busy": "2025-05-07T17:09:46.505389Z",
     "iopub.status.idle": "2025-05-07T17:09:46.508907Z",
     "shell.execute_reply": "2025-05-07T17:09:46.508044Z",
     "shell.execute_reply.started": "2025-05-07T17:09:46.505626Z"
    },
    "trusted": true
   },
   "outputs": [],
   "source": [
    "# df['text_words'][0]"
   ]
  },
  {
   "cell_type": "code",
   "execution_count": 13,
   "metadata": {
    "execution": {
     "iopub.execute_input": "2025-05-07T17:09:46.511054Z",
     "iopub.status.busy": "2025-05-07T17:09:46.510754Z",
     "iopub.status.idle": "2025-05-07T17:09:47.382381Z",
     "shell.execute_reply": "2025-05-07T17:09:47.381460Z",
     "shell.execute_reply.started": "2025-05-07T17:09:46.511031Z"
    },
    "trusted": true
   },
   "outputs": [
    {
     "data": {
      "text/plain": [
       "{'B-LOC', 'B-ORG', 'B-PER', 'I-LOC', 'I-ORG', 'I-PER', 'O'}"
      ]
     },
     "execution_count": 13,
     "metadata": {},
     "output_type": "execute_result"
    }
   ],
   "source": [
    "unique_labels_cleaned = set(label for sublist in df['text_word_labels'].explode() for label in sublist)\n",
    "unique_labels_cleaned"
   ]
  },
  {
   "cell_type": "code",
   "execution_count": 14,
   "metadata": {
    "execution": {
     "iopub.execute_input": "2025-05-07T17:09:47.383685Z",
     "iopub.status.busy": "2025-05-07T17:09:47.383332Z",
     "iopub.status.idle": "2025-05-07T17:09:47.992948Z",
     "shell.execute_reply": "2025-05-07T17:09:47.991939Z",
     "shell.execute_reply.started": "2025-05-07T17:09:47.383651Z"
    },
    "trusted": true
   },
   "outputs": [
    {
     "data": {
      "text/plain": [
       "0        True\n",
       "1        True\n",
       "2        True\n",
       "3        True\n",
       "4        True\n",
       "         ... \n",
       "49528    True\n",
       "49529    True\n",
       "49530    True\n",
       "49531    True\n",
       "49532    True\n",
       "Length: 49533, dtype: bool"
      ]
     },
     "execution_count": 14,
     "metadata": {},
     "output_type": "execute_result"
    }
   ],
   "source": [
    "length_check_all = df.apply(lambda row: all(len(words) == len(labels) for words, labels in zip(row['text_words'], row['text_word_labels'])), axis=1)\n",
    "length_check_all"
   ]
  },
  {
   "cell_type": "code",
   "execution_count": 15,
   "metadata": {
    "execution": {
     "iopub.execute_input": "2025-05-07T17:09:47.994270Z",
     "iopub.status.busy": "2025-05-07T17:09:47.993977Z",
     "iopub.status.idle": "2025-05-07T17:09:48.006971Z",
     "shell.execute_reply": "2025-05-07T17:09:48.006105Z",
     "shell.execute_reply.started": "2025-05-07T17:09:47.994244Z"
    },
    "trusted": true
   },
   "outputs": [
    {
     "data": {
      "text/plain": [
       "0"
      ]
     },
     "execution_count": 15,
     "metadata": {},
     "output_type": "execute_result"
    }
   ],
   "source": [
    "false_count = length_check_all.value_counts().get(False, 0)\n",
    "false_count"
   ]
  },
  {
   "cell_type": "code",
   "execution_count": 16,
   "metadata": {
    "execution": {
     "iopub.execute_input": "2025-05-07T17:09:48.007951Z",
     "iopub.status.busy": "2025-05-07T17:09:48.007757Z",
     "iopub.status.idle": "2025-05-07T17:09:52.833953Z",
     "shell.execute_reply": "2025-05-07T17:09:52.833207Z",
     "shell.execute_reply.started": "2025-05-07T17:09:48.007934Z"
    },
    "trusted": true
   },
   "outputs": [
    {
     "data": {
      "text/plain": [
       "{'LOC': 401741, 'ORG': 604756, 'PER': 404455, 'O': 13649575}"
      ]
     },
     "execution_count": 16,
     "metadata": {},
     "output_type": "execute_result"
    }
   ],
   "source": [
    "entities_count = {\n",
    "    'LOC': sum(label in ['B-LOC', 'I-LOC'] for sublist in df['text_word_labels'].explode() for label in sublist),\n",
    "    'ORG': sum(label in ['B-ORG', 'I-ORG'] for sublist in df['text_word_labels'].explode() for label in sublist),\n",
    "    'PER': sum(label in ['B-PER', 'I-PER'] for sublist in df['text_word_labels'].explode() for label in sublist),\n",
    "    'O': sum(label == 'O' for sublist in df['text_word_labels'].explode() for label in sublist)\n",
    "}\n",
    "entities_count"
   ]
  },
  {
   "cell_type": "code",
   "execution_count": 17,
   "metadata": {
    "execution": {
     "iopub.execute_input": "2025-05-07T17:09:52.834828Z",
     "iopub.status.busy": "2025-05-07T17:09:52.834624Z",
     "iopub.status.idle": "2025-05-07T17:09:52.838523Z",
     "shell.execute_reply": "2025-05-07T17:09:52.837649Z",
     "shell.execute_reply.started": "2025-05-07T17:09:52.834811Z"
    },
    "trusted": true
   },
   "outputs": [],
   "source": [
    "total_labels = sum(entities_count.values())\n",
    "percentages = {key: (value / total_labels) * 100 for key, value in entities_count.items()}"
   ]
  },
  {
   "cell_type": "code",
   "execution_count": 18,
   "metadata": {
    "execution": {
     "iopub.execute_input": "2025-05-07T17:09:52.839738Z",
     "iopub.status.busy": "2025-05-07T17:09:52.839494Z",
     "iopub.status.idle": "2025-05-07T17:09:53.070166Z",
     "shell.execute_reply": "2025-05-07T17:09:53.069276Z",
     "shell.execute_reply.started": "2025-05-07T17:09:52.839719Z"
    },
    "trusted": true
   },
   "outputs": [
    {
     "data": {
      "image/png": "[encoded data removed]",
      "text/plain": [
       "<Figure size 800x800 with 1 Axes>"
      ]
     },
     "metadata": {},
     "output_type": "display_data"
    }
   ],
   "source": [
    "import matplotlib.pyplot as plt\n",
    "soft_colors = ['#A3D8F4', '#F5A9B8', '#F9E79F', '#D4EFDF']\n",
    "\n",
    "plt.figure(figsize=(8, 8))\n",
    "plt.pie(percentages.values(), labels=percentages.keys(), autopct='%1.2f%%', startangle=90, colors=soft_colors)\n",
    "\n",
    "plt.title('Label Distribution by Categories (in Percentage)')\n",
    "plt.show()"
   ]
  },
  {
   "cell_type": "code",
   "execution_count": 19,
   "metadata": {
    "execution": {
     "iopub.execute_input": "2025-05-07T17:09:53.071358Z",
     "iopub.status.busy": "2025-05-07T17:09:53.071068Z",
     "iopub.status.idle": "2025-05-07T17:09:53.172797Z",
     "shell.execute_reply": "2025-05-07T17:09:53.172050Z",
     "shell.execute_reply.started": "2025-05-07T17:09:53.071327Z"
    },
    "trusted": true
   },
   "outputs": [
    {
     "data": {
      "image/png": "[encoded data removed]",
      "text/plain": [
       "<Figure size 800x800 with 1 Axes>"
      ]
     },
     "metadata": {},
     "output_type": "display_data"
    }
   ],
   "source": [
    "entities_count_without_O = {key: value for key, value in entities_count.items() if key != 'O'}\n",
    "\n",
    "total_without_O = sum(entities_count_without_O.values())\n",
    "percentages_without_O = {key: (value / total_without_O) * 100 for key, value in entities_count_without_O.items()}\n",
    "soft_colors_without_O = ['#A3D8F4', '#F5A9B8', '#F9E79F']\n",
    "plt.figure(figsize=(8, 8))\n",
    "plt.pie(percentages_without_O.values(), labels=percentages_without_O.keys(), autopct='%1.2f%%', startangle=90, colors=soft_colors_without_O)\n",
    "\n",
    "plt.title('Label Distribution by Categories (Excluding \"O\")')\n",
    "\n",
    "plt.show()"
   ]
  },
  {
   "cell_type": "markdown",
   "metadata": {},
   "source": [
    "## Видалення стоп слів"
   ]
  },
  {
   "cell_type": "code",
   "execution_count": 20,
   "metadata": {
    "execution": {
     "iopub.execute_input": "2025-05-07T17:09:53.173853Z",
     "iopub.status.busy": "2025-05-07T17:09:53.173619Z",
     "iopub.status.idle": "2025-05-07T17:09:53.177999Z",
     "shell.execute_reply": "2025-05-07T17:09:53.177271Z",
     "shell.execute_reply.started": "2025-05-07T17:09:53.173821Z"
    },
    "trusted": true
   },
   "outputs": [],
   "source": [
    "stop_words = set([\n",
    "    \"я\", \"ти\", \"він\", \"вона\", \"воно\", \"ми\", \"ви\", \"вони\", \"це\", \"не\", \"і\", \"в\", \"на\", \"з\", \"до\", \"по\", \"за\", \n",
    "    \"як\", \"але\", \"так\", \"що\", \"щоб\", \"якщо\", \"це\", \"також\", \"свої\", \"сказав\", \"може\", \"ще\", \"це\", \"для\", \"після\", \n",
    "    \"тому\", \"такі\", \"саме\", \"кожен\", \"хто\", \"всі\", \"ті\", \"якщо\", \"про\", \"коли\", \"навіть\", \"їх\", \"вже\"\n",
    "])"
   ]
  },
  {
   "cell_type": "code",
   "execution_count": 21,
   "metadata": {
    "execution": {
     "iopub.execute_input": "2025-05-07T17:09:53.178964Z",
     "iopub.status.busy": "2025-05-07T17:09:53.178742Z",
     "iopub.status.idle": "2025-05-07T17:10:03.586092Z",
     "shell.execute_reply": "2025-05-07T17:10:03.585162Z",
     "shell.execute_reply.started": "2025-05-07T17:09:53.178945Z"
    },
    "trusted": true
   },
   "outputs": [
    {
     "data": {
      "text/html": [
       "<div>\n",
       "<style scoped>\n",
       "    .dataframe tbody tr th:only-of-type {\n",
       "        vertical-align: middle;\n",
       "    }\n",
       "\n",
       "    .dataframe tbody tr th {\n",
       "        vertical-align: top;\n",
       "    }\n",
       "\n",
       "    .dataframe thead th {\n",
       "        text-align: right;\n",
       "    }\n",
       "</style>\n",
       "<table border=\"1\" class=\"dataframe\">\n",
       "  <thead>\n",
       "    <tr style=\"text-align: right;\">\n",
       "      <th></th>\n",
       "      <th>filtered_text_words</th>\n",
       "      <th>filtered_text_word_labels</th>\n",
       "    </tr>\n",
       "  </thead>\n",
       "  <tbody>\n",
       "    <tr>\n",
       "      <th>0</th>\n",
       "      <td>[[Напередодні, річниці, 76-денно, локдауну, Ух...</td>\n",
       "      <td>[[O, O, O, O, B-LOC, O, O, O, O, O, O, O, O, B...</td>\n",
       "    </tr>\n",
       "    <tr>\n",
       "      <th>1</th>\n",
       "      <td>[[Німеччина, та, Люксембург, знову, відкрили, ...</td>\n",
       "      <td>[[B-LOC, O, B-LOC, O, O, O, O, O, O, O, O, O, ...</td>\n",
       "    </tr>\n",
       "    <tr>\n",
       "      <th>2</th>\n",
       "      <td>[[Однокурсник, засновника, SoftServe, Юрія, Ва...</td>\n",
       "      <td>[[O, O, B-ORG, B-PER, I-PER, O, B-PER, I-PER, ...</td>\n",
       "    </tr>\n",
       "    <tr>\n",
       "      <th>3</th>\n",
       "      <td>[[Дослідники, Единбурзького, університету, вия...</td>\n",
       "      <td>[[O, B-ORG, I-ORG, O, O, O, O, O, O, O], [O, O...</td>\n",
       "    </tr>\n",
       "    <tr>\n",
       "      <th>4</th>\n",
       "      <td>[[перші, чотири, місяці, 2017, року, українськ...</td>\n",
       "      <td>[[O, O, O, O, O, O, O, O, O, O, O], [O, O, O, ...</td>\n",
       "    </tr>\n",
       "  </tbody>\n",
       "</table>\n",
       "</div>"
      ],
      "text/plain": [
       "                                 filtered_text_words  \\\n",
       "0  [[Напередодні, річниці, 76-денно, локдауну, Ух...   \n",
       "1  [[Німеччина, та, Люксембург, знову, відкрили, ...   \n",
       "2  [[Однокурсник, засновника, SoftServe, Юрія, Ва...   \n",
       "3  [[Дослідники, Единбурзького, університету, вия...   \n",
       "4  [[перші, чотири, місяці, 2017, року, українськ...   \n",
       "\n",
       "                           filtered_text_word_labels  \n",
       "0  [[O, O, O, O, B-LOC, O, O, O, O, O, O, O, O, B...  \n",
       "1  [[B-LOC, O, B-LOC, O, O, O, O, O, O, O, O, O, ...  \n",
       "2  [[O, O, B-ORG, B-PER, I-PER, O, B-PER, I-PER, ...  \n",
       "3  [[O, B-ORG, I-ORG, O, O, O, O, O, O, O], [O, O...  \n",
       "4  [[O, O, O, O, O, O, O, O, O, O, O], [O, O, O, ...  "
      ]
     },
     "execution_count": 21,
     "metadata": {},
     "output_type": "execute_result"
    }
   ],
   "source": [
    "def remove_stopwords_and_labels_from_list_of_lists(text_words_list, text_word_labels_list):\n",
    "    filtered_words_list = []\n",
    "    filtered_labels_list = []\n",
    "    \n",
    "    for text_words, text_word_labels in zip(text_words_list, text_word_labels_list):\n",
    "        filtered_words = []\n",
    "        filtered_labels = []\n",
    "        \n",
    "        for word, label in zip(text_words, text_word_labels):\n",
    "            if word.lower() not in stop_words: \n",
    "                filtered_words.append(word)\n",
    "                filtered_labels.append(label)\n",
    "        \n",
    "        filtered_words_list.append(filtered_words)\n",
    "        filtered_labels_list.append(filtered_labels)\n",
    "    \n",
    "    return filtered_words_list, filtered_labels_list\n",
    "\n",
    "df['filtered_text_words'], df['filtered_text_word_labels'] = zip(*df.apply(\n",
    "    lambda row: remove_stopwords_and_labels_from_list_of_lists(row['text_words'], row['text_word_labels']), axis=1))\n",
    "\n",
    "df[['filtered_text_words', 'filtered_text_word_labels']].head()"
   ]
  },
  {
   "cell_type": "code",
   "execution_count": 22,
   "metadata": {
    "execution": {
     "iopub.execute_input": "2025-05-07T17:10:03.587402Z",
     "iopub.status.busy": "2025-05-07T17:10:03.587043Z",
     "iopub.status.idle": "2025-05-07T17:10:04.119803Z",
     "shell.execute_reply": "2025-05-07T17:10:04.119052Z",
     "shell.execute_reply.started": "2025-05-07T17:10:03.587349Z"
    },
    "trusted": true
   },
   "outputs": [
    {
     "data": {
      "text/plain": [
       "0        True\n",
       "1        True\n",
       "2        True\n",
       "3        True\n",
       "4        True\n",
       "         ... \n",
       "49528    True\n",
       "49529    True\n",
       "49530    True\n",
       "49531    True\n",
       "49532    True\n",
       "Length: 49533, dtype: bool"
      ]
     },
     "execution_count": 22,
     "metadata": {},
     "output_type": "execute_result"
    }
   ],
   "source": [
    "length_check_all = df.apply(lambda row: all(len(words) == len(labels) for words, labels in zip(row['filtered_text_words'], row['filtered_text_word_labels'])), axis=1)\n",
    "length_check_all"
   ]
  },
  {
   "cell_type": "code",
   "execution_count": 23,
   "metadata": {
    "execution": {
     "iopub.execute_input": "2025-05-07T17:10:04.120776Z",
     "iopub.status.busy": "2025-05-07T17:10:04.120549Z",
     "iopub.status.idle": "2025-05-07T17:10:04.126657Z",
     "shell.execute_reply": "2025-05-07T17:10:04.125955Z",
     "shell.execute_reply.started": "2025-05-07T17:10:04.120757Z"
    },
    "trusted": true
   },
   "outputs": [
    {
     "data": {
      "text/plain": [
       "0"
      ]
     },
     "execution_count": 23,
     "metadata": {},
     "output_type": "execute_result"
    }
   ],
   "source": [
    "false_count = length_check_all.value_counts().get(False, 0)\n",
    "false_count"
   ]
  },
  {
   "cell_type": "code",
   "execution_count": 24,
   "metadata": {
    "execution": {
     "iopub.execute_input": "2025-05-07T17:10:04.127727Z",
     "iopub.status.busy": "2025-05-07T17:10:04.127440Z",
     "iopub.status.idle": "2025-05-07T17:10:08.969446Z",
     "shell.execute_reply": "2025-05-07T17:10:08.968702Z",
     "shell.execute_reply.started": "2025-05-07T17:10:04.127700Z"
    },
    "trusted": true
   },
   "outputs": [
    {
     "data": {
      "text/plain": [
       "{'LOC': 401741, 'ORG': 604756, 'PER': 404455, 'O': 13649575}"
      ]
     },
     "execution_count": 24,
     "metadata": {},
     "output_type": "execute_result"
    }
   ],
   "source": [
    "entities_count = {\n",
    "    'LOC': sum(label in ['B-LOC', 'I-LOC'] for sublist in df['text_word_labels'].explode() for label in sublist),\n",
    "    'ORG': sum(label in ['B-ORG', 'I-ORG'] for sublist in df['text_word_labels'].explode() for label in sublist),\n",
    "    'PER': sum(label in ['B-PER', 'I-PER'] for sublist in df['text_word_labels'].explode() for label in sublist),\n",
    "    'O': sum(label == 'O' for sublist in df['text_word_labels'].explode() for label in sublist)\n",
    "}\n",
    "entities_count"
   ]
  },
  {
   "cell_type": "code",
   "execution_count": 25,
   "metadata": {
    "execution": {
     "iopub.execute_input": "2025-05-07T17:10:08.970269Z",
     "iopub.status.busy": "2025-05-07T17:10:08.970069Z",
     "iopub.status.idle": "2025-05-07T17:10:13.302783Z",
     "shell.execute_reply": "2025-05-07T17:10:13.301914Z",
     "shell.execute_reply.started": "2025-05-07T17:10:08.970252Z"
    },
    "trusted": true
   },
   "outputs": [
    {
     "data": {
      "text/plain": [
       "{'LOC': 401238, 'ORG': 598019, 'PER': 404262, 'O': 11118253}"
      ]
     },
     "execution_count": 25,
     "metadata": {},
     "output_type": "execute_result"
    }
   ],
   "source": [
    "entities_count_filtered = {\n",
    "    'LOC': sum(label in ['B-LOC', 'I-LOC'] for sublist in df['filtered_text_word_labels'].explode() for label in sublist),\n",
    "    'ORG': sum(label in ['B-ORG', 'I-ORG'] for sublist in df['filtered_text_word_labels'].explode() for label in sublist),\n",
    "    'PER': sum(label in ['B-PER', 'I-PER'] for sublist in df['filtered_text_word_labels'].explode() for label in sublist),\n",
    "    'O': sum(label == 'O' for sublist in df['filtered_text_word_labels'].explode() for label in sublist)\n",
    "}\n",
    "entities_count_filtered"
   ]
  },
  {
   "cell_type": "code",
   "execution_count": 26,
   "metadata": {
    "execution": {
     "iopub.execute_input": "2025-05-07T17:10:13.303971Z",
     "iopub.status.busy": "2025-05-07T17:10:13.303674Z",
     "iopub.status.idle": "2025-05-07T17:10:13.307864Z",
     "shell.execute_reply": "2025-05-07T17:10:13.307114Z",
     "shell.execute_reply.started": "2025-05-07T17:10:13.303943Z"
    },
    "trusted": true
   },
   "outputs": [],
   "source": [
    "total_labels = sum(entities_count.values())\n",
    "percentages_filtered = {key: (value / total_labels) * 100 for key, value in entities_count_filtered.items()}"
   ]
  },
  {
   "cell_type": "code",
   "execution_count": 27,
   "metadata": {
    "execution": {
     "iopub.execute_input": "2025-05-07T17:10:13.311099Z",
     "iopub.status.busy": "2025-05-07T17:10:13.310875Z",
     "iopub.status.idle": "2025-05-07T17:10:13.439458Z",
     "shell.execute_reply": "2025-05-07T17:10:13.438587Z",
     "shell.execute_reply.started": "2025-05-07T17:10:13.311079Z"
    },
    "trusted": true
   },
   "outputs": [
    {
     "data": {
      "image/png": "[encoded data removed]",
      "text/plain": [
       "<Figure size 800x800 with 1 Axes>"
      ]
     },
     "metadata": {},
     "output_type": "display_data"
    }
   ],
   "source": [
    "import matplotlib.pyplot as plt\n",
    "soft_colors = ['#A3D8F4', '#F5A9B8', '#F9E79F', '#D4EFDF']\n",
    "\n",
    "\n",
    "plt.figure(figsize=(8, 8))\n",
    "plt.pie(percentages_filtered.values(), labels=percentages_filtered.keys(), autopct='%1.2f%%', startangle=90, colors=soft_colors)\n",
    "\n",
    "plt.title('Filtered Label Distribution by Categories (in Percentage)')\n",
    "plt.show()"
   ]
  },
  {
   "cell_type": "code",
   "execution_count": 28,
   "metadata": {
    "execution": {
     "iopub.execute_input": "2025-05-07T17:10:13.441353Z",
     "iopub.status.busy": "2025-05-07T17:10:13.441088Z",
     "iopub.status.idle": "2025-05-07T17:10:13.541914Z",
     "shell.execute_reply": "2025-05-07T17:10:13.541014Z",
     "shell.execute_reply.started": "2025-05-07T17:10:13.441326Z"
    },
    "trusted": true
   },
   "outputs": [
    {
     "data": {
      "image/png": "[encoded data removed]",
      "text/plain": [
       "<Figure size 800x800 with 1 Axes>"
      ]
     },
     "metadata": {},
     "output_type": "display_data"
    }
   ],
   "source": [
    "entities_count_without_O_flt = {key: value for key, value in entities_count_filtered.items() if key != 'O'}\n",
    "\n",
    "total_without_O = sum(entities_count_without_O_flt.values())\n",
    "percentages_without_O = {key: (value / total_without_O) * 100 for key, value in entities_count_without_O_flt.items()}\n",
    "soft_colors_without_O = ['#A3D8F4', '#F5A9B8', '#F9E79F']\n",
    "plt.figure(figsize=(8, 8))\n",
    "plt.pie(percentages_without_O.values(), labels=percentages_without_O.keys(), autopct='%1.2f%%', startangle=90, colors=soft_colors_without_O)\n",
    "\n",
    "plt.title('Label Distribution by Categories (Excluding \"O\" filtred)')\n",
    "\n",
    "plt.show()"
   ]
  },
  {
   "cell_type": "markdown",
   "metadata": {},
   "source": [
    "## Перетворення у єдиний список; train/validation/test"
   ]
  },
  {
   "cell_type": "code",
   "execution_count": 29,
   "metadata": {
    "execution": {
     "iopub.execute_input": "2025-05-07T17:10:13.543211Z",
     "iopub.status.busy": "2025-05-07T17:10:13.542890Z",
     "iopub.status.idle": "2025-05-07T17:10:14.793340Z",
     "shell.execute_reply": "2025-05-07T17:10:14.792614Z",
     "shell.execute_reply.started": "2025-05-07T17:10:13.543180Z"
    },
    "trusted": true
   },
   "outputs": [
    {
     "data": {
      "text/html": [
       "<div>\n",
       "<style scoped>\n",
       "    .dataframe tbody tr th:only-of-type {\n",
       "        vertical-align: middle;\n",
       "    }\n",
       "\n",
       "    .dataframe tbody tr th {\n",
       "        vertical-align: top;\n",
       "    }\n",
       "\n",
       "    .dataframe thead th {\n",
       "        text-align: right;\n",
       "    }\n",
       "</style>\n",
       "<table border=\"1\" class=\"dataframe\">\n",
       "  <thead>\n",
       "    <tr style=\"text-align: right;\">\n",
       "      <th></th>\n",
       "      <th>flattened_filtered_text_words</th>\n",
       "      <th>flattened_filtered_text_word_labels</th>\n",
       "    </tr>\n",
       "  </thead>\n",
       "  <tbody>\n",
       "    <tr>\n",
       "      <th>0</th>\n",
       "      <td>[Напередодні, річниці, 76-денно, локдауну, Уха...</td>\n",
       "      <td>[O, O, O, O, B-LOC, O, O, O, O, O, O, O, O, B-...</td>\n",
       "    </tr>\n",
       "    <tr>\n",
       "      <th>1</th>\n",
       "      <td>[Німеччина, та, Люксембург, знову, відкрили, с...</td>\n",
       "      <td>[B-LOC, O, B-LOC, O, O, O, O, O, O, O, O, O, O...</td>\n",
       "    </tr>\n",
       "    <tr>\n",
       "      <th>2</th>\n",
       "      <td>[Однокурсник, засновника, SoftServe, Юрія, Вас...</td>\n",
       "      <td>[O, O, B-ORG, B-PER, I-PER, O, B-PER, I-PER, O...</td>\n",
       "    </tr>\n",
       "    <tr>\n",
       "      <th>3</th>\n",
       "      <td>[Дослідники, Единбурзького, університету, вияв...</td>\n",
       "      <td>[O, B-ORG, I-ORG, O, O, O, O, O, O, O, O, O, O...</td>\n",
       "    </tr>\n",
       "    <tr>\n",
       "      <th>4</th>\n",
       "      <td>[перші, чотири, місяці, 2017, року, українсько...</td>\n",
       "      <td>[O, O, O, O, O, O, O, O, O, O, O, O, O, O, O, ...</td>\n",
       "    </tr>\n",
       "  </tbody>\n",
       "</table>\n",
       "</div>"
      ],
      "text/plain": [
       "                       flattened_filtered_text_words  \\\n",
       "0  [Напередодні, річниці, 76-денно, локдауну, Уха...   \n",
       "1  [Німеччина, та, Люксембург, знову, відкрили, с...   \n",
       "2  [Однокурсник, засновника, SoftServe, Юрія, Вас...   \n",
       "3  [Дослідники, Единбурзького, університету, вияв...   \n",
       "4  [перші, чотири, місяці, 2017, року, українсько...   \n",
       "\n",
       "                 flattened_filtered_text_word_labels  \n",
       "0  [O, O, O, O, B-LOC, O, O, O, O, O, O, O, O, B-...  \n",
       "1  [B-LOC, O, B-LOC, O, O, O, O, O, O, O, O, O, O...  \n",
       "2  [O, O, B-ORG, B-PER, I-PER, O, B-PER, I-PER, O...  \n",
       "3  [O, B-ORG, I-ORG, O, O, O, O, O, O, O, O, O, O...  \n",
       "4  [O, O, O, O, O, O, O, O, O, O, O, O, O, O, O, ...  "
      ]
     },
     "execution_count": 29,
     "metadata": {},
     "output_type": "execute_result"
    }
   ],
   "source": [
    "def flatten_list_of_lists(list_of_lists):\n",
    "    flat_list = []\n",
    "    for sublist in list_of_lists:\n",
    "        flat_list.extend(sublist)\n",
    "    return flat_list\n",
    "\n",
    "df['flattened_filtered_text_words'] = df['filtered_text_words'].apply(flatten_list_of_lists)\n",
    "df['flattened_filtered_text_word_labels'] = df['filtered_text_word_labels'].apply(flatten_list_of_lists)\n",
    "\n",
    "df[['flattened_filtered_text_words', 'flattened_filtered_text_word_labels']].head()"
   ]
  },
  {
   "cell_type": "code",
   "execution_count": 30,
   "metadata": {
    "execution": {
     "iopub.execute_input": "2025-05-07T17:10:14.794376Z",
     "iopub.status.busy": "2025-05-07T17:10:14.794096Z",
     "iopub.status.idle": "2025-05-07T17:10:21.322490Z",
     "shell.execute_reply": "2025-05-07T17:10:21.321714Z",
     "shell.execute_reply.started": "2025-05-07T17:10:14.794337Z"
    },
    "trusted": true
   },
   "outputs": [],
   "source": [
    "df[['flattened_filtered_text_words', 'flattened_filtered_text_word_labels']].to_csv('filtered_text.csv', index=False)"
   ]
  },
  {
   "cell_type": "code",
   "execution_count": 19,
   "metadata": {
    "execution": {
     "iopub.execute_input": "2025-05-08T21:57:26.936400Z",
     "iopub.status.busy": "2025-05-08T21:57:26.936084Z",
     "iopub.status.idle": "2025-05-08T21:57:31.123415Z",
     "shell.execute_reply": "2025-05-08T21:57:31.122696Z",
     "shell.execute_reply.started": "2025-05-08T21:57:26.936376Z"
    },
    "trusted": true
   },
   "outputs": [],
   "source": [
    "df_full = pd.read_csv('/kaggle/input/ukr-bigger/filtered_text.csv')"
   ]
  },
  {
   "cell_type": "code",
   "execution_count": 20,
   "metadata": {
    "execution": {
     "iopub.execute_input": "2025-05-08T21:57:31.124809Z",
     "iopub.status.busy": "2025-05-08T21:57:31.124494Z",
     "iopub.status.idle": "2025-05-08T21:58:18.828229Z",
     "shell.execute_reply": "2025-05-08T21:58:18.827567Z",
     "shell.execute_reply.started": "2025-05-08T21:57:31.124781Z"
    },
    "trusted": true
   },
   "outputs": [],
   "source": [
    "df_full['flattened_filtered_text_words'] = df_full['flattened_filtered_text_words'].apply(ast.literal_eval)\n",
    "df_full['flattened_filtered_text_word_labels'] = df_full['flattened_filtered_text_word_labels'].apply(ast.literal_eval)"
   ]
  },
  {
   "cell_type": "code",
   "execution_count": 21,
   "metadata": {
    "execution": {
     "iopub.execute_input": "2025-05-08T21:58:18.835682Z",
     "iopub.status.busy": "2025-05-08T21:58:18.835421Z",
     "iopub.status.idle": "2025-05-08T21:58:18.861419Z",
     "shell.execute_reply": "2025-05-08T21:58:18.860753Z",
     "shell.execute_reply.started": "2025-05-08T21:58:18.835660Z"
    },
    "trusted": true
   },
   "outputs": [
    {
     "data": {
      "text/html": [
       "<div>\n",
       "<style scoped>\n",
       "    .dataframe tbody tr th:only-of-type {\n",
       "        vertical-align: middle;\n",
       "    }\n",
       "\n",
       "    .dataframe tbody tr th {\n",
       "        vertical-align: top;\n",
       "    }\n",
       "\n",
       "    .dataframe thead th {\n",
       "        text-align: right;\n",
       "    }\n",
       "</style>\n",
       "<table border=\"1\" class=\"dataframe\">\n",
       "  <thead>\n",
       "    <tr style=\"text-align: right;\">\n",
       "      <th></th>\n",
       "      <th>flattened_filtered_text_words</th>\n",
       "      <th>flattened_filtered_text_word_labels</th>\n",
       "    </tr>\n",
       "  </thead>\n",
       "  <tbody>\n",
       "    <tr>\n",
       "      <th>0</th>\n",
       "      <td>[Напередодні, річниці, 76-денно, локдауну, Уха...</td>\n",
       "      <td>[O, O, O, O, B-LOC, O, O, O, O, O, O, O, O, B-...</td>\n",
       "    </tr>\n",
       "    <tr>\n",
       "      <th>1</th>\n",
       "      <td>[Німеччина, та, Люксембург, знову, відкрили, с...</td>\n",
       "      <td>[B-LOC, O, B-LOC, O, O, O, O, O, O, O, O, O, O...</td>\n",
       "    </tr>\n",
       "    <tr>\n",
       "      <th>2</th>\n",
       "      <td>[Однокурсник, засновника, SoftServe, Юрія, Вас...</td>\n",
       "      <td>[O, O, B-ORG, B-PER, I-PER, O, B-PER, I-PER, O...</td>\n",
       "    </tr>\n",
       "    <tr>\n",
       "      <th>3</th>\n",
       "      <td>[Дослідники, Единбурзького, університету, вияв...</td>\n",
       "      <td>[O, B-ORG, I-ORG, O, O, O, O, O, O, O, O, O, O...</td>\n",
       "    </tr>\n",
       "  </tbody>\n",
       "</table>\n",
       "</div>"
      ],
      "text/plain": [
       "                       flattened_filtered_text_words  \\\n",
       "0  [Напередодні, річниці, 76-денно, локдауну, Уха...   \n",
       "1  [Німеччина, та, Люксембург, знову, відкрили, с...   \n",
       "2  [Однокурсник, засновника, SoftServe, Юрія, Вас...   \n",
       "3  [Дослідники, Единбурзького, університету, вияв...   \n",
       "\n",
       "                 flattened_filtered_text_word_labels  \n",
       "0  [O, O, O, O, B-LOC, O, O, O, O, O, O, O, O, B-...  \n",
       "1  [B-LOC, O, B-LOC, O, O, O, O, O, O, O, O, O, O...  \n",
       "2  [O, O, B-ORG, B-PER, I-PER, O, B-PER, I-PER, O...  \n",
       "3  [O, B-ORG, I-ORG, O, O, O, O, O, O, O, O, O, O...  "
      ]
     },
     "execution_count": 21,
     "metadata": {},
     "output_type": "execute_result"
    }
   ],
   "source": [
    "df_full.head(4)"
   ]
  },
  {
   "cell_type": "code",
   "execution_count": 22,
   "metadata": {
    "execution": {
     "iopub.execute_input": "2025-05-08T21:58:18.863302Z",
     "iopub.status.busy": "2025-05-08T21:58:18.863019Z",
     "iopub.status.idle": "2025-05-08T21:58:19.904824Z",
     "shell.execute_reply": "2025-05-08T21:58:19.903957Z",
     "shell.execute_reply.started": "2025-05-08T21:58:18.863282Z"
    },
    "trusted": true
   },
   "outputs": [
    {
     "name": "stdout",
     "output_type": "stream",
     "text": [
      "O: 11369026\n",
      "B-LOC: 353866\n",
      "B-ORG: 362945\n",
      "B-PER: 266728\n",
      "I-PER: 146361\n",
      "I-ORG: 247912\n",
      "I-LOC: 51473\n"
     ]
    }
   ],
   "source": [
    "from collections import Counter\n",
    "\n",
    "all_labels = [label for sublist in df_full['flattened_filtered_text_word_labels'] for label in sublist]\n",
    "label_counts = Counter(all_labels)\n",
    "\n",
    "for label, count in label_counts.items():\n",
    "    print(f\"{label}: {count}\")"
   ]
  },
  {
   "cell_type": "code",
   "execution_count": 23,
   "metadata": {
    "execution": {
     "iopub.execute_input": "2025-05-08T21:58:19.906022Z",
     "iopub.status.busy": "2025-05-08T21:58:19.905748Z",
     "iopub.status.idle": "2025-05-08T21:58:20.093061Z",
     "shell.execute_reply": "2025-05-08T21:58:20.092206Z",
     "shell.execute_reply.started": "2025-05-08T21:58:19.906000Z"
    },
    "trusted": true
   },
   "outputs": [
    {
     "data": {
      "image/png": "[encoded data removed]",
      "text/plain": [
       "<Figure size 800x800 with 1 Axes>"
      ]
     },
     "metadata": {},
     "output_type": "display_data"
    }
   ],
   "source": [
    "merged_counts = {\n",
    "    'LOC': label_counts.get('B-LOC', 0) + label_counts.get('I-LOC', 0),\n",
    "    'PER': label_counts.get('B-PER', 0) + label_counts.get('I-PER', 0),\n",
    "    'ORG': label_counts.get('B-ORG', 0) + label_counts.get('I-ORG', 0),\n",
    "    'O': label_counts.get('O', 0)\n",
    "}\n",
    "\n",
    "total = sum(merged_counts.values())\n",
    "percentages_filtered = {k: (v / total) * 100 for k, v in merged_counts.items()}\n",
    "\n",
    "soft_colors = ['#A3D8F4', '#F5A9B8', '#F9E79F', '#D4EFDF']\n",
    "plt.figure(figsize=(8, 8))\n",
    "plt.pie(percentages_filtered.values(), labels=percentages_filtered.keys(), autopct='%1.2f%%', startangle=90, colors=soft_colors)\n",
    "plt.title('Filtered Label Distribution by Categories (in Percentage)')\n",
    "plt.show()"
   ]
  },
  {
   "cell_type": "code",
   "execution_count": 24,
   "metadata": {
    "execution": {
     "iopub.execute_input": "2025-05-08T21:58:20.094382Z",
     "iopub.status.busy": "2025-05-08T21:58:20.094132Z",
     "iopub.status.idle": "2025-05-08T21:58:20.194633Z",
     "shell.execute_reply": "2025-05-08T21:58:20.194009Z",
     "shell.execute_reply.started": "2025-05-08T21:58:20.094363Z"
    },
    "trusted": true
   },
   "outputs": [
    {
     "data": {
      "image/png": "[encoded data removed]",
      "text/plain": [
       "<Figure size 800x800 with 1 Axes>"
      ]
     },
     "metadata": {},
     "output_type": "display_data"
    },
    {
     "name": "stdout",
     "output_type": "stream",
     "text": [
      "(65781, 2)\n"
     ]
    }
   ],
   "source": [
    "entities_count_without_O_flt = {key: value for key, value in merged_counts.items() if key != 'O'}\n",
    "\n",
    "total_without_O = sum(entities_count_without_O_flt.values())\n",
    "percentages_without_O = {key: (value / total_without_O) * 100 for key, value in entities_count_without_O_flt.items()}\n",
    "soft_colors_without_O = ['#A3D8F4', '#F5A9B8', '#F9E79F']\n",
    "plt.figure(figsize=(8, 8))\n",
    "plt.pie(percentages_without_O.values(), labels=percentages_without_O.keys(), autopct='%1.2f%%', startangle=90, colors=soft_colors_without_O)\n",
    "\n",
    "plt.title('Label Distribution by Categories (Excluding \"O\" filtred)')\n",
    "\n",
    "plt.show()\n",
    "print(df_full.shape)"
   ]
  },
  {
   "cell_type": "code",
   "execution_count": 25,
   "metadata": {
    "execution": {
     "iopub.execute_input": "2025-05-08T21:58:20.195624Z",
     "iopub.status.busy": "2025-05-08T21:58:20.195348Z",
     "iopub.status.idle": "2025-05-08T21:58:20.990873Z",
     "shell.execute_reply": "2025-05-08T21:58:20.990056Z",
     "shell.execute_reply.started": "2025-05-08T21:58:20.195590Z"
    },
    "trusted": true
   },
   "outputs": [
    {
     "data": {
      "text/html": [
       "<div>\n",
       "<style scoped>\n",
       "    .dataframe tbody tr th:only-of-type {\n",
       "        vertical-align: middle;\n",
       "    }\n",
       "\n",
       "    .dataframe tbody tr th {\n",
       "        vertical-align: top;\n",
       "    }\n",
       "\n",
       "    .dataframe thead th {\n",
       "        text-align: right;\n",
       "    }\n",
       "</style>\n",
       "<table border=\"1\" class=\"dataframe\">\n",
       "  <thead>\n",
       "    <tr style=\"text-align: right;\">\n",
       "      <th></th>\n",
       "      <th>flattened_filtered_text_word_labels</th>\n",
       "      <th>numeric_labels</th>\n",
       "    </tr>\n",
       "  </thead>\n",
       "  <tbody>\n",
       "    <tr>\n",
       "      <th>0</th>\n",
       "      <td>[O, O, O, O, B-LOC, O, O, O, O, O, O, O, O, B-...</td>\n",
       "      <td>[0, 0, 0, 0, 5, 0, 0, 0, 0, 0, 0, 0, 0, 5, 0, ...</td>\n",
       "    </tr>\n",
       "    <tr>\n",
       "      <th>1</th>\n",
       "      <td>[B-LOC, O, B-LOC, O, O, O, O, O, O, O, O, O, O...</td>\n",
       "      <td>[5, 0, 5, 0, 0, 0, 0, 0, 0, 0, 0, 0, 0, 0, 3, ...</td>\n",
       "    </tr>\n",
       "    <tr>\n",
       "      <th>2</th>\n",
       "      <td>[O, O, B-ORG, B-PER, I-PER, O, B-PER, I-PER, O...</td>\n",
       "      <td>[0, 0, 3, 1, 2, 0, 1, 2, 0, 0, 0, 0, 0, 0, 0, ...</td>\n",
       "    </tr>\n",
       "    <tr>\n",
       "      <th>3</th>\n",
       "      <td>[O, B-ORG, I-ORG, O, O, O, O, O, O, O, O, O, O...</td>\n",
       "      <td>[0, 3, 4, 0, 0, 0, 0, 0, 0, 0, 0, 0, 0, 0, 0, ...</td>\n",
       "    </tr>\n",
       "    <tr>\n",
       "      <th>4</th>\n",
       "      <td>[O, O, O, O, O, O, O, O, O, O, O, O, O, O, O, ...</td>\n",
       "      <td>[0, 0, 0, 0, 0, 0, 0, 0, 0, 0, 0, 0, 0, 0, 0, ...</td>\n",
       "    </tr>\n",
       "  </tbody>\n",
       "</table>\n",
       "</div>"
      ],
      "text/plain": [
       "                 flattened_filtered_text_word_labels  \\\n",
       "0  [O, O, O, O, B-LOC, O, O, O, O, O, O, O, O, B-...   \n",
       "1  [B-LOC, O, B-LOC, O, O, O, O, O, O, O, O, O, O...   \n",
       "2  [O, O, B-ORG, B-PER, I-PER, O, B-PER, I-PER, O...   \n",
       "3  [O, B-ORG, I-ORG, O, O, O, O, O, O, O, O, O, O...   \n",
       "4  [O, O, O, O, O, O, O, O, O, O, O, O, O, O, O, ...   \n",
       "\n",
       "                                      numeric_labels  \n",
       "0  [0, 0, 0, 0, 5, 0, 0, 0, 0, 0, 0, 0, 0, 5, 0, ...  \n",
       "1  [5, 0, 5, 0, 0, 0, 0, 0, 0, 0, 0, 0, 0, 0, 3, ...  \n",
       "2  [0, 0, 3, 1, 2, 0, 1, 2, 0, 0, 0, 0, 0, 0, 0, ...  \n",
       "3  [0, 3, 4, 0, 0, 0, 0, 0, 0, 0, 0, 0, 0, 0, 0, ...  \n",
       "4  [0, 0, 0, 0, 0, 0, 0, 0, 0, 0, 0, 0, 0, 0, 0, ...  "
      ]
     },
     "execution_count": 25,
     "metadata": {},
     "output_type": "execute_result"
    }
   ],
   "source": [
    "label_to_number = {\n",
    "    'O': 0,\n",
    "    'B-PER': 1,\n",
    "    'I-PER': 2,\n",
    "    'B-ORG': 3,\n",
    "    'I-ORG': 4,\n",
    "    'B-LOC': 5,\n",
    "    'I-LOC': 6,\n",
    "}\n",
    "def convert_labels_to_numbers(labels):\n",
    "    return [label_to_number[label] for label in labels]\n",
    "\n",
    "df_full['numeric_labels'] = df_full['flattened_filtered_text_word_labels'].apply(convert_labels_to_numbers)\n",
    "\n",
    "df_full[['flattened_filtered_text_word_labels', 'numeric_labels']].head()\n"
   ]
  },
  {
   "cell_type": "code",
   "execution_count": 26,
   "metadata": {
    "execution": {
     "iopub.execute_input": "2025-05-08T21:58:20.993360Z",
     "iopub.status.busy": "2025-05-08T21:58:20.993133Z",
     "iopub.status.idle": "2025-05-08T21:58:20.997208Z",
     "shell.execute_reply": "2025-05-08T21:58:20.996300Z",
     "shell.execute_reply.started": "2025-05-08T21:58:20.993341Z"
    },
    "trusted": true
   },
   "outputs": [],
   "source": [
    "all_rows = 65781\n",
    "train_data_size = round(all_rows * 0.7, 0)\n",
    "valid_data_size = round(all_rows * 0.15, 0)\n",
    "test_data_size = all_rows - train_data_size - valid_data_size"
   ]
  },
  {
   "cell_type": "code",
   "execution_count": 27,
   "metadata": {
    "execution": {
     "iopub.execute_input": "2025-05-08T21:58:20.998671Z",
     "iopub.status.busy": "2025-05-08T21:58:20.998437Z",
     "iopub.status.idle": "2025-05-08T21:58:22.045280Z",
     "shell.execute_reply": "2025-05-08T21:58:22.044556Z",
     "shell.execute_reply.started": "2025-05-08T21:58:20.998651Z"
    },
    "trusted": true
   },
   "outputs": [
    {
     "name": "stdout",
     "output_type": "stream",
     "text": [
      "Train size: 46047 rows\n",
      "Validation size: 9867 rows\n",
      "Test size: 9867 rows\n",
      "\n",
      "Train label distribution:\n",
      "per_count    289754\n",
      "org_count    427710\n",
      "loc_count    284362\n",
      "dtype: int64\n",
      "Train label percentages: PER: 28.92%, ORG: 42.69%, LOC: 28.38%\n",
      "\n",
      "Validation label distribution:\n",
      "per_count    59457\n",
      "org_count    90133\n",
      "loc_count    58676\n",
      "dtype: int64\n",
      "Validation label percentages: PER: 28.55%, ORG: 43.28%, LOC: 28.17%\n",
      "\n",
      "Test label distribution:\n",
      "per_count    63878\n",
      "org_count    93014\n",
      "loc_count    62301\n",
      "dtype: int64\n",
      "Test label percentages: PER: 29.14%, ORG: 42.43%, LOC: 28.42%\n"
     ]
    }
   ],
   "source": [
    "def create_splits(df, train_size, val_size, test_size):\n",
    "    def count_labels(tags):\n",
    "        b_per = tags.count(1) \n",
    "        i_per = tags.count(2)\n",
    "        b_org = tags.count(3)\n",
    "        i_org = tags.count(4)\n",
    "        b_loc = tags.count(5) \n",
    "        i_loc = tags.count(6)\n",
    "        return {\"per\": b_per + i_per, \"org\": b_org + i_org, \"loc\": b_loc + i_loc}\n",
    "\n",
    "    df[\"label_counts\"] = df['numeric_labels'].apply(count_labels)\n",
    "    df[\"per_count\"] = df[\"label_counts\"].apply(lambda x: x[\"per\"])\n",
    "    df[\"org_count\"] = df[\"label_counts\"].apply(lambda x: x[\"org\"])\n",
    "    df[\"loc_count\"] = df[\"label_counts\"].apply(lambda x: x[\"loc\"]) \n",
    "    \n",
    "    train_data = df.sample(n=train_size, random_state=21)\n",
    "    remaining_data = df.drop(train_data.index)\n",
    "    validation_data = remaining_data.sample(n=val_size, random_state=21)\n",
    "    test_data = remaining_data.drop(validation_data.index).sample(n=test_size, random_state=21)\n",
    "    \n",
    "    print(f\"Train size: {len(train_data)} rows\")\n",
    "    print(f\"Validation size: {len(validation_data)} rows\")\n",
    "    print(f\"Test size: {len(test_data)} rows\")\n",
    "    \n",
    "    def print_distribution(name, data):\n",
    "        label_sum = data[[\"per_count\", \"org_count\", \"loc_count\"]].sum() \n",
    "        total = label_sum[\"per_count\"] + label_sum[\"org_count\"] + label_sum[\"loc_count\"]\n",
    "        per_percentage = label_sum[\"per_count\"] / total * 100 if total else 0\n",
    "        org_percentage = label_sum[\"org_count\"] / total * 100 if total else 0\n",
    "        loc_percentage = label_sum[\"loc_count\"] / total * 100 if total else 0\n",
    "        print(f\"\\n{name} label distribution:\")\n",
    "        print(label_sum)\n",
    "        print(f\"{name} label percentages: PER: {per_percentage:.2f}%, ORG: {org_percentage:.2f}%, LOC: {loc_percentage:.2f}%\")\n",
    "    \n",
    "    print_distribution(\"Train\", train_data)\n",
    "    print_distribution(\"Validation\", validation_data)\n",
    "    print_distribution(\"Test\", test_data)\n",
    "    \n",
    "    return train_data, validation_data, test_data\n",
    "\n",
    "train_data, validation_data, test_data = create_splits(df_full, int(train_data_size), int(valid_data_size), int(test_data_size))\n"
   ]
  },
  {
   "cell_type": "code",
   "execution_count": 28,
   "metadata": {
    "execution": {
     "iopub.execute_input": "2025-05-08T21:58:22.046330Z",
     "iopub.status.busy": "2025-05-08T21:58:22.046082Z",
     "iopub.status.idle": "2025-05-08T21:58:22.051248Z",
     "shell.execute_reply": "2025-05-08T21:58:22.050459Z",
     "shell.execute_reply.started": "2025-05-08T21:58:22.046299Z"
    },
    "trusted": true
   },
   "outputs": [
    {
     "data": {
      "text/plain": [
       "Index(['flattened_filtered_text_words', 'flattened_filtered_text_word_labels',\n",
       "       'numeric_labels', 'label_counts', 'per_count', 'org_count',\n",
       "       'loc_count'],\n",
       "      dtype='object')"
      ]
     },
     "execution_count": 28,
     "metadata": {},
     "output_type": "execute_result"
    }
   ],
   "source": [
    "df_full.columns"
   ]
  },
  {
   "cell_type": "code",
   "execution_count": 29,
   "metadata": {
    "execution": {
     "iopub.execute_input": "2025-05-08T21:58:22.052309Z",
     "iopub.status.busy": "2025-05-08T21:58:22.052063Z",
     "iopub.status.idle": "2025-05-08T21:58:27.045522Z",
     "shell.execute_reply": "2025-05-08T21:58:27.044816Z",
     "shell.execute_reply.started": "2025-05-08T21:58:22.052289Z"
    },
    "trusted": true
   },
   "outputs": [
    {
     "name": "stdout",
     "output_type": "stream",
     "text": [
      "DatasetDict({\n",
      "    train: Dataset({\n",
      "        features: ['id', 'words', 'ner_tags', '__index_level_0__'],\n",
      "        num_rows: 46047\n",
      "    })\n",
      "    validation: Dataset({\n",
      "        features: ['id', 'words', 'ner_tags', '__index_level_0__'],\n",
      "        num_rows: 9867\n",
      "    })\n",
      "    test: Dataset({\n",
      "        features: ['id', 'words', 'ner_tags', '__index_level_0__'],\n",
      "        num_rows: 9867\n",
      "    })\n",
      "})\n"
     ]
    }
   ],
   "source": [
    "def prepare_data(df):\n",
    "    return pd.DataFrame({\n",
    "        'id': df.index,\n",
    "        'words': df['flattened_filtered_text_words'],\n",
    "        'ner_tags': df['numeric_labels']\n",
    "    })\n",
    "\n",
    "train_dataset = Dataset.from_pandas(prepare_data(train_data))\n",
    "validation_dataset = Dataset.from_pandas(prepare_data(validation_data))\n",
    "test_dataset = Dataset.from_pandas(prepare_data(test_data))\n",
    "dataset_dict = DatasetDict({\n",
    "    'train': train_dataset,\n",
    "    'validation': validation_dataset,\n",
    "    'test': test_dataset\n",
    "})\n",
    "print(dataset_dict)"
   ]
  },
  {
   "cell_type": "code",
   "execution_count": 44,
   "metadata": {
    "execution": {
     "iopub.execute_input": "2025-05-07T17:11:42.687147Z",
     "iopub.status.busy": "2025-05-07T17:11:42.686864Z",
     "iopub.status.idle": "2025-05-07T17:11:45.122869Z",
     "shell.execute_reply": "2025-05-07T17:11:45.121880Z",
     "shell.execute_reply.started": "2025-05-07T17:11:42.687126Z"
    },
    "trusted": true
   },
   "outputs": [
    {
     "data": {
      "application/vnd.jupyter.widget-view+json": {
       "model_id": "73cc5609e9fd4f429271f6ef01cc9eeb",
       "version_major": 2,
       "version_minor": 0
      },
      "text/plain": [
       "tokenizer_config.json:   0%|          | 0.00/25.0 [00:00<?, ?B/s]"
      ]
     },
     "metadata": {},
     "output_type": "display_data"
    },
    {
     "data": {
      "application/vnd.jupyter.widget-view+json": {
       "model_id": "86384190133e49279eb86452aba2a564",
       "version_major": 2,
       "version_minor": 0
      },
      "text/plain": [
       "config.json:   0%|          | 0.00/615 [00:00<?, ?B/s]"
      ]
     },
     "metadata": {},
     "output_type": "display_data"
    },
    {
     "data": {
      "application/vnd.jupyter.widget-view+json": {
       "model_id": "465678183f9f41aa98d01b86e1b6a80d",
       "version_major": 2,
       "version_minor": 0
      },
      "text/plain": [
       "sentencepiece.bpe.model:   0%|          | 0.00/5.07M [00:00<?, ?B/s]"
      ]
     },
     "metadata": {},
     "output_type": "display_data"
    },
    {
     "data": {
      "application/vnd.jupyter.widget-view+json": {
       "model_id": "3a4dfbab16374d6ea31c4167c365a2f3",
       "version_major": 2,
       "version_minor": 0
      },
      "text/plain": [
       "tokenizer.json:   0%|          | 0.00/9.10M [00:00<?, ?B/s]"
      ]
     },
     "metadata": {},
     "output_type": "display_data"
    }
   ],
   "source": [
    "from transformers import AutoTokenizer, AutoModelForTokenClassification, pipeline\n",
    "model_name = \"xlm-roberta-base\"\n",
    "tokenizer = AutoTokenizer.from_pretrained(model_name)"
   ]
  },
  {
   "cell_type": "code",
   "execution_count": 30,
   "metadata": {
    "execution": {
     "iopub.execute_input": "2025-05-08T21:58:27.046651Z",
     "iopub.status.busy": "2025-05-08T21:58:27.046365Z",
     "iopub.status.idle": "2025-05-08T21:58:27.052003Z",
     "shell.execute_reply": "2025-05-08T21:58:27.051144Z",
     "shell.execute_reply.started": "2025-05-08T21:58:27.046629Z"
    },
    "trusted": true
   },
   "outputs": [],
   "source": [
    "def tokenize_and_align_labels(example, tokenizer, label_all_tokens=True):\n",
    "    tokenized_inputs = tokenizer(\n",
    "        example[\"words\"],\n",
    "        truncation=True,             \n",
    "        is_split_into_words=True,   \n",
    "        padding=\"longest\",           \n",
    "        return_tensors=\"pt\"          \n",
    "    )\n",
    "    labels = []\n",
    "    for i, label in enumerate(example['ner_tags']):\n",
    "        word_ids = tokenized_inputs.word_ids(batch_index=i)\n",
    "\n",
    "        previous_word_idx = None\n",
    "        label_ids = []\n",
    "\n",
    "        for word_idx in word_ids:\n",
    "            if word_idx is None:\n",
    "                label_ids.append(-100)\n",
    "            elif word_idx != previous_word_idx:\n",
    "                label_ids.append(label[word_idx])\n",
    "            else:\n",
    "                label_ids.append(label[word_idx] if label_all_tokens else -100)\n",
    "\n",
    "            previous_word_idx = word_idx\n",
    "\n",
    "        labels.append(label_ids)\n",
    "\n",
    "    tokenized_inputs[\"labels\"] = labels\n",
    "    return tokenized_inputs\n"
   ]
  },
  {
   "cell_type": "code",
   "execution_count": 31,
   "metadata": {
    "execution": {
     "iopub.execute_input": "2025-05-08T21:58:27.053040Z",
     "iopub.status.busy": "2025-05-08T21:58:27.052747Z",
     "iopub.status.idle": "2025-05-08T21:58:27.075523Z",
     "shell.execute_reply": "2025-05-08T21:58:27.074817Z",
     "shell.execute_reply.started": "2025-05-08T21:58:27.053011Z"
    },
    "trusted": true
   },
   "outputs": [
    {
     "name": "stdout",
     "output_type": "stream",
     "text": [
      "{'input_ids': tensor([[     0,   4056,   2475,  80605,   2857,   4801,   1867,  34875, 101025,\n",
      "             61,  31543,    650,  16931,     84, 225897, 116649,  23197,  12523,\n",
      "          69102,    260,    489,  46226,     89,     84, 162340,  28834,   2744,\n",
      "           1536,  36571,  30462,   3645, 211247,   6207,  97428,   2871,      5,\n",
      "         241758,     12,   5729, 137007, 145804,  56487, 144688,    197, 139566,\n",
      "          56487,      4,  16279, 240904,    790,  46226,  12919,      4, 196913,\n",
      "         180793,  80956,  13914,  66298,     15,    105,    780,  18122,  13345,\n",
      "           8378, 165443,    194,  33280,    529,   2475,  13994,    790,      4,\n",
      "          99491,    210,  45426,  13205,      4,     77, 138871,  18777,  40144,\n",
      "           5934,    751, 230545,  95633,      4,   8098,   1443,   4968, 187562,\n",
      "             84,  59319,    336,  62875,  43527,  22659,    244,      5,  15942,\n",
      "         154756,      4,    210, 130640, 237253,   7886, 225897,  88828,     49,\n",
      "          58741,  37221,   1960,      4,  84814,     84, 109673,  65224,   4443,\n",
      "            114,   1536,     15,   1316,  95531,  33585,    130, 144530,  11075,\n",
      "              9,    130,    247,   2867,  95139, 168731,    260,    114,   1536,\n",
      "             15,   1316, 144530, 134026,    194, 115284, 146681,      4,  18489,\n",
      "             49,  58741,  37221,   1960,      4,  84814,  93388,      4, 169292,\n",
      "          68095,   2867,     84,  36080,    260,      5,  56678,  58219,    790,\n",
      "              4,  62845, 116649, 128305,  69205,     44,  29034,  40347,   1270,\n",
      "             58,  23197,  11188, 104001,      5,    382,  13961, 237253,      4,\n",
      "          18489,  81973, 180793,  37058,     25,   2401,      4,     77, 138871,\n",
      "           1960,      4,  36571,  30462,   3660,  11012,    303,   6714, 116687,\n",
      "         216553,  74794,     49,  59319,    336,  12088,   6826,     84,  88828,\n",
      "             49,  31397,  40170,  15243,  93388,  37058,     25,   2401,      5,\n",
      "           1813,  16285,     29,    695,  37037,  20233,      4, 225897,     89,\n",
      "          28390,  23404,  74243, 141298,  53454,      5,  85009,    415,  26291,\n",
      "              4,    255, 237756,   2454, 162925,      4,     44, 157667,     59,\n",
      "         103558,   4400, 205335,      4,   4891,   1045,  61194,    640,   1182,\n",
      "          69017,  16256,    830,    210,  59961,  95176,    116,  12678,     84,\n",
      "          33585,    130,    138,  11267,  11075,  18122,      5,    536,  26291,\n",
      "              4, 116211,      4,     44, 157667,     59, 103558,  10948,      4,\n",
      "         123226, 114464,   1595,  66155,     25,  83027,    830,  23633,  67695,\n",
      "             46,    138,  13961,  33585,    130,  21891,    116,  11267,  11075,\n",
      "          18122,      5,   7720,    419,  10719,  24051, 240904,    790, 146681,\n",
      "              4, 154297,  91331, 166064,  26291,      4,    129,   6574, 151322,\n",
      "          10277,    957, 169292,      4,  85158,      4, 117018,    652,  40097,\n",
      "             15,    652,    267,  18122,  13345,   6826,   8378,   1438,  26244,\n",
      "              5,      2]]), 'attention_mask': tensor([[1, 1, 1, 1, 1, 1, 1, 1, 1, 1, 1, 1, 1, 1, 1, 1, 1, 1, 1, 1, 1, 1, 1, 1,\n",
      "         1, 1, 1, 1, 1, 1, 1, 1, 1, 1, 1, 1, 1, 1, 1, 1, 1, 1, 1, 1, 1, 1, 1, 1,\n",
      "         1, 1, 1, 1, 1, 1, 1, 1, 1, 1, 1, 1, 1, 1, 1, 1, 1, 1, 1, 1, 1, 1, 1, 1,\n",
      "         1, 1, 1, 1, 1, 1, 1, 1, 1, 1, 1, 1, 1, 1, 1, 1, 1, 1, 1, 1, 1, 1, 1, 1,\n",
      "         1, 1, 1, 1, 1, 1, 1, 1, 1, 1, 1, 1, 1, 1, 1, 1, 1, 1, 1, 1, 1, 1, 1, 1,\n",
      "         1, 1, 1, 1, 1, 1, 1, 1, 1, 1, 1, 1, 1, 1, 1, 1, 1, 1, 1, 1, 1, 1, 1, 1,\n",
      "         1, 1, 1, 1, 1, 1, 1, 1, 1, 1, 1, 1, 1, 1, 1, 1, 1, 1, 1, 1, 1, 1, 1, 1,\n",
      "         1, 1, 1, 1, 1, 1, 1, 1, 1, 1, 1, 1, 1, 1, 1, 1, 1, 1, 1, 1, 1, 1, 1, 1,\n",
      "         1, 1, 1, 1, 1, 1, 1, 1, 1, 1, 1, 1, 1, 1, 1, 1, 1, 1, 1, 1, 1, 1, 1, 1,\n",
      "         1, 1, 1, 1, 1, 1, 1, 1, 1, 1, 1, 1, 1, 1, 1, 1, 1, 1, 1, 1, 1, 1, 1, 1,\n",
      "         1, 1, 1, 1, 1, 1, 1, 1, 1, 1, 1, 1, 1, 1, 1, 1, 1, 1, 1, 1, 1, 1, 1, 1,\n",
      "         1, 1, 1, 1, 1, 1, 1, 1, 1, 1, 1, 1, 1, 1, 1, 1, 1, 1, 1, 1, 1, 1, 1, 1,\n",
      "         1, 1, 1, 1, 1, 1, 1, 1, 1, 1, 1, 1, 1, 1, 1, 1, 1, 1, 1, 1, 1, 1, 1, 1,\n",
      "         1, 1, 1, 1, 1, 1, 1, 1, 1, 1, 1, 1, 1, 1, 1, 1, 1, 1, 1, 1, 1, 1, 1]]), 'labels': [[-100, 0, 0, 0, 3, 3, 3, 4, 4, 0, 0, 0, 0, 0, 0, 0, 0, 0, 0, 0, 0, 0, 0, 0, 0, 0, 0, 0, 0, 0, 0, 0, 0, 0, 0, 0, 0, 0, 3, 3, 0, 0, 0, 0, 0, 0, 0, 0, 0, 0, 0, 0, 0, 0, 0, 0, 0, 0, 0, 0, 0, 0, 0, 0, 0, 0, 0, 0, 0, 0, 0, 0, 0, 0, 0, 0, 0, 0, 0, 0, 0, 0, 0, 0, 0, 0, 0, 0, 0, 0, 0, 0, 0, 0, 0, 0, 0, 0, 0, 0, 0, 0, 0, 0, 0, 0, 0, 0, 0, 0, 0, 0, 0, 0, 0, 0, 0, 0, 0, 0, 0, 0, 0, 0, 0, 0, 0, 0, 0, 0, 0, 0, 0, 0, 0, 0, 0, 0, 0, 0, 0, 0, 0, 0, 0, 0, 0, 0, 0, 0, 0, 0, 0, 0, 0, 0, 0, 0, 0, 0, 0, 0, 0, 0, 0, 0, 0, 0, 0, 0, 0, 0, 0, 0, 0, 0, 0, 0, 0, 0, 0, 0, 0, 0, 0, 0, 0, 0, 0, 0, 0, 0, 0, 0, 0, 0, 0, 0, 0, 0, 0, 0, 0, 0, 0, 0, 0, 0, 0, 0, 0, 0, 0, 0, 0, 0, 0, 0, 0, 0, 0, 0, 0, 0, 0, 0, 0, 0, 0, 0, 0, 0, 0, 0, 0, 0, 0, 0, 0, 0, 0, 0, 0, 0, 0, 0, 0, 0, 0, 0, 0, 0, 0, 0, 0, 0, 0, 0, 0, 0, 0, 0, 0, 0, 0, 0, 0, 0, 0, 0, 0, 0, 0, 0, 0, 0, 0, 0, 0, 0, 0, 0, 0, 0, 0, 0, 0, 0, 0, 0, 0, 0, 0, 0, 0, 0, 0, 0, 0, 0, 0, 0, 0, 0, 0, 0, 0, 0, 0, 0, 0, 0, 0, 0, 0, 0, 0, 0, 0, 0, 0, 0, 0, 0, 0, 0, 0, 0, 0, 0, 0, 0, 0, 0, -100]]}\n"
     ]
    }
   ],
   "source": [
    "q = tokenize_and_align_labels(dataset_dict['train'][6:7], tokenizer) \n",
    "print(q) "
   ]
  },
  {
   "cell_type": "code",
   "execution_count": 32,
   "metadata": {
    "execution": {
     "iopub.execute_input": "2025-05-08T21:58:27.076400Z",
     "iopub.status.busy": "2025-05-08T21:58:27.076199Z",
     "iopub.status.idle": "2025-05-08T21:58:27.119828Z",
     "shell.execute_reply": "2025-05-08T21:58:27.119057Z",
     "shell.execute_reply.started": "2025-05-08T21:58:27.076375Z"
    },
    "trusted": true
   },
   "outputs": [
    {
     "name": "stdout",
     "output_type": "stream",
     "text": [
      "<s>_____________________________________ -100\n",
      "▁Со_____________________________________ 0\n",
      "ці______________________________________ 0\n",
      "ологи___________________________________ 0\n",
      "▁Ви_____________________________________ 3\n",
      "щ_______________________________________ 3\n",
      "ої______________________________________ 3\n",
      "▁школи__________________________________ 4\n",
      "▁економіки______________________________ 4\n",
      "▁за_____________________________________ 0\n",
      "фік_____________________________________ 0\n",
      "с_______________________________________ 0\n",
      "ували___________________________________ 0\n",
      "▁у______________________________________ 0\n",
      "▁росіян_________________________________ 0\n",
      "▁зростання______________________________ 0\n",
      "▁громадян_______________________________ 0\n",
      "ської___________________________________ 0\n",
      "▁активност______________________________ 0\n",
      "і_______________________________________ 0\n",
      "▁та_____________________________________ 0\n",
      "▁вір____________________________________ 0\n",
      "и_______________________________________ 0\n",
      "▁у______________________________________ 0\n",
      "▁власні_________________________________ 0\n",
      "▁сили___________________________________ 0\n",
      "▁т______________________________________ 0\n",
      "лі______________________________________ 0\n",
      "▁пан____________________________________ 0\n",
      "дем_____________________________________ 0\n",
      "ії______________________________________ 0\n",
      "▁корон__________________________________ 0\n",
      "ав______________________________________ 0\n",
      "іру_____________________________________ 0\n",
      "су______________________________________ 0\n",
      "._______________________________________ 0\n",
      "▁Джерело________________________________ 0\n",
      ":_______________________________________ 0\n",
      "▁Р______________________________________ 3\n",
      "БК______________________________________ 3\n",
      "▁посиланням_____________________________ 0\n",
      "▁дослідження____________________________ 0\n",
      "▁Згідн__________________________________ 0\n",
      "о_______________________________________ 0\n",
      "▁результатами___________________________ 0\n",
      "▁дослідження____________________________ 0\n",
      ",_______________________________________ 0\n",
      "▁30%____________________________________ 0\n",
      "▁респондент_____________________________ 0\n",
      "ів______________________________________ 0\n",
      "▁вір____________________________________ 0\n",
      "ять_____________________________________ 0\n",
      ",_______________________________________ 0\n",
      "▁зможуть________________________________ 0\n",
      "▁змінити________________________________ 0\n",
      "▁своє___________________________________ 0\n",
      "▁життя__________________________________ 0\n",
      "▁краще__________________________________ 0\n",
      "▁(______________________________________ 0\n",
      "у_______________________________________ 0\n",
      "▁2016___________________________________ 0\n",
      "▁році___________________________________ 0\n",
      "▁таких__________________________________ 0\n",
      "▁було___________________________________ 0\n",
      "▁22%____________________________________ 0\n",
      ").______________________________________ 0\n",
      "▁словами________________________________ 0\n",
      "▁со_____________________________________ 0\n",
      "ці______________________________________ 0\n",
      "олог____________________________________ 0\n",
      "ів______________________________________ 0\n",
      ",_______________________________________ 0\n",
      "▁показник_______________________________ 0\n",
      "▁з______________________________________ 0\n",
      "рост____________________________________ 0\n",
      "ає______________________________________ 0\n",
      ",_______________________________________ 0\n",
      "▁не_____________________________________ 0\n",
      "зважаючи________________________________ 0\n",
      "▁скоро__________________________________ 0\n",
      "чення___________________________________ 0\n",
      "▁част___________________________________ 0\n",
      "ки______________________________________ 0\n",
      "▁середнього_____________________________ 0\n",
      "▁класу__________________________________ 0\n",
      ",_______________________________________ 0\n",
      "▁який___________________________________ 0\n",
      "▁як_____________________________________ 0\n",
      "раз_____________________________________ 0\n",
      "▁відрізняється__________________________ 0\n",
      "▁у______________________________________ 0\n",
      "пев_____________________________________ 0\n",
      "не______________________________________ 0\n",
      "ністю___________________________________ 0\n",
      "▁своїх__________________________________ 0\n",
      "▁сила___________________________________ 0\n",
      "х_______________________________________ 0\n",
      "._______________________________________ 0\n",
      "▁Від____________________________________ 0\n",
      "значається______________________________ 0\n",
      ",_______________________________________ 0\n",
      "▁з______________________________________ 0\n",
      "росла___________________________________ 0\n",
      "▁впевнені_______________________________ 0\n",
      "сть_____________________________________ 0\n",
      "▁росіян_________________________________ 0\n",
      "▁можливості_____________________________ 0\n",
      "▁в______________________________________ 0\n",
      "пли_____________________________________ 0\n",
      "нути____________________________________ 0\n",
      "▁те_____________________________________ 0\n",
      ",_______________________________________ 0\n",
      "▁відбувається___________________________ 0\n",
      "▁у______________________________________ 0\n",
      "▁своєму_________________________________ 0\n",
      "▁місті__________________________________ 0\n",
      "▁чи_____________________________________ 0\n",
      "▁се_____________________________________ 0\n",
      "лі______________________________________ 0\n",
      "▁(______________________________________ 0\n",
      "з_______________________________________ 0\n",
      "▁8%_____________________________________ 0\n",
      "▁2016-__________________________________ 0\n",
      "м_______________________________________ 0\n",
      "▁13%____________________________________ 0\n",
      "▁2020___________________________________ 0\n",
      "-_______________________________________ 0\n",
      "м_______________________________________ 0\n",
      "),______________________________________ 0\n",
      "▁або____________________________________ 0\n",
      "▁мікро__________________________________ 0\n",
      "район___________________________________ 0\n",
      "і_______________________________________ 0\n",
      "▁се_____________________________________ 0\n",
      "лі______________________________________ 0\n",
      "▁(______________________________________ 0\n",
      "з_______________________________________ 0\n",
      "▁13%____________________________________ 0\n",
      "▁18%____________________________________ 0\n",
      ").______________________________________ 0\n",
      "▁45%____________________________________ 0\n",
      "▁вважають_______________________________ 0\n",
      ",_______________________________________ 0\n",
      "▁можуть_________________________________ 0\n",
      "▁в______________________________________ 0\n",
      "пли_____________________________________ 0\n",
      "нути____________________________________ 0\n",
      "▁те_____________________________________ 0\n",
      ",_______________________________________ 0\n",
      "▁відбувається___________________________ 0\n",
      "▁роботі_________________________________ 0\n",
      ",_______________________________________ 0\n",
      "▁ситуацію_______________________________ 0\n",
      "▁будинку________________________________ 0\n",
      "▁або____________________________________ 0\n",
      "▁у______________________________________ 0\n",
      "▁двор___________________________________ 0\n",
      "і_______________________________________ 0\n",
      "._______________________________________ 0\n",
      "▁думку__________________________________ 0\n",
      "▁експерт________________________________ 0\n",
      "ів______________________________________ 0\n",
      ",_______________________________________ 0\n",
      "▁таке___________________________________ 0\n",
      "▁зростання______________________________ 0\n",
      "▁говорити_______________________________ 0\n",
      "▁розвиток_______________________________ 0\n",
      "▁\"______________________________________ 0\n",
      "гли_____________________________________ 0\n",
      "бин_____________________________________ 0\n",
      "ного____________________________________ 0\n",
      "\"_______________________________________ 0\n",
      "▁громадян_______________________________ 0\n",
      "ського__________________________________ 0\n",
      "▁суспільства____________________________ 0\n",
      "._______________________________________ 0\n",
      "▁8______________________________________ 0\n",
      "1%______________________________________ 0\n",
      "▁впевнені_______________________________ 0\n",
      ",_______________________________________ 0\n",
      "▁можуть_________________________________ 0\n",
      "▁щось___________________________________ 0\n",
      "▁змінити________________________________ 0\n",
      "▁сім____________________________________ 0\n",
      "'_______________________________________ 0\n",
      "ї_______________________________________ 0\n",
      ",_______________________________________ 0\n",
      "▁не_____________________________________ 0\n",
      "зважаючи________________________________ 0\n",
      "▁те_____________________________________ 0\n",
      ",_______________________________________ 0\n",
      "▁пан____________________________________ 0\n",
      "дем_____________________________________ 0\n",
      "ія______________________________________ 0\n",
      "▁кара___________________________________ 0\n",
      "н_______________________________________ 0\n",
      "тин_____________________________________ 0\n",
      "▁негативно______________________________ 0\n",
      "▁познач_________________________________ 0\n",
      "илися___________________________________ 0\n",
      "▁в______________________________________ 0\n",
      "пев_____________________________________ 0\n",
      "не______________________________________ 0\n",
      "ності___________________________________ 0\n",
      "▁людей__________________________________ 0\n",
      "▁у______________________________________ 0\n",
      "▁можливості_____________________________ 0\n",
      "▁в______________________________________ 0\n",
      "регул___________________________________ 0\n",
      "ювати___________________________________ 0\n",
      "▁проблеми_______________________________ 0\n",
      "▁роботі_________________________________ 0\n",
      "▁сім____________________________________ 0\n",
      "'_______________________________________ 0\n",
      "ї_______________________________________ 0\n",
      "._______________________________________ 0\n",
      "▁При____________________________________ 0\n",
      "▁цьому__________________________________ 0\n",
      "▁на_____________________________________ 0\n",
      "го______________________________________ 0\n",
      "лош_____________________________________ 0\n",
      "ується__________________________________ 0\n",
      ",_______________________________________ 0\n",
      "▁росіян_________________________________ 0\n",
      "и_______________________________________ 0\n",
      "▁стали__________________________________ 0\n",
      "▁більш__________________________________ 0\n",
      "▁вимог__________________________________ 0\n",
      "ливі____________________________________ 0\n",
      "▁держави________________________________ 0\n",
      "._______________________________________ 0\n",
      "▁Част___________________________________ 0\n",
      "ка______________________________________ 0\n",
      "▁тих____________________________________ 0\n",
      ",_______________________________________ 0\n",
      "▁до_____________________________________ 0\n",
      "тримує__________________________________ 0\n",
      "ться____________________________________ 0\n",
      "▁думки__________________________________ 0\n",
      ",_______________________________________ 0\n",
      "▁\"______________________________________ 0\n",
      "держав__________________________________ 0\n",
      "а_______________________________________ 0\n",
      "▁дає____________________________________ 0\n",
      "▁нам____________________________________ 0\n",
      "▁чимало_________________________________ 0\n",
      ",_______________________________________ 0\n",
      "▁можна__________________________________ 0\n",
      "▁ви_____________________________________ 0\n",
      "мага____________________________________ 0\n",
      "ти______________________________________ 0\n",
      "▁від____________________________________ 0\n",
      "▁неї____________________________________ 0\n",
      "▁більше_________________________________ 0\n",
      "\",______________________________________ 0\n",
      "▁з______________________________________ 0\n",
      "більш___________________________________ 0\n",
      "илася___________________________________ 0\n",
      "▁2______________________________________ 0\n",
      "9%______________________________________ 0\n",
      "▁у______________________________________ 0\n",
      "▁2016-__________________________________ 0\n",
      "м_______________________________________ 0\n",
      "▁3______________________________________ 0\n",
      "4%______________________________________ 0\n",
      "▁2020___________________________________ 0\n",
      "▁році___________________________________ 0\n",
      "._______________________________________ 0\n",
      "▁А______________________________________ 0\n",
      "▁тих____________________________________ 0\n",
      ",_______________________________________ 0\n",
      "▁вважає_________________________________ 0\n",
      ",_______________________________________ 0\n",
      "▁\"______________________________________ 0\n",
      "держав__________________________________ 0\n",
      "а_______________________________________ 0\n",
      "▁дає____________________________________ 0\n",
      "▁мало___________________________________ 0\n",
      ",_______________________________________ 0\n",
      "▁їй_____________________________________ 0\n",
      "▁ніч____________________________________ 0\n",
      "им______________________________________ 0\n",
      "▁зобов__________________________________ 0\n",
      "'_______________________________________ 0\n",
      "язані___________________________________ 0\n",
      "\",______________________________________ 0\n",
      "▁стало__________________________________ 0\n",
      "▁менше__________________________________ 0\n",
      "▁–______________________________________ 0\n",
      "▁3______________________________________ 0\n",
      "1%______________________________________ 0\n",
      "▁2016-__________________________________ 0\n",
      "м_______________________________________ 0\n",
      "▁проти__________________________________ 0\n",
      "▁2______________________________________ 0\n",
      "4%______________________________________ 0\n",
      "▁2020___________________________________ 0\n",
      "▁році___________________________________ 0\n",
      "._______________________________________ 0\n",
      "▁Раз____________________________________ 0\n",
      "ом______________________________________ 0\n",
      "▁тим____________________________________ 0\n",
      "▁40%____________________________________ 0\n",
      "▁респондент_____________________________ 0\n",
      "ів______________________________________ 0\n",
      "▁вважають_______________________________ 0\n",
      ",_______________________________________ 0\n",
      "▁держава________________________________ 0\n",
      "▁повинна________________________________ 0\n",
      "▁забезпечити____________________________ 0\n",
      "▁тих____________________________________ 0\n",
      ",_______________________________________ 0\n",
      "▁по_____________________________________ 0\n",
      "тра_____________________________________ 0\n",
      "пив_____________________________________ 0\n",
      "▁склад__________________________________ 0\n",
      "ну______________________________________ 0\n",
      "▁ситуацію_______________________________ 0\n",
      ",_______________________________________ 0\n",
      "▁наприклад______________________________ 0\n",
      ",_______________________________________ 0\n",
      "▁втрати_________________________________ 0\n",
      "в_______________________________________ 0\n",
      "▁роботу_________________________________ 0\n",
      "▁(______________________________________ 0\n",
      "в_______________________________________ 0\n",
      "▁2018___________________________________ 0\n",
      "▁році___________________________________ 0\n",
      "▁таких__________________________________ 0\n",
      "▁людей__________________________________ 0\n",
      "▁було___________________________________ 0\n",
      "▁27_____________________________________ 0\n",
      "%)______________________________________ 0\n",
      "._______________________________________ 0\n",
      "</s>____________________________________ -100\n"
     ]
    }
   ],
   "source": [
    "for token, label in zip(tokenizer.convert_ids_to_tokens(q[\"input_ids\"][0]),q[\"labels\"][0]): \n",
    "    print(f\"{token:_<40} {label}\") "
   ]
  },
  {
   "cell_type": "code",
   "execution_count": 33,
   "metadata": {
    "execution": {
     "iopub.execute_input": "2025-05-08T21:58:27.120938Z",
     "iopub.status.busy": "2025-05-08T21:58:27.120664Z",
     "iopub.status.idle": "2025-05-08T22:00:11.120869Z",
     "shell.execute_reply": "2025-05-08T22:00:11.120171Z",
     "shell.execute_reply.started": "2025-05-08T21:58:27.120910Z"
    },
    "trusted": true
   },
   "outputs": [
    {
     "data": {
      "application/vnd.jupyter.widget-view+json": {
       "model_id": "ea767ff98a5a4a40bbbe704cd0754a86",
       "version_major": 2,
       "version_minor": 0
      },
      "text/plain": [
       "Map:   0%|          | 0/46047 [00:00<?, ? examples/s]"
      ]
     },
     "metadata": {},
     "output_type": "display_data"
    },
    {
     "data": {
      "application/vnd.jupyter.widget-view+json": {
       "model_id": "4e2ef1912f83425d9147bc30770436c1",
       "version_major": 2,
       "version_minor": 0
      },
      "text/plain": [
       "Map:   0%|          | 0/9867 [00:00<?, ? examples/s]"
      ]
     },
     "metadata": {},
     "output_type": "display_data"
    },
    {
     "data": {
      "application/vnd.jupyter.widget-view+json": {
       "model_id": "1a9c0d24f6e1410995f23e9578e888d2",
       "version_major": 2,
       "version_minor": 0
      },
      "text/plain": [
       "Map:   0%|          | 0/9867 [00:00<?, ? examples/s]"
      ]
     },
     "metadata": {},
     "output_type": "display_data"
    }
   ],
   "source": [
    "from datasets import DatasetDict\n",
    "tokenized_datasets = dataset_dict.map(\n",
    "    lambda examples: tokenize_and_align_labels(examples, tokenizer),\n",
    "    batched=True,\n",
    ")\n",
    "# print(tokenized_datasets)"
   ]
  },
  {
   "cell_type": "code",
   "execution_count": 34,
   "metadata": {
    "execution": {
     "iopub.execute_input": "2025-05-08T22:00:11.122020Z",
     "iopub.status.busy": "2025-05-08T22:00:11.121693Z",
     "iopub.status.idle": "2025-05-08T22:00:11.125592Z",
     "shell.execute_reply": "2025-05-08T22:00:11.124876Z",
     "shell.execute_reply.started": "2025-05-08T22:00:11.121990Z"
    },
    "trusted": true
   },
   "outputs": [],
   "source": [
    "from transformers import Trainer, TrainingArguments, DataCollatorForTokenClassification"
   ]
  },
  {
   "cell_type": "code",
   "execution_count": 44,
   "metadata": {
    "execution": {
     "iopub.execute_input": "2025-05-06T21:52:08.313643Z",
     "iopub.status.busy": "2025-05-06T21:52:08.313402Z",
     "iopub.status.idle": "2025-05-06T21:52:09.714670Z",
     "shell.execute_reply": "2025-05-06T21:52:09.714049Z",
     "shell.execute_reply.started": "2025-05-06T21:52:08.313622Z"
    },
    "trusted": true
   },
   "outputs": [
    {
     "data": {
      "application/vnd.jupyter.widget-view+json": {
       "model_id": "e15f2dc3be3a40ff9b7dfb431b140318",
       "version_major": 2,
       "version_minor": 0
      },
      "text/plain": [
       "Downloading builder script:   0%|          | 0.00/6.34k [00:00<?, ?B/s]"
      ]
     },
     "metadata": {},
     "output_type": "display_data"
    }
   ],
   "source": [
    "from evaluate import load\n",
    "metric = load(\"seqeval\")"
   ]
  },
  {
   "cell_type": "code",
   "execution_count": 45,
   "metadata": {
    "execution": {
     "iopub.execute_input": "2025-05-06T21:52:09.715613Z",
     "iopub.status.busy": "2025-05-06T21:52:09.715415Z",
     "iopub.status.idle": "2025-05-06T21:52:13.341943Z",
     "shell.execute_reply": "2025-05-06T21:52:13.341063Z",
     "shell.execute_reply.started": "2025-05-06T21:52:09.715592Z"
    },
    "trusted": true
   },
   "outputs": [
    {
     "data": {
      "application/vnd.jupyter.widget-view+json": {
       "model_id": "08db604a0b5b4f09814fc63aff8763ab",
       "version_major": 2,
       "version_minor": 0
      },
      "text/plain": [
       "model.safetensors:   0%|          | 0.00/1.12G [00:00<?, ?B/s]"
      ]
     },
     "metadata": {},
     "output_type": "display_data"
    },
    {
     "name": "stderr",
     "output_type": "stream",
     "text": [
      "Some weights of XLMRobertaForTokenClassification were not initialized from the model checkpoint at xlm-roberta-base and are newly initialized: ['classifier.bias', 'classifier.weight']\n",
      "You should probably TRAIN this model on a down-stream task to be able to use it for predictions and inference.\n"
     ]
    }
   ],
   "source": [
    "model = AutoModelForTokenClassification.from_pretrained(model_name, num_labels=7)"
   ]
  },
  {
   "cell_type": "code",
   "execution_count": 46,
   "metadata": {
    "execution": {
     "iopub.execute_input": "2025-05-06T21:52:13.343147Z",
     "iopub.status.busy": "2025-05-06T21:52:13.342909Z",
     "iopub.status.idle": "2025-05-06T21:52:13.986127Z",
     "shell.execute_reply": "2025-05-06T21:52:13.985441Z",
     "shell.execute_reply.started": "2025-05-06T21:52:13.343127Z"
    },
    "trusted": true
   },
   "outputs": [],
   "source": [
    "model = model.to('cuda')"
   ]
  },
  {
   "cell_type": "code",
   "execution_count": 47,
   "metadata": {
    "execution": {
     "iopub.execute_input": "2025-05-06T21:52:13.987106Z",
     "iopub.status.busy": "2025-05-06T21:52:13.986892Z",
     "iopub.status.idle": "2025-05-06T21:52:13.992627Z",
     "shell.execute_reply": "2025-05-06T21:52:13.991812Z",
     "shell.execute_reply.started": "2025-05-06T21:52:13.987088Z"
    },
    "trusted": true
   },
   "outputs": [],
   "source": [
    "def compute_metrics(eval_preds, label_list): \n",
    "    \"\"\"\n",
    "    Function to compute the evaluation metrics for Named Entity Recognition (NER) tasks.\n",
    "    \"\"\"\n",
    "    pred_logits, labels = eval_preds \n",
    "\n",
    "    pred_logits = np.argmax(pred_logits, axis=2) \n",
    "\n",
    "    predictions = [ \n",
    "        [label_list[pred] for (pred, l) in zip(prediction, label) if l != -100] \n",
    "        for prediction, label in zip(pred_logits, labels) \n",
    "    ] \n",
    "\n",
    "    true_labels = [ \n",
    "        [label_list[l] for (pred, l) in zip(prediction, label) if l != -100] \n",
    "        for prediction, label in zip(pred_logits, labels) \n",
    "    ] \n",
    "\n",
    "    results = metric.compute(predictions=predictions, references=true_labels) \n",
    "\n",
    "    return { \n",
    "        \"precision\": results[\"overall_precision\"], \n",
    "        \"recall\": results[\"overall_recall\"], \n",
    "        \"f1\": results[\"overall_f1\"], \n",
    "        \"accuracy\": results[\"overall_accuracy\"], \n",
    "    }"
   ]
  },
  {
   "cell_type": "code",
   "execution_count": 48,
   "metadata": {
    "execution": {
     "iopub.execute_input": "2025-05-06T21:52:13.993784Z",
     "iopub.status.busy": "2025-05-06T21:52:13.993540Z",
     "iopub.status.idle": "2025-05-06T21:52:14.088512Z",
     "shell.execute_reply": "2025-05-06T21:52:14.087815Z",
     "shell.execute_reply.started": "2025-05-06T21:52:13.993759Z"
    },
    "trusted": true
   },
   "outputs": [],
   "source": [
    "label_list = ['O', 'B-PER', 'I-PER', 'B-ORG', 'I-ORG', 'B-LOC', 'I-LOC']"
   ]
  },
  {
   "cell_type": "code",
   "execution_count": 49,
   "metadata": {
    "execution": {
     "iopub.execute_input": "2025-05-06T21:52:14.089516Z",
     "iopub.status.busy": "2025-05-06T21:52:14.089313Z",
     "iopub.status.idle": "2025-05-06T21:52:14.104682Z",
     "shell.execute_reply": "2025-05-06T21:52:14.104008Z",
     "shell.execute_reply.started": "2025-05-06T21:52:14.089498Z"
    },
    "trusted": true
   },
   "outputs": [],
   "source": [
    "def compute_metrics_with_labels(eval_preds):\n",
    "    return compute_metrics(eval_preds, label_list)"
   ]
  },
  {
   "cell_type": "code",
   "execution_count": 50,
   "metadata": {
    "execution": {
     "iopub.execute_input": "2025-05-06T21:52:14.105760Z",
     "iopub.status.busy": "2025-05-06T21:52:14.105470Z",
     "iopub.status.idle": "2025-05-06T21:52:14.118768Z",
     "shell.execute_reply": "2025-05-06T21:52:14.118062Z",
     "shell.execute_reply.started": "2025-05-06T21:52:14.105731Z"
    },
    "trusted": true
   },
   "outputs": [],
   "source": [
    "data_collator = DataCollatorForTokenClassification(tokenizer)"
   ]
  },
  {
   "cell_type": "code",
   "execution_count": 51,
   "metadata": {
    "execution": {
     "iopub.execute_input": "2025-05-06T21:52:14.119653Z",
     "iopub.status.busy": "2025-05-06T21:52:14.119456Z",
     "iopub.status.idle": "2025-05-06T21:52:14.158306Z",
     "shell.execute_reply": "2025-05-06T21:52:14.157677Z",
     "shell.execute_reply.started": "2025-05-06T21:52:14.119635Z"
    },
    "trusted": true
   },
   "outputs": [
    {
     "name": "stderr",
     "output_type": "stream",
     "text": [
      "/usr/local/lib/python3.10/dist-packages/transformers/training_args.py:1575: FutureWarning: `evaluation_strategy` is deprecated and will be removed in version 4.46 of 🤗 Transformers. Use `eval_strategy` instead\n",
      "  warnings.warn(\n"
     ]
    }
   ],
   "source": [
    "from transformers import TrainingArguments\n",
    "\n",
    "training_args = TrainingArguments(\n",
    "    output_dir=\"./results\",\n",
    "    evaluation_strategy=\"steps\", \n",
    "    eval_steps=1000,\n",
    "    save_strategy=\"steps\",\n",
    "    save_steps=1000,\n",
    "    save_total_limit=4,\n",
    "    load_best_model_at_end=True,\n",
    "    metric_for_best_model=\"eval_loss\",\n",
    "    greater_is_better=False,\n",
    "    logging_dir=\"./logs\",\n",
    "    logging_steps=100,\n",
    "    learning_rate=2e-5,\n",
    "    lr_scheduler_type=\"cosine\",\n",
    "    per_device_train_batch_size=16,\n",
    "    per_device_eval_batch_size=32,\n",
    "    num_train_epochs=5,\n",
    "    weight_decay=0.01,\n",
    "    report_to=\"tensorboard\",\n",
    "    warmup_ratio=0.05,\n",
    "    fp16=True,\n",
    "    max_grad_norm=1.0,\n",
    "    gradient_accumulation_steps=2,\n",
    "    label_smoothing_factor=0.05\n",
    ")"
   ]
  },
  {
   "cell_type": "code",
   "execution_count": 52,
   "metadata": {
    "execution": {
     "iopub.execute_input": "2025-05-06T21:52:14.162604Z",
     "iopub.status.busy": "2025-05-06T21:52:14.162403Z",
     "iopub.status.idle": "2025-05-06T21:52:15.164355Z",
     "shell.execute_reply": "2025-05-06T21:52:15.163435Z",
     "shell.execute_reply.started": "2025-05-06T21:52:14.162587Z"
    },
    "trusted": true
   },
   "outputs": [
    {
     "name": "stdout",
     "output_type": "stream",
     "text": [
      "Tag 0 (O): 88.83%\n",
      "Tag 1 (B-PER): 2.08%\n",
      "Tag 2 (I-PER): 1.14%\n",
      "Tag 3 (B-ORG): 2.84%\n",
      "Tag 4 (I-ORG): 1.94%\n",
      "Tag 5 (B-LOC): 2.76%\n",
      "Tag 6 (I-LOC): 0.40%\n"
     ]
    }
   ],
   "source": [
    "from collections import Counter\n",
    "number_to_label = {v: k for k, v in label_to_number.items()}\n",
    "\n",
    "all_tags = [tag for tags in df_full[\"numeric_labels\"] for tag in tags]\n",
    "tag_counts = Counter(all_tags)\n",
    "\n",
    "total_tags = sum(tag_counts.values())\n",
    "\n",
    "percentages = {tag: count / total_tags * 100 for tag, count in tag_counts.items()}\n",
    "\n",
    "for tag_id in sorted(percentages):\n",
    "    tag_name = number_to_label[tag_id]\n",
    "    percentage = percentages[tag_id]\n",
    "    print(f\"Tag {tag_id} ({tag_name}): {percentage:.2f}%\")"
   ]
  },
  {
   "cell_type": "code",
   "execution_count": 53,
   "metadata": {
    "execution": {
     "iopub.execute_input": "2025-05-06T21:52:15.165723Z",
     "iopub.status.busy": "2025-05-06T21:52:15.165482Z",
     "iopub.status.idle": "2025-05-07T00:26:44.649676Z",
     "shell.execute_reply": "2025-05-07T00:26:44.648643Z",
     "shell.execute_reply.started": "2025-05-06T21:52:15.165704Z"
    },
    "trusted": true
   },
   "outputs": [
    {
     "name": "stderr",
     "output_type": "stream",
     "text": [
      "<ipython-input-53-c0cb40a60e9b>:42: FutureWarning: `tokenizer` is deprecated and will be removed in version 5.0.0 for `CustomTrainer.__init__`. Use `processing_class` instead.\n",
      "  trainer = CustomTrainer(\n"
     ]
    },
    {
     "data": {
      "text/html": [
       "\n",
       "    <div>\n",
       "      \n",
       "      <progress value='5000' max='7195' style='width:300px; height:20px; vertical-align: middle;'></progress>\n",
       "      [5000/7195 2:34:20 < 1:07:46, 0.54 it/s, Epoch 3/5]\n",
       "    </div>\n",
       "    <table border=\"1\" class=\"dataframe\">\n",
       "  <thead>\n",
       " <tr style=\"text-align: left;\">\n",
       "      <th>Step</th>\n",
       "      <th>Training Loss</th>\n",
       "      <th>Validation Loss</th>\n",
       "      <th>Precision</th>\n",
       "      <th>Recall</th>\n",
       "      <th>F1</th>\n",
       "      <th>Accuracy</th>\n",
       "    </tr>\n",
       "  </thead>\n",
       "  <tbody>\n",
       "    <tr>\n",
       "      <td>1000</td>\n",
       "      <td>1.062800</td>\n",
       "      <td>0.793482</td>\n",
       "      <td>0.833866</td>\n",
       "      <td>0.938779</td>\n",
       "      <td>0.883218</td>\n",
       "      <td>0.974489</td>\n",
       "    </tr>\n",
       "    <tr>\n",
       "      <td>2000</td>\n",
       "      <td>1.034900</td>\n",
       "      <td>0.780966</td>\n",
       "      <td>0.861669</td>\n",
       "      <td>0.941332</td>\n",
       "      <td>0.899741</td>\n",
       "      <td>0.978500</td>\n",
       "    </tr>\n",
       "    <tr>\n",
       "      <td>3000</td>\n",
       "      <td>1.021700</td>\n",
       "      <td>0.775718</td>\n",
       "      <td>0.872571</td>\n",
       "      <td>0.946311</td>\n",
       "      <td>0.907946</td>\n",
       "      <td>0.980920</td>\n",
       "    </tr>\n",
       "    <tr>\n",
       "      <td>4000</td>\n",
       "      <td>1.016300</td>\n",
       "      <td>0.770739</td>\n",
       "      <td>0.876510</td>\n",
       "      <td>0.947917</td>\n",
       "      <td>0.910816</td>\n",
       "      <td>0.981423</td>\n",
       "    </tr>\n",
       "    <tr>\n",
       "      <td>5000</td>\n",
       "      <td>1.012200</td>\n",
       "      <td>0.772299</td>\n",
       "      <td>0.865433</td>\n",
       "      <td>0.949275</td>\n",
       "      <td>0.905417</td>\n",
       "      <td>0.979883</td>\n",
       "    </tr>\n",
       "  </tbody>\n",
       "</table><p>"
      ],
      "text/plain": [
       "<IPython.core.display.HTML object>"
      ]
     },
     "metadata": {},
     "output_type": "display_data"
    },
    {
     "data": {
      "text/plain": [
       "('./best_model/tokenizer_config.json',\n",
       " './best_model/special_tokens_map.json',\n",
       " './best_model/sentencepiece.bpe.model',\n",
       " './best_model/added_tokens.json',\n",
       " './best_model/tokenizer.json')"
      ]
     },
     "execution_count": 53,
     "metadata": {},
     "output_type": "execute_result"
    }
   ],
   "source": [
    "from transformers import Trainer, EarlyStoppingCallback\n",
    "import torch\n",
    "import torch.nn as nn\n",
    "\n",
    "o_ratio   = percentages.get(0, 0) / 100\n",
    "per_ratio = (percentages.get(1, 0) + percentages.get(2, 0)) / 100\n",
    "org_ratio = (percentages.get(3, 0) + percentages.get(4, 0)) / 100\n",
    "loc_ratio = (percentages.get(5, 0) + percentages.get(6, 0)) / 100\n",
    "\n",
    "def safe_inv(x): return 1.0 / x if x > 0 else 1.0\n",
    "\n",
    "entity_weight = safe_inv(per_ratio + org_ratio + loc_ratio)\n",
    "class_weights = torch.tensor([\n",
    "    safe_inv(o_ratio), \n",
    "    entity_weight,\n",
    "    entity_weight,\n",
    "    entity_weight,\n",
    "    entity_weight,\n",
    "    entity_weight,\n",
    "    entity_weight\n",
    "], dtype=torch.float)\n",
    "\n",
    "\n",
    "class CustomTrainer(Trainer):\n",
    "    def compute_loss(self, model, inputs, return_outputs=False, **kwargs):\n",
    "        labels = inputs.pop(\"labels\")\n",
    "        outputs = model(**inputs)\n",
    "        logits = outputs.logits\n",
    "\n",
    "\n",
    "        logits = nn.functional.dropout(logits, p=0.3, training=self.model.training)\n",
    "\n",
    "\n",
    "        loss_fct = nn.CrossEntropyLoss(\n",
    "            weight=class_weights.to(logits.device),\n",
    "            ignore_index=-100,\n",
    "            label_smoothing=0.05\n",
    "        )\n",
    "        loss = loss_fct(logits.view(-1, logits.shape[-1]), labels.view(-1))\n",
    "        return (loss, outputs) if return_outputs else loss\n",
    "\n",
    "trainer = CustomTrainer(\n",
    "    model=model,\n",
    "    args=training_args,\n",
    "    train_dataset=tokenized_datasets[\"train\"],\n",
    "    eval_dataset=tokenized_datasets[\"validation\"],\n",
    "    tokenizer=tokenizer,\n",
    "    compute_metrics=compute_metrics_with_labels,\n",
    "    data_collator=data_collator\n",
    ")\n",
    "\n",
    "trainer.add_callback(EarlyStoppingCallback(early_stopping_patience=1))\n",
    "\n",
    "trainer.train()\n",
    "\n",
    "trainer.save_model(\"./best_model\")\n",
    "tokenizer.save_pretrained(\"./best_model\")"
   ]
  },
  {
   "cell_type": "code",
   "execution_count": 54,
   "metadata": {
    "execution": {
     "iopub.execute_input": "2025-05-07T00:26:44.650878Z",
     "iopub.status.busy": "2025-05-07T00:26:44.650598Z",
     "iopub.status.idle": "2025-05-07T00:30:03.845366Z",
     "shell.execute_reply": "2025-05-07T00:30:03.844602Z",
     "shell.execute_reply.started": "2025-05-07T00:26:44.650856Z"
    },
    "trusted": true
   },
   "outputs": [
    {
     "data": {
      "text/html": [],
      "text/plain": [
       "<IPython.core.display.HTML object>"
      ]
     },
     "metadata": {},
     "output_type": "display_data"
    },
    {
     "name": "stdout",
     "output_type": "stream",
     "text": [
      "Metrics on test dataset: {'test_loss': 0.7626747488975525, 'test_precision': 0.8792449818428508, 'test_recall': 0.9476830876871022, 'test_f1': 0.9121821631878558, 'test_accuracy': 0.9810029398986184, 'test_runtime': 199.1852, 'test_samples_per_second': 49.537, 'test_steps_per_second': 1.551}\n"
     ]
    }
   ],
   "source": [
    "predictions, labels, metrics = trainer.predict(tokenized_datasets[\"test\"])\n",
    "\n",
    "print(\"Metrics on test dataset:\", metrics)"
   ]
  },
  {
   "cell_type": "code",
   "execution_count": 55,
   "metadata": {
    "execution": {
     "iopub.execute_input": "2025-05-07T00:30:03.846422Z",
     "iopub.status.busy": "2025-05-07T00:30:03.846184Z",
     "iopub.status.idle": "2025-05-07T00:30:03.853543Z",
     "shell.execute_reply": "2025-05-07T00:30:03.852778Z",
     "shell.execute_reply.started": "2025-05-07T00:30:03.846403Z"
    },
    "trusted": true
   },
   "outputs": [],
   "source": [
    "df_metrics = pd.DataFrame(trainer.state.log_history)"
   ]
  },
  {
   "cell_type": "code",
   "execution_count": 56,
   "metadata": {
    "execution": {
     "iopub.execute_input": "2025-05-07T00:30:03.854540Z",
     "iopub.status.busy": "2025-05-07T00:30:03.854325Z",
     "iopub.status.idle": "2025-05-07T00:30:03.905359Z",
     "shell.execute_reply": "2025-05-07T00:30:03.904554Z",
     "shell.execute_reply.started": "2025-05-07T00:30:03.854510Z"
    },
    "trusted": true
   },
   "outputs": [
    {
     "name": "stderr",
     "output_type": "stream",
     "text": [
      "/usr/local/lib/python3.10/dist-packages/pandas/io/formats/format.py:1458: RuntimeWarning: invalid value encountered in greater\n",
      "  has_large_values = (abs_vals > 1e6).any()\n",
      "/usr/local/lib/python3.10/dist-packages/pandas/io/formats/format.py:1459: RuntimeWarning: invalid value encountered in less\n",
      "  has_small_values = ((abs_vals < 10 ** (-self.digits)) & (abs_vals > 0)).any()\n",
      "/usr/local/lib/python3.10/dist-packages/pandas/io/formats/format.py:1459: RuntimeWarning: invalid value encountered in greater\n",
      "  has_small_values = ((abs_vals < 10 ** (-self.digits)) & (abs_vals > 0)).any()\n"
     ]
    },
    {
     "data": {
      "text/html": [
       "<div>\n",
       "<style scoped>\n",
       "    .dataframe tbody tr th:only-of-type {\n",
       "        vertical-align: middle;\n",
       "    }\n",
       "\n",
       "    .dataframe tbody tr th {\n",
       "        vertical-align: top;\n",
       "    }\n",
       "\n",
       "    .dataframe thead th {\n",
       "        text-align: right;\n",
       "    }\n",
       "</style>\n",
       "<table border=\"1\" class=\"dataframe\">\n",
       "  <thead>\n",
       "    <tr style=\"text-align: right;\">\n",
       "      <th></th>\n",
       "      <th>loss</th>\n",
       "      <th>grad_norm</th>\n",
       "      <th>learning_rate</th>\n",
       "      <th>epoch</th>\n",
       "      <th>step</th>\n",
       "      <th>eval_loss</th>\n",
       "      <th>eval_precision</th>\n",
       "      <th>eval_recall</th>\n",
       "      <th>eval_f1</th>\n",
       "      <th>eval_accuracy</th>\n",
       "      <th>eval_runtime</th>\n",
       "      <th>eval_samples_per_second</th>\n",
       "      <th>eval_steps_per_second</th>\n",
       "      <th>train_runtime</th>\n",
       "      <th>train_samples_per_second</th>\n",
       "      <th>train_steps_per_second</th>\n",
       "      <th>total_flos</th>\n",
       "      <th>train_loss</th>\n",
       "    </tr>\n",
       "  </thead>\n",
       "  <tbody>\n",
       "    <tr>\n",
       "      <th>0</th>\n",
       "      <td>2.0611</td>\n",
       "      <td>4.354756</td>\n",
       "      <td>0.000005</td>\n",
       "      <td>0.069493</td>\n",
       "      <td>100</td>\n",
       "      <td>NaN</td>\n",
       "      <td>NaN</td>\n",
       "      <td>NaN</td>\n",
       "      <td>NaN</td>\n",
       "      <td>NaN</td>\n",
       "      <td>NaN</td>\n",
       "      <td>NaN</td>\n",
       "      <td>NaN</td>\n",
       "      <td>NaN</td>\n",
       "      <td>NaN</td>\n",
       "      <td>NaN</td>\n",
       "      <td>NaN</td>\n",
       "      <td>NaN</td>\n",
       "    </tr>\n",
       "    <tr>\n",
       "      <th>1</th>\n",
       "      <td>1.2655</td>\n",
       "      <td>3.838593</td>\n",
       "      <td>0.000011</td>\n",
       "      <td>0.138985</td>\n",
       "      <td>200</td>\n",
       "      <td>NaN</td>\n",
       "      <td>NaN</td>\n",
       "      <td>NaN</td>\n",
       "      <td>NaN</td>\n",
       "      <td>NaN</td>\n",
       "      <td>NaN</td>\n",
       "      <td>NaN</td>\n",
       "      <td>NaN</td>\n",
       "      <td>NaN</td>\n",
       "      <td>NaN</td>\n",
       "      <td>NaN</td>\n",
       "      <td>NaN</td>\n",
       "      <td>NaN</td>\n",
       "    </tr>\n",
       "    <tr>\n",
       "      <th>2</th>\n",
       "      <td>1.1311</td>\n",
       "      <td>4.740081</td>\n",
       "      <td>0.000017</td>\n",
       "      <td>0.208478</td>\n",
       "      <td>300</td>\n",
       "      <td>NaN</td>\n",
       "      <td>NaN</td>\n",
       "      <td>NaN</td>\n",
       "      <td>NaN</td>\n",
       "      <td>NaN</td>\n",
       "      <td>NaN</td>\n",
       "      <td>NaN</td>\n",
       "      <td>NaN</td>\n",
       "      <td>NaN</td>\n",
       "      <td>NaN</td>\n",
       "      <td>NaN</td>\n",
       "      <td>NaN</td>\n",
       "      <td>NaN</td>\n",
       "    </tr>\n",
       "    <tr>\n",
       "      <th>3</th>\n",
       "      <td>1.1081</td>\n",
       "      <td>2.516759</td>\n",
       "      <td>0.000020</td>\n",
       "      <td>0.277971</td>\n",
       "      <td>400</td>\n",
       "      <td>NaN</td>\n",
       "      <td>NaN</td>\n",
       "      <td>NaN</td>\n",
       "      <td>NaN</td>\n",
       "      <td>NaN</td>\n",
       "      <td>NaN</td>\n",
       "      <td>NaN</td>\n",
       "      <td>NaN</td>\n",
       "      <td>NaN</td>\n",
       "      <td>NaN</td>\n",
       "      <td>NaN</td>\n",
       "      <td>NaN</td>\n",
       "      <td>NaN</td>\n",
       "    </tr>\n",
       "    <tr>\n",
       "      <th>4</th>\n",
       "      <td>1.0847</td>\n",
       "      <td>4.305667</td>\n",
       "      <td>0.000020</td>\n",
       "      <td>0.347464</td>\n",
       "      <td>500</td>\n",
       "      <td>NaN</td>\n",
       "      <td>NaN</td>\n",
       "      <td>NaN</td>\n",
       "      <td>NaN</td>\n",
       "      <td>NaN</td>\n",
       "      <td>NaN</td>\n",
       "      <td>NaN</td>\n",
       "      <td>NaN</td>\n",
       "      <td>NaN</td>\n",
       "      <td>NaN</td>\n",
       "      <td>NaN</td>\n",
       "      <td>NaN</td>\n",
       "      <td>NaN</td>\n",
       "    </tr>\n",
       "    <tr>\n",
       "      <th>5</th>\n",
       "      <td>1.0798</td>\n",
       "      <td>4.309011</td>\n",
       "      <td>0.000020</td>\n",
       "      <td>0.416956</td>\n",
       "      <td>600</td>\n",
       "      <td>NaN</td>\n",
       "      <td>NaN</td>\n",
       "      <td>NaN</td>\n",
       "      <td>NaN</td>\n",
       "      <td>NaN</td>\n",
       "      <td>NaN</td>\n",
       "      <td>NaN</td>\n",
       "      <td>NaN</td>\n",
       "      <td>NaN</td>\n",
       "      <td>NaN</td>\n",
       "      <td>NaN</td>\n",
       "      <td>NaN</td>\n",
       "      <td>NaN</td>\n",
       "    </tr>\n",
       "    <tr>\n",
       "      <th>6</th>\n",
       "      <td>1.0767</td>\n",
       "      <td>2.026892</td>\n",
       "      <td>0.000020</td>\n",
       "      <td>0.486449</td>\n",
       "      <td>700</td>\n",
       "      <td>NaN</td>\n",
       "      <td>NaN</td>\n",
       "      <td>NaN</td>\n",
       "      <td>NaN</td>\n",
       "      <td>NaN</td>\n",
       "      <td>NaN</td>\n",
       "      <td>NaN</td>\n",
       "      <td>NaN</td>\n",
       "      <td>NaN</td>\n",
       "      <td>NaN</td>\n",
       "      <td>NaN</td>\n",
       "      <td>NaN</td>\n",
       "      <td>NaN</td>\n",
       "    </tr>\n",
       "    <tr>\n",
       "      <th>7</th>\n",
       "      <td>1.0729</td>\n",
       "      <td>3.128978</td>\n",
       "      <td>0.000020</td>\n",
       "      <td>0.555942</td>\n",
       "      <td>800</td>\n",
       "      <td>NaN</td>\n",
       "      <td>NaN</td>\n",
       "      <td>NaN</td>\n",
       "      <td>NaN</td>\n",
       "      <td>NaN</td>\n",
       "      <td>NaN</td>\n",
       "      <td>NaN</td>\n",
       "      <td>NaN</td>\n",
       "      <td>NaN</td>\n",
       "      <td>NaN</td>\n",
       "      <td>NaN</td>\n",
       "      <td>NaN</td>\n",
       "      <td>NaN</td>\n",
       "    </tr>\n",
       "    <tr>\n",
       "      <th>8</th>\n",
       "      <td>1.0653</td>\n",
       "      <td>4.295574</td>\n",
       "      <td>0.000020</td>\n",
       "      <td>0.625434</td>\n",
       "      <td>900</td>\n",
       "      <td>NaN</td>\n",
       "      <td>NaN</td>\n",
       "      <td>NaN</td>\n",
       "      <td>NaN</td>\n",
       "      <td>NaN</td>\n",
       "      <td>NaN</td>\n",
       "      <td>NaN</td>\n",
       "      <td>NaN</td>\n",
       "      <td>NaN</td>\n",
       "      <td>NaN</td>\n",
       "      <td>NaN</td>\n",
       "      <td>NaN</td>\n",
       "      <td>NaN</td>\n",
       "    </tr>\n",
       "    <tr>\n",
       "      <th>9</th>\n",
       "      <td>1.0628</td>\n",
       "      <td>2.846994</td>\n",
       "      <td>0.000020</td>\n",
       "      <td>0.694927</td>\n",
       "      <td>1000</td>\n",
       "      <td>NaN</td>\n",
       "      <td>NaN</td>\n",
       "      <td>NaN</td>\n",
       "      <td>NaN</td>\n",
       "      <td>NaN</td>\n",
       "      <td>NaN</td>\n",
       "      <td>NaN</td>\n",
       "      <td>NaN</td>\n",
       "      <td>NaN</td>\n",
       "      <td>NaN</td>\n",
       "      <td>NaN</td>\n",
       "      <td>NaN</td>\n",
       "      <td>NaN</td>\n",
       "    </tr>\n",
       "    <tr>\n",
       "      <th>11</th>\n",
       "      <td>1.0562</td>\n",
       "      <td>2.651651</td>\n",
       "      <td>0.000019</td>\n",
       "      <td>0.764420</td>\n",
       "      <td>1100</td>\n",
       "      <td>NaN</td>\n",
       "      <td>NaN</td>\n",
       "      <td>NaN</td>\n",
       "      <td>NaN</td>\n",
       "      <td>NaN</td>\n",
       "      <td>NaN</td>\n",
       "      <td>NaN</td>\n",
       "      <td>NaN</td>\n",
       "      <td>NaN</td>\n",
       "      <td>NaN</td>\n",
       "      <td>NaN</td>\n",
       "      <td>NaN</td>\n",
       "      <td>NaN</td>\n",
       "    </tr>\n",
       "    <tr>\n",
       "      <th>12</th>\n",
       "      <td>1.0534</td>\n",
       "      <td>3.653087</td>\n",
       "      <td>0.000019</td>\n",
       "      <td>0.833912</td>\n",
       "      <td>1200</td>\n",
       "      <td>NaN</td>\n",
       "      <td>NaN</td>\n",
       "      <td>NaN</td>\n",
       "      <td>NaN</td>\n",
       "      <td>NaN</td>\n",
       "      <td>NaN</td>\n",
       "      <td>NaN</td>\n",
       "      <td>NaN</td>\n",
       "      <td>NaN</td>\n",
       "      <td>NaN</td>\n",
       "      <td>NaN</td>\n",
       "      <td>NaN</td>\n",
       "      <td>NaN</td>\n",
       "    </tr>\n",
       "    <tr>\n",
       "      <th>13</th>\n",
       "      <td>1.0523</td>\n",
       "      <td>2.696970</td>\n",
       "      <td>0.000019</td>\n",
       "      <td>0.903405</td>\n",
       "      <td>1300</td>\n",
       "      <td>NaN</td>\n",
       "      <td>NaN</td>\n",
       "      <td>NaN</td>\n",
       "      <td>NaN</td>\n",
       "      <td>NaN</td>\n",
       "      <td>NaN</td>\n",
       "      <td>NaN</td>\n",
       "      <td>NaN</td>\n",
       "      <td>NaN</td>\n",
       "      <td>NaN</td>\n",
       "      <td>NaN</td>\n",
       "      <td>NaN</td>\n",
       "      <td>NaN</td>\n",
       "    </tr>\n",
       "    <tr>\n",
       "      <th>14</th>\n",
       "      <td>1.0584</td>\n",
       "      <td>3.383934</td>\n",
       "      <td>0.000019</td>\n",
       "      <td>0.972898</td>\n",
       "      <td>1400</td>\n",
       "      <td>NaN</td>\n",
       "      <td>NaN</td>\n",
       "      <td>NaN</td>\n",
       "      <td>NaN</td>\n",
       "      <td>NaN</td>\n",
       "      <td>NaN</td>\n",
       "      <td>NaN</td>\n",
       "      <td>NaN</td>\n",
       "      <td>NaN</td>\n",
       "      <td>NaN</td>\n",
       "      <td>NaN</td>\n",
       "      <td>NaN</td>\n",
       "      <td>NaN</td>\n",
       "    </tr>\n",
       "    <tr>\n",
       "      <th>15</th>\n",
       "      <td>1.0453</td>\n",
       "      <td>2.256195</td>\n",
       "      <td>0.000019</td>\n",
       "      <td>1.042391</td>\n",
       "      <td>1500</td>\n",
       "      <td>NaN</td>\n",
       "      <td>NaN</td>\n",
       "      <td>NaN</td>\n",
       "      <td>NaN</td>\n",
       "      <td>NaN</td>\n",
       "      <td>NaN</td>\n",
       "      <td>NaN</td>\n",
       "      <td>NaN</td>\n",
       "      <td>NaN</td>\n",
       "      <td>NaN</td>\n",
       "      <td>NaN</td>\n",
       "      <td>NaN</td>\n",
       "      <td>NaN</td>\n",
       "    </tr>\n",
       "    <tr>\n",
       "      <th>16</th>\n",
       "      <td>1.0417</td>\n",
       "      <td>3.218202</td>\n",
       "      <td>0.000018</td>\n",
       "      <td>1.111883</td>\n",
       "      <td>1600</td>\n",
       "      <td>NaN</td>\n",
       "      <td>NaN</td>\n",
       "      <td>NaN</td>\n",
       "      <td>NaN</td>\n",
       "      <td>NaN</td>\n",
       "      <td>NaN</td>\n",
       "      <td>NaN</td>\n",
       "      <td>NaN</td>\n",
       "      <td>NaN</td>\n",
       "      <td>NaN</td>\n",
       "      <td>NaN</td>\n",
       "      <td>NaN</td>\n",
       "      <td>NaN</td>\n",
       "    </tr>\n",
       "    <tr>\n",
       "      <th>17</th>\n",
       "      <td>1.0418</td>\n",
       "      <td>2.619082</td>\n",
       "      <td>0.000018</td>\n",
       "      <td>1.181376</td>\n",
       "      <td>1700</td>\n",
       "      <td>NaN</td>\n",
       "      <td>NaN</td>\n",
       "      <td>NaN</td>\n",
       "      <td>NaN</td>\n",
       "      <td>NaN</td>\n",
       "      <td>NaN</td>\n",
       "      <td>NaN</td>\n",
       "      <td>NaN</td>\n",
       "      <td>NaN</td>\n",
       "      <td>NaN</td>\n",
       "      <td>NaN</td>\n",
       "      <td>NaN</td>\n",
       "      <td>NaN</td>\n",
       "    </tr>\n",
       "    <tr>\n",
       "      <th>18</th>\n",
       "      <td>1.0337</td>\n",
       "      <td>4.176711</td>\n",
       "      <td>0.000018</td>\n",
       "      <td>1.250869</td>\n",
       "      <td>1800</td>\n",
       "      <td>NaN</td>\n",
       "      <td>NaN</td>\n",
       "      <td>NaN</td>\n",
       "      <td>NaN</td>\n",
       "      <td>NaN</td>\n",
       "      <td>NaN</td>\n",
       "      <td>NaN</td>\n",
       "      <td>NaN</td>\n",
       "      <td>NaN</td>\n",
       "      <td>NaN</td>\n",
       "      <td>NaN</td>\n",
       "      <td>NaN</td>\n",
       "      <td>NaN</td>\n",
       "    </tr>\n",
       "    <tr>\n",
       "      <th>19</th>\n",
       "      <td>1.0378</td>\n",
       "      <td>1.396940</td>\n",
       "      <td>0.000018</td>\n",
       "      <td>1.320361</td>\n",
       "      <td>1900</td>\n",
       "      <td>NaN</td>\n",
       "      <td>NaN</td>\n",
       "      <td>NaN</td>\n",
       "      <td>NaN</td>\n",
       "      <td>NaN</td>\n",
       "      <td>NaN</td>\n",
       "      <td>NaN</td>\n",
       "      <td>NaN</td>\n",
       "      <td>NaN</td>\n",
       "      <td>NaN</td>\n",
       "      <td>NaN</td>\n",
       "      <td>NaN</td>\n",
       "      <td>NaN</td>\n",
       "    </tr>\n",
       "    <tr>\n",
       "      <th>20</th>\n",
       "      <td>1.0349</td>\n",
       "      <td>1.362912</td>\n",
       "      <td>0.000017</td>\n",
       "      <td>1.389854</td>\n",
       "      <td>2000</td>\n",
       "      <td>NaN</td>\n",
       "      <td>NaN</td>\n",
       "      <td>NaN</td>\n",
       "      <td>NaN</td>\n",
       "      <td>NaN</td>\n",
       "      <td>NaN</td>\n",
       "      <td>NaN</td>\n",
       "      <td>NaN</td>\n",
       "      <td>NaN</td>\n",
       "      <td>NaN</td>\n",
       "      <td>NaN</td>\n",
       "      <td>NaN</td>\n",
       "      <td>NaN</td>\n",
       "    </tr>\n",
       "    <tr>\n",
       "      <th>22</th>\n",
       "      <td>1.0359</td>\n",
       "      <td>2.657181</td>\n",
       "      <td>0.000017</td>\n",
       "      <td>1.459347</td>\n",
       "      <td>2100</td>\n",
       "      <td>NaN</td>\n",
       "      <td>NaN</td>\n",
       "      <td>NaN</td>\n",
       "      <td>NaN</td>\n",
       "      <td>NaN</td>\n",
       "      <td>NaN</td>\n",
       "      <td>NaN</td>\n",
       "      <td>NaN</td>\n",
       "      <td>NaN</td>\n",
       "      <td>NaN</td>\n",
       "      <td>NaN</td>\n",
       "      <td>NaN</td>\n",
       "      <td>NaN</td>\n",
       "    </tr>\n",
       "    <tr>\n",
       "      <th>23</th>\n",
       "      <td>1.0372</td>\n",
       "      <td>1.694532</td>\n",
       "      <td>0.000017</td>\n",
       "      <td>1.528839</td>\n",
       "      <td>2200</td>\n",
       "      <td>NaN</td>\n",
       "      <td>NaN</td>\n",
       "      <td>NaN</td>\n",
       "      <td>NaN</td>\n",
       "      <td>NaN</td>\n",
       "      <td>NaN</td>\n",
       "      <td>NaN</td>\n",
       "      <td>NaN</td>\n",
       "      <td>NaN</td>\n",
       "      <td>NaN</td>\n",
       "      <td>NaN</td>\n",
       "      <td>NaN</td>\n",
       "      <td>NaN</td>\n",
       "    </tr>\n",
       "    <tr>\n",
       "      <th>24</th>\n",
       "      <td>1.0412</td>\n",
       "      <td>3.647247</td>\n",
       "      <td>0.000016</td>\n",
       "      <td>1.598332</td>\n",
       "      <td>2300</td>\n",
       "      <td>NaN</td>\n",
       "      <td>NaN</td>\n",
       "      <td>NaN</td>\n",
       "      <td>NaN</td>\n",
       "      <td>NaN</td>\n",
       "      <td>NaN</td>\n",
       "      <td>NaN</td>\n",
       "      <td>NaN</td>\n",
       "      <td>NaN</td>\n",
       "      <td>NaN</td>\n",
       "      <td>NaN</td>\n",
       "      <td>NaN</td>\n",
       "      <td>NaN</td>\n",
       "    </tr>\n",
       "    <tr>\n",
       "      <th>25</th>\n",
       "      <td>1.0430</td>\n",
       "      <td>2.401867</td>\n",
       "      <td>0.000016</td>\n",
       "      <td>1.667825</td>\n",
       "      <td>2400</td>\n",
       "      <td>NaN</td>\n",
       "      <td>NaN</td>\n",
       "      <td>NaN</td>\n",
       "      <td>NaN</td>\n",
       "      <td>NaN</td>\n",
       "      <td>NaN</td>\n",
       "      <td>NaN</td>\n",
       "      <td>NaN</td>\n",
       "      <td>NaN</td>\n",
       "      <td>NaN</td>\n",
       "      <td>NaN</td>\n",
       "      <td>NaN</td>\n",
       "      <td>NaN</td>\n",
       "    </tr>\n",
       "    <tr>\n",
       "      <th>26</th>\n",
       "      <td>1.0475</td>\n",
       "      <td>1.608536</td>\n",
       "      <td>0.000016</td>\n",
       "      <td>1.737318</td>\n",
       "      <td>2500</td>\n",
       "      <td>NaN</td>\n",
       "      <td>NaN</td>\n",
       "      <td>NaN</td>\n",
       "      <td>NaN</td>\n",
       "      <td>NaN</td>\n",
       "      <td>NaN</td>\n",
       "      <td>NaN</td>\n",
       "      <td>NaN</td>\n",
       "      <td>NaN</td>\n",
       "      <td>NaN</td>\n",
       "      <td>NaN</td>\n",
       "      <td>NaN</td>\n",
       "      <td>NaN</td>\n",
       "    </tr>\n",
       "    <tr>\n",
       "      <th>27</th>\n",
       "      <td>1.0336</td>\n",
       "      <td>2.169170</td>\n",
       "      <td>0.000015</td>\n",
       "      <td>1.806810</td>\n",
       "      <td>2600</td>\n",
       "      <td>NaN</td>\n",
       "      <td>NaN</td>\n",
       "      <td>NaN</td>\n",
       "      <td>NaN</td>\n",
       "      <td>NaN</td>\n",
       "      <td>NaN</td>\n",
       "      <td>NaN</td>\n",
       "      <td>NaN</td>\n",
       "      <td>NaN</td>\n",
       "      <td>NaN</td>\n",
       "      <td>NaN</td>\n",
       "      <td>NaN</td>\n",
       "      <td>NaN</td>\n",
       "    </tr>\n",
       "    <tr>\n",
       "      <th>28</th>\n",
       "      <td>1.0325</td>\n",
       "      <td>2.543715</td>\n",
       "      <td>0.000015</td>\n",
       "      <td>1.876303</td>\n",
       "      <td>2700</td>\n",
       "      <td>NaN</td>\n",
       "      <td>NaN</td>\n",
       "      <td>NaN</td>\n",
       "      <td>NaN</td>\n",
       "      <td>NaN</td>\n",
       "      <td>NaN</td>\n",
       "      <td>NaN</td>\n",
       "      <td>NaN</td>\n",
       "      <td>NaN</td>\n",
       "      <td>NaN</td>\n",
       "      <td>NaN</td>\n",
       "      <td>NaN</td>\n",
       "      <td>NaN</td>\n",
       "    </tr>\n",
       "    <tr>\n",
       "      <th>29</th>\n",
       "      <td>1.0356</td>\n",
       "      <td>1.836563</td>\n",
       "      <td>0.000014</td>\n",
       "      <td>1.945796</td>\n",
       "      <td>2800</td>\n",
       "      <td>NaN</td>\n",
       "      <td>NaN</td>\n",
       "      <td>NaN</td>\n",
       "      <td>NaN</td>\n",
       "      <td>NaN</td>\n",
       "      <td>NaN</td>\n",
       "      <td>NaN</td>\n",
       "      <td>NaN</td>\n",
       "      <td>NaN</td>\n",
       "      <td>NaN</td>\n",
       "      <td>NaN</td>\n",
       "      <td>NaN</td>\n",
       "      <td>NaN</td>\n",
       "    </tr>\n",
       "    <tr>\n",
       "      <th>30</th>\n",
       "      <td>1.0325</td>\n",
       "      <td>1.396002</td>\n",
       "      <td>0.000014</td>\n",
       "      <td>2.015288</td>\n",
       "      <td>2900</td>\n",
       "      <td>NaN</td>\n",
       "      <td>NaN</td>\n",
       "      <td>NaN</td>\n",
       "      <td>NaN</td>\n",
       "      <td>NaN</td>\n",
       "      <td>NaN</td>\n",
       "      <td>NaN</td>\n",
       "      <td>NaN</td>\n",
       "      <td>NaN</td>\n",
       "      <td>NaN</td>\n",
       "      <td>NaN</td>\n",
       "      <td>NaN</td>\n",
       "      <td>NaN</td>\n",
       "    </tr>\n",
       "    <tr>\n",
       "      <th>31</th>\n",
       "      <td>1.0217</td>\n",
       "      <td>4.885106</td>\n",
       "      <td>0.000014</td>\n",
       "      <td>2.084781</td>\n",
       "      <td>3000</td>\n",
       "      <td>NaN</td>\n",
       "      <td>NaN</td>\n",
       "      <td>NaN</td>\n",
       "      <td>NaN</td>\n",
       "      <td>NaN</td>\n",
       "      <td>NaN</td>\n",
       "      <td>NaN</td>\n",
       "      <td>NaN</td>\n",
       "      <td>NaN</td>\n",
       "      <td>NaN</td>\n",
       "      <td>NaN</td>\n",
       "      <td>NaN</td>\n",
       "      <td>NaN</td>\n",
       "    </tr>\n",
       "    <tr>\n",
       "      <th>33</th>\n",
       "      <td>1.0297</td>\n",
       "      <td>1.574037</td>\n",
       "      <td>0.000013</td>\n",
       "      <td>2.154274</td>\n",
       "      <td>3100</td>\n",
       "      <td>NaN</td>\n",
       "      <td>NaN</td>\n",
       "      <td>NaN</td>\n",
       "      <td>NaN</td>\n",
       "      <td>NaN</td>\n",
       "      <td>NaN</td>\n",
       "      <td>NaN</td>\n",
       "      <td>NaN</td>\n",
       "      <td>NaN</td>\n",
       "      <td>NaN</td>\n",
       "      <td>NaN</td>\n",
       "      <td>NaN</td>\n",
       "      <td>NaN</td>\n",
       "    </tr>\n",
       "    <tr>\n",
       "      <th>34</th>\n",
       "      <td>1.0216</td>\n",
       "      <td>2.416551</td>\n",
       "      <td>0.000013</td>\n",
       "      <td>2.223767</td>\n",
       "      <td>3200</td>\n",
       "      <td>NaN</td>\n",
       "      <td>NaN</td>\n",
       "      <td>NaN</td>\n",
       "      <td>NaN</td>\n",
       "      <td>NaN</td>\n",
       "      <td>NaN</td>\n",
       "      <td>NaN</td>\n",
       "      <td>NaN</td>\n",
       "      <td>NaN</td>\n",
       "      <td>NaN</td>\n",
       "      <td>NaN</td>\n",
       "      <td>NaN</td>\n",
       "      <td>NaN</td>\n",
       "    </tr>\n",
       "    <tr>\n",
       "      <th>35</th>\n",
       "      <td>1.0282</td>\n",
       "      <td>2.299531</td>\n",
       "      <td>0.000012</td>\n",
       "      <td>2.293259</td>\n",
       "      <td>3300</td>\n",
       "      <td>NaN</td>\n",
       "      <td>NaN</td>\n",
       "      <td>NaN</td>\n",
       "      <td>NaN</td>\n",
       "      <td>NaN</td>\n",
       "      <td>NaN</td>\n",
       "      <td>NaN</td>\n",
       "      <td>NaN</td>\n",
       "      <td>NaN</td>\n",
       "      <td>NaN</td>\n",
       "      <td>NaN</td>\n",
       "      <td>NaN</td>\n",
       "      <td>NaN</td>\n",
       "    </tr>\n",
       "    <tr>\n",
       "      <th>36</th>\n",
       "      <td>1.0230</td>\n",
       "      <td>1.553741</td>\n",
       "      <td>0.000012</td>\n",
       "      <td>2.362752</td>\n",
       "      <td>3400</td>\n",
       "      <td>NaN</td>\n",
       "      <td>NaN</td>\n",
       "      <td>NaN</td>\n",
       "      <td>NaN</td>\n",
       "      <td>NaN</td>\n",
       "      <td>NaN</td>\n",
       "      <td>NaN</td>\n",
       "      <td>NaN</td>\n",
       "      <td>NaN</td>\n",
       "      <td>NaN</td>\n",
       "      <td>NaN</td>\n",
       "      <td>NaN</td>\n",
       "      <td>NaN</td>\n",
       "    </tr>\n",
       "    <tr>\n",
       "      <th>37</th>\n",
       "      <td>1.0169</td>\n",
       "      <td>2.594416</td>\n",
       "      <td>0.000011</td>\n",
       "      <td>2.432245</td>\n",
       "      <td>3500</td>\n",
       "      <td>NaN</td>\n",
       "      <td>NaN</td>\n",
       "      <td>NaN</td>\n",
       "      <td>NaN</td>\n",
       "      <td>NaN</td>\n",
       "      <td>NaN</td>\n",
       "      <td>NaN</td>\n",
       "      <td>NaN</td>\n",
       "      <td>NaN</td>\n",
       "      <td>NaN</td>\n",
       "      <td>NaN</td>\n",
       "      <td>NaN</td>\n",
       "      <td>NaN</td>\n",
       "    </tr>\n",
       "    <tr>\n",
       "      <th>38</th>\n",
       "      <td>1.0165</td>\n",
       "      <td>2.091820</td>\n",
       "      <td>0.000011</td>\n",
       "      <td>2.501737</td>\n",
       "      <td>3600</td>\n",
       "      <td>NaN</td>\n",
       "      <td>NaN</td>\n",
       "      <td>NaN</td>\n",
       "      <td>NaN</td>\n",
       "      <td>NaN</td>\n",
       "      <td>NaN</td>\n",
       "      <td>NaN</td>\n",
       "      <td>NaN</td>\n",
       "      <td>NaN</td>\n",
       "      <td>NaN</td>\n",
       "      <td>NaN</td>\n",
       "      <td>NaN</td>\n",
       "      <td>NaN</td>\n",
       "    </tr>\n",
       "    <tr>\n",
       "      <th>39</th>\n",
       "      <td>1.0205</td>\n",
       "      <td>2.116012</td>\n",
       "      <td>0.000010</td>\n",
       "      <td>2.571230</td>\n",
       "      <td>3700</td>\n",
       "      <td>NaN</td>\n",
       "      <td>NaN</td>\n",
       "      <td>NaN</td>\n",
       "      <td>NaN</td>\n",
       "      <td>NaN</td>\n",
       "      <td>NaN</td>\n",
       "      <td>NaN</td>\n",
       "      <td>NaN</td>\n",
       "      <td>NaN</td>\n",
       "      <td>NaN</td>\n",
       "      <td>NaN</td>\n",
       "      <td>NaN</td>\n",
       "      <td>NaN</td>\n",
       "    </tr>\n",
       "    <tr>\n",
       "      <th>40</th>\n",
       "      <td>1.0212</td>\n",
       "      <td>2.212789</td>\n",
       "      <td>0.000010</td>\n",
       "      <td>2.640723</td>\n",
       "      <td>3800</td>\n",
       "      <td>NaN</td>\n",
       "      <td>NaN</td>\n",
       "      <td>NaN</td>\n",
       "      <td>NaN</td>\n",
       "      <td>NaN</td>\n",
       "      <td>NaN</td>\n",
       "      <td>NaN</td>\n",
       "      <td>NaN</td>\n",
       "      <td>NaN</td>\n",
       "      <td>NaN</td>\n",
       "      <td>NaN</td>\n",
       "      <td>NaN</td>\n",
       "      <td>NaN</td>\n",
       "    </tr>\n",
       "    <tr>\n",
       "      <th>41</th>\n",
       "      <td>1.0219</td>\n",
       "      <td>2.825698</td>\n",
       "      <td>0.000009</td>\n",
       "      <td>2.710215</td>\n",
       "      <td>3900</td>\n",
       "      <td>NaN</td>\n",
       "      <td>NaN</td>\n",
       "      <td>NaN</td>\n",
       "      <td>NaN</td>\n",
       "      <td>NaN</td>\n",
       "      <td>NaN</td>\n",
       "      <td>NaN</td>\n",
       "      <td>NaN</td>\n",
       "      <td>NaN</td>\n",
       "      <td>NaN</td>\n",
       "      <td>NaN</td>\n",
       "      <td>NaN</td>\n",
       "      <td>NaN</td>\n",
       "    </tr>\n",
       "    <tr>\n",
       "      <th>42</th>\n",
       "      <td>1.0163</td>\n",
       "      <td>1.584393</td>\n",
       "      <td>0.000009</td>\n",
       "      <td>2.779708</td>\n",
       "      <td>4000</td>\n",
       "      <td>NaN</td>\n",
       "      <td>NaN</td>\n",
       "      <td>NaN</td>\n",
       "      <td>NaN</td>\n",
       "      <td>NaN</td>\n",
       "      <td>NaN</td>\n",
       "      <td>NaN</td>\n",
       "      <td>NaN</td>\n",
       "      <td>NaN</td>\n",
       "      <td>NaN</td>\n",
       "      <td>NaN</td>\n",
       "      <td>NaN</td>\n",
       "      <td>NaN</td>\n",
       "    </tr>\n",
       "    <tr>\n",
       "      <th>44</th>\n",
       "      <td>1.0204</td>\n",
       "      <td>2.056594</td>\n",
       "      <td>0.000009</td>\n",
       "      <td>2.849201</td>\n",
       "      <td>4100</td>\n",
       "      <td>NaN</td>\n",
       "      <td>NaN</td>\n",
       "      <td>NaN</td>\n",
       "      <td>NaN</td>\n",
       "      <td>NaN</td>\n",
       "      <td>NaN</td>\n",
       "      <td>NaN</td>\n",
       "      <td>NaN</td>\n",
       "      <td>NaN</td>\n",
       "      <td>NaN</td>\n",
       "      <td>NaN</td>\n",
       "      <td>NaN</td>\n",
       "      <td>NaN</td>\n",
       "    </tr>\n",
       "    <tr>\n",
       "      <th>45</th>\n",
       "      <td>1.0219</td>\n",
       "      <td>2.250256</td>\n",
       "      <td>0.000008</td>\n",
       "      <td>2.918694</td>\n",
       "      <td>4200</td>\n",
       "      <td>NaN</td>\n",
       "      <td>NaN</td>\n",
       "      <td>NaN</td>\n",
       "      <td>NaN</td>\n",
       "      <td>NaN</td>\n",
       "      <td>NaN</td>\n",
       "      <td>NaN</td>\n",
       "      <td>NaN</td>\n",
       "      <td>NaN</td>\n",
       "      <td>NaN</td>\n",
       "      <td>NaN</td>\n",
       "      <td>NaN</td>\n",
       "      <td>NaN</td>\n",
       "    </tr>\n",
       "    <tr>\n",
       "      <th>46</th>\n",
       "      <td>1.0189</td>\n",
       "      <td>2.455131</td>\n",
       "      <td>0.000008</td>\n",
       "      <td>2.988186</td>\n",
       "      <td>4300</td>\n",
       "      <td>NaN</td>\n",
       "      <td>NaN</td>\n",
       "      <td>NaN</td>\n",
       "      <td>NaN</td>\n",
       "      <td>NaN</td>\n",
       "      <td>NaN</td>\n",
       "      <td>NaN</td>\n",
       "      <td>NaN</td>\n",
       "      <td>NaN</td>\n",
       "      <td>NaN</td>\n",
       "      <td>NaN</td>\n",
       "      <td>NaN</td>\n",
       "      <td>NaN</td>\n",
       "    </tr>\n",
       "    <tr>\n",
       "      <th>47</th>\n",
       "      <td>1.0189</td>\n",
       "      <td>2.521709</td>\n",
       "      <td>0.000007</td>\n",
       "      <td>3.057679</td>\n",
       "      <td>4400</td>\n",
       "      <td>NaN</td>\n",
       "      <td>NaN</td>\n",
       "      <td>NaN</td>\n",
       "      <td>NaN</td>\n",
       "      <td>NaN</td>\n",
       "      <td>NaN</td>\n",
       "      <td>NaN</td>\n",
       "      <td>NaN</td>\n",
       "      <td>NaN</td>\n",
       "      <td>NaN</td>\n",
       "      <td>NaN</td>\n",
       "      <td>NaN</td>\n",
       "      <td>NaN</td>\n",
       "    </tr>\n",
       "    <tr>\n",
       "      <th>48</th>\n",
       "      <td>1.0087</td>\n",
       "      <td>3.345765</td>\n",
       "      <td>0.000007</td>\n",
       "      <td>3.127172</td>\n",
       "      <td>4500</td>\n",
       "      <td>NaN</td>\n",
       "      <td>NaN</td>\n",
       "      <td>NaN</td>\n",
       "      <td>NaN</td>\n",
       "      <td>NaN</td>\n",
       "      <td>NaN</td>\n",
       "      <td>NaN</td>\n",
       "      <td>NaN</td>\n",
       "      <td>NaN</td>\n",
       "      <td>NaN</td>\n",
       "      <td>NaN</td>\n",
       "      <td>NaN</td>\n",
       "      <td>NaN</td>\n",
       "    </tr>\n",
       "    <tr>\n",
       "      <th>49</th>\n",
       "      <td>1.0145</td>\n",
       "      <td>2.057452</td>\n",
       "      <td>0.000006</td>\n",
       "      <td>3.196664</td>\n",
       "      <td>4600</td>\n",
       "      <td>NaN</td>\n",
       "      <td>NaN</td>\n",
       "      <td>NaN</td>\n",
       "      <td>NaN</td>\n",
       "      <td>NaN</td>\n",
       "      <td>NaN</td>\n",
       "      <td>NaN</td>\n",
       "      <td>NaN</td>\n",
       "      <td>NaN</td>\n",
       "      <td>NaN</td>\n",
       "      <td>NaN</td>\n",
       "      <td>NaN</td>\n",
       "      <td>NaN</td>\n",
       "    </tr>\n",
       "    <tr>\n",
       "      <th>50</th>\n",
       "      <td>1.0105</td>\n",
       "      <td>2.021110</td>\n",
       "      <td>0.000006</td>\n",
       "      <td>3.266157</td>\n",
       "      <td>4700</td>\n",
       "      <td>NaN</td>\n",
       "      <td>NaN</td>\n",
       "      <td>NaN</td>\n",
       "      <td>NaN</td>\n",
       "      <td>NaN</td>\n",
       "      <td>NaN</td>\n",
       "      <td>NaN</td>\n",
       "      <td>NaN</td>\n",
       "      <td>NaN</td>\n",
       "      <td>NaN</td>\n",
       "      <td>NaN</td>\n",
       "      <td>NaN</td>\n",
       "      <td>NaN</td>\n",
       "    </tr>\n",
       "    <tr>\n",
       "      <th>51</th>\n",
       "      <td>1.0103</td>\n",
       "      <td>2.407282</td>\n",
       "      <td>0.000005</td>\n",
       "      <td>3.335650</td>\n",
       "      <td>4800</td>\n",
       "      <td>NaN</td>\n",
       "      <td>NaN</td>\n",
       "      <td>NaN</td>\n",
       "      <td>NaN</td>\n",
       "      <td>NaN</td>\n",
       "      <td>NaN</td>\n",
       "      <td>NaN</td>\n",
       "      <td>NaN</td>\n",
       "      <td>NaN</td>\n",
       "      <td>NaN</td>\n",
       "      <td>NaN</td>\n",
       "      <td>NaN</td>\n",
       "      <td>NaN</td>\n",
       "    </tr>\n",
       "    <tr>\n",
       "      <th>52</th>\n",
       "      <td>1.0161</td>\n",
       "      <td>1.733904</td>\n",
       "      <td>0.000005</td>\n",
       "      <td>3.405142</td>\n",
       "      <td>4900</td>\n",
       "      <td>NaN</td>\n",
       "      <td>NaN</td>\n",
       "      <td>NaN</td>\n",
       "      <td>NaN</td>\n",
       "      <td>NaN</td>\n",
       "      <td>NaN</td>\n",
       "      <td>NaN</td>\n",
       "      <td>NaN</td>\n",
       "      <td>NaN</td>\n",
       "      <td>NaN</td>\n",
       "      <td>NaN</td>\n",
       "      <td>NaN</td>\n",
       "      <td>NaN</td>\n",
       "    </tr>\n",
       "    <tr>\n",
       "      <th>53</th>\n",
       "      <td>1.0122</td>\n",
       "      <td>1.810837</td>\n",
       "      <td>0.000005</td>\n",
       "      <td>3.474635</td>\n",
       "      <td>5000</td>\n",
       "      <td>NaN</td>\n",
       "      <td>NaN</td>\n",
       "      <td>NaN</td>\n",
       "      <td>NaN</td>\n",
       "      <td>NaN</td>\n",
       "      <td>NaN</td>\n",
       "      <td>NaN</td>\n",
       "      <td>NaN</td>\n",
       "      <td>NaN</td>\n",
       "      <td>NaN</td>\n",
       "      <td>NaN</td>\n",
       "      <td>NaN</td>\n",
       "      <td>NaN</td>\n",
       "    </tr>\n",
       "  </tbody>\n",
       "</table>\n",
       "</div>"
      ],
      "text/plain": [
       "      loss  grad_norm  learning_rate     epoch  step  eval_loss  \\\n",
       "0   2.0611   4.354756       0.000005  0.069493   100        NaN   \n",
       "1   1.2655   3.838593       0.000011  0.138985   200        NaN   \n",
       "2   1.1311   4.740081       0.000017  0.208478   300        NaN   \n",
       "3   1.1081   2.516759       0.000020  0.277971   400        NaN   \n",
       "4   1.0847   4.305667       0.000020  0.347464   500        NaN   \n",
       "5   1.0798   4.309011       0.000020  0.416956   600        NaN   \n",
       "6   1.0767   2.026892       0.000020  0.486449   700        NaN   \n",
       "7   1.0729   3.128978       0.000020  0.555942   800        NaN   \n",
       "8   1.0653   4.295574       0.000020  0.625434   900        NaN   \n",
       "9   1.0628   2.846994       0.000020  0.694927  1000        NaN   \n",
       "11  1.0562   2.651651       0.000019  0.764420  1100        NaN   \n",
       "12  1.0534   3.653087       0.000019  0.833912  1200        NaN   \n",
       "13  1.0523   2.696970       0.000019  0.903405  1300        NaN   \n",
       "14  1.0584   3.383934       0.000019  0.972898  1400        NaN   \n",
       "15  1.0453   2.256195       0.000019  1.042391  1500        NaN   \n",
       "16  1.0417   3.218202       0.000018  1.111883  1600        NaN   \n",
       "17  1.0418   2.619082       0.000018  1.181376  1700        NaN   \n",
       "18  1.0337   4.176711       0.000018  1.250869  1800        NaN   \n",
       "19  1.0378   1.396940       0.000018  1.320361  1900        NaN   \n",
       "20  1.0349   1.362912       0.000017  1.389854  2000        NaN   \n",
       "22  1.0359   2.657181       0.000017  1.459347  2100        NaN   \n",
       "23  1.0372   1.694532       0.000017  1.528839  2200        NaN   \n",
       "24  1.0412   3.647247       0.000016  1.598332  2300        NaN   \n",
       "25  1.0430   2.401867       0.000016  1.667825  2400        NaN   \n",
       "26  1.0475   1.608536       0.000016  1.737318  2500        NaN   \n",
       "27  1.0336   2.169170       0.000015  1.806810  2600        NaN   \n",
       "28  1.0325   2.543715       0.000015  1.876303  2700        NaN   \n",
       "29  1.0356   1.836563       0.000014  1.945796  2800        NaN   \n",
       "30  1.0325   1.396002       0.000014  2.015288  2900        NaN   \n",
       "31  1.0217   4.885106       0.000014  2.084781  3000        NaN   \n",
       "33  1.0297   1.574037       0.000013  2.154274  3100        NaN   \n",
       "34  1.0216   2.416551       0.000013  2.223767  3200        NaN   \n",
       "35  1.0282   2.299531       0.000012  2.293259  3300        NaN   \n",
       "36  1.0230   1.553741       0.000012  2.362752  3400        NaN   \n",
       "37  1.0169   2.594416       0.000011  2.432245  3500        NaN   \n",
       "38  1.0165   2.091820       0.000011  2.501737  3600        NaN   \n",
       "39  1.0205   2.116012       0.000010  2.571230  3700        NaN   \n",
       "40  1.0212   2.212789       0.000010  2.640723  3800        NaN   \n",
       "41  1.0219   2.825698       0.000009  2.710215  3900        NaN   \n",
       "42  1.0163   1.584393       0.000009  2.779708  4000        NaN   \n",
       "44  1.0204   2.056594       0.000009  2.849201  4100        NaN   \n",
       "45  1.0219   2.250256       0.000008  2.918694  4200        NaN   \n",
       "46  1.0189   2.455131       0.000008  2.988186  4300        NaN   \n",
       "47  1.0189   2.521709       0.000007  3.057679  4400        NaN   \n",
       "48  1.0087   3.345765       0.000007  3.127172  4500        NaN   \n",
       "49  1.0145   2.057452       0.000006  3.196664  4600        NaN   \n",
       "50  1.0105   2.021110       0.000006  3.266157  4700        NaN   \n",
       "51  1.0103   2.407282       0.000005  3.335650  4800        NaN   \n",
       "52  1.0161   1.733904       0.000005  3.405142  4900        NaN   \n",
       "53  1.0122   1.810837       0.000005  3.474635  5000        NaN   \n",
       "\n",
       "    eval_precision  eval_recall  eval_f1  eval_accuracy  eval_runtime  \\\n",
       "0              NaN          NaN      NaN            NaN           NaN   \n",
       "1              NaN          NaN      NaN            NaN           NaN   \n",
       "2              NaN          NaN      NaN            NaN           NaN   \n",
       "3              NaN          NaN      NaN            NaN           NaN   \n",
       "4              NaN          NaN      NaN            NaN           NaN   \n",
       "5              NaN          NaN      NaN            NaN           NaN   \n",
       "6              NaN          NaN      NaN            NaN           NaN   \n",
       "7              NaN          NaN      NaN            NaN           NaN   \n",
       "8              NaN          NaN      NaN            NaN           NaN   \n",
       "9              NaN          NaN      NaN            NaN           NaN   \n",
       "11             NaN          NaN      NaN            NaN           NaN   \n",
       "12             NaN          NaN      NaN            NaN           NaN   \n",
       "13             NaN          NaN      NaN            NaN           NaN   \n",
       "14             NaN          NaN      NaN            NaN           NaN   \n",
       "15             NaN          NaN      NaN            NaN           NaN   \n",
       "16             NaN          NaN      NaN            NaN           NaN   \n",
       "17             NaN          NaN      NaN            NaN           NaN   \n",
       "18             NaN          NaN      NaN            NaN           NaN   \n",
       "19             NaN          NaN      NaN            NaN           NaN   \n",
       "20             NaN          NaN      NaN            NaN           NaN   \n",
       "22             NaN          NaN      NaN            NaN           NaN   \n",
       "23             NaN          NaN      NaN            NaN           NaN   \n",
       "24             NaN          NaN      NaN            NaN           NaN   \n",
       "25             NaN          NaN      NaN            NaN           NaN   \n",
       "26             NaN          NaN      NaN            NaN           NaN   \n",
       "27             NaN          NaN      NaN            NaN           NaN   \n",
       "28             NaN          NaN      NaN            NaN           NaN   \n",
       "29             NaN          NaN      NaN            NaN           NaN   \n",
       "30             NaN          NaN      NaN            NaN           NaN   \n",
       "31             NaN          NaN      NaN            NaN           NaN   \n",
       "33             NaN          NaN      NaN            NaN           NaN   \n",
       "34             NaN          NaN      NaN            NaN           NaN   \n",
       "35             NaN          NaN      NaN            NaN           NaN   \n",
       "36             NaN          NaN      NaN            NaN           NaN   \n",
       "37             NaN          NaN      NaN            NaN           NaN   \n",
       "38             NaN          NaN      NaN            NaN           NaN   \n",
       "39             NaN          NaN      NaN            NaN           NaN   \n",
       "40             NaN          NaN      NaN            NaN           NaN   \n",
       "41             NaN          NaN      NaN            NaN           NaN   \n",
       "42             NaN          NaN      NaN            NaN           NaN   \n",
       "44             NaN          NaN      NaN            NaN           NaN   \n",
       "45             NaN          NaN      NaN            NaN           NaN   \n",
       "46             NaN          NaN      NaN            NaN           NaN   \n",
       "47             NaN          NaN      NaN            NaN           NaN   \n",
       "48             NaN          NaN      NaN            NaN           NaN   \n",
       "49             NaN          NaN      NaN            NaN           NaN   \n",
       "50             NaN          NaN      NaN            NaN           NaN   \n",
       "51             NaN          NaN      NaN            NaN           NaN   \n",
       "52             NaN          NaN      NaN            NaN           NaN   \n",
       "53             NaN          NaN      NaN            NaN           NaN   \n",
       "\n",
       "    eval_samples_per_second  eval_steps_per_second  train_runtime  \\\n",
       "0                       NaN                    NaN            NaN   \n",
       "1                       NaN                    NaN            NaN   \n",
       "2                       NaN                    NaN            NaN   \n",
       "3                       NaN                    NaN            NaN   \n",
       "4                       NaN                    NaN            NaN   \n",
       "5                       NaN                    NaN            NaN   \n",
       "6                       NaN                    NaN            NaN   \n",
       "7                       NaN                    NaN            NaN   \n",
       "8                       NaN                    NaN            NaN   \n",
       "9                       NaN                    NaN            NaN   \n",
       "11                      NaN                    NaN            NaN   \n",
       "12                      NaN                    NaN            NaN   \n",
       "13                      NaN                    NaN            NaN   \n",
       "14                      NaN                    NaN            NaN   \n",
       "15                      NaN                    NaN            NaN   \n",
       "16                      NaN                    NaN            NaN   \n",
       "17                      NaN                    NaN            NaN   \n",
       "18                      NaN                    NaN            NaN   \n",
       "19                      NaN                    NaN            NaN   \n",
       "20                      NaN                    NaN            NaN   \n",
       "22                      NaN                    NaN            NaN   \n",
       "23                      NaN                    NaN            NaN   \n",
       "24                      NaN                    NaN            NaN   \n",
       "25                      NaN                    NaN            NaN   \n",
       "26                      NaN                    NaN            NaN   \n",
       "27                      NaN                    NaN            NaN   \n",
       "28                      NaN                    NaN            NaN   \n",
       "29                      NaN                    NaN            NaN   \n",
       "30                      NaN                    NaN            NaN   \n",
       "31                      NaN                    NaN            NaN   \n",
       "33                      NaN                    NaN            NaN   \n",
       "34                      NaN                    NaN            NaN   \n",
       "35                      NaN                    NaN            NaN   \n",
       "36                      NaN                    NaN            NaN   \n",
       "37                      NaN                    NaN            NaN   \n",
       "38                      NaN                    NaN            NaN   \n",
       "39                      NaN                    NaN            NaN   \n",
       "40                      NaN                    NaN            NaN   \n",
       "41                      NaN                    NaN            NaN   \n",
       "42                      NaN                    NaN            NaN   \n",
       "44                      NaN                    NaN            NaN   \n",
       "45                      NaN                    NaN            NaN   \n",
       "46                      NaN                    NaN            NaN   \n",
       "47                      NaN                    NaN            NaN   \n",
       "48                      NaN                    NaN            NaN   \n",
       "49                      NaN                    NaN            NaN   \n",
       "50                      NaN                    NaN            NaN   \n",
       "51                      NaN                    NaN            NaN   \n",
       "52                      NaN                    NaN            NaN   \n",
       "53                      NaN                    NaN            NaN   \n",
       "\n",
       "    train_samples_per_second  train_steps_per_second  total_flos  train_loss  \n",
       "0                        NaN                     NaN         NaN         NaN  \n",
       "1                        NaN                     NaN         NaN         NaN  \n",
       "2                        NaN                     NaN         NaN         NaN  \n",
       "3                        NaN                     NaN         NaN         NaN  \n",
       "4                        NaN                     NaN         NaN         NaN  \n",
       "5                        NaN                     NaN         NaN         NaN  \n",
       "6                        NaN                     NaN         NaN         NaN  \n",
       "7                        NaN                     NaN         NaN         NaN  \n",
       "8                        NaN                     NaN         NaN         NaN  \n",
       "9                        NaN                     NaN         NaN         NaN  \n",
       "11                       NaN                     NaN         NaN         NaN  \n",
       "12                       NaN                     NaN         NaN         NaN  \n",
       "13                       NaN                     NaN         NaN         NaN  \n",
       "14                       NaN                     NaN         NaN         NaN  \n",
       "15                       NaN                     NaN         NaN         NaN  \n",
       "16                       NaN                     NaN         NaN         NaN  \n",
       "17                       NaN                     NaN         NaN         NaN  \n",
       "18                       NaN                     NaN         NaN         NaN  \n",
       "19                       NaN                     NaN         NaN         NaN  \n",
       "20                       NaN                     NaN         NaN         NaN  \n",
       "22                       NaN                     NaN         NaN         NaN  \n",
       "23                       NaN                     NaN         NaN         NaN  \n",
       "24                       NaN                     NaN         NaN         NaN  \n",
       "25                       NaN                     NaN         NaN         NaN  \n",
       "26                       NaN                     NaN         NaN         NaN  \n",
       "27                       NaN                     NaN         NaN         NaN  \n",
       "28                       NaN                     NaN         NaN         NaN  \n",
       "29                       NaN                     NaN         NaN         NaN  \n",
       "30                       NaN                     NaN         NaN         NaN  \n",
       "31                       NaN                     NaN         NaN         NaN  \n",
       "33                       NaN                     NaN         NaN         NaN  \n",
       "34                       NaN                     NaN         NaN         NaN  \n",
       "35                       NaN                     NaN         NaN         NaN  \n",
       "36                       NaN                     NaN         NaN         NaN  \n",
       "37                       NaN                     NaN         NaN         NaN  \n",
       "38                       NaN                     NaN         NaN         NaN  \n",
       "39                       NaN                     NaN         NaN         NaN  \n",
       "40                       NaN                     NaN         NaN         NaN  \n",
       "41                       NaN                     NaN         NaN         NaN  \n",
       "42                       NaN                     NaN         NaN         NaN  \n",
       "44                       NaN                     NaN         NaN         NaN  \n",
       "45                       NaN                     NaN         NaN         NaN  \n",
       "46                       NaN                     NaN         NaN         NaN  \n",
       "47                       NaN                     NaN         NaN         NaN  \n",
       "48                       NaN                     NaN         NaN         NaN  \n",
       "49                       NaN                     NaN         NaN         NaN  \n",
       "50                       NaN                     NaN         NaN         NaN  \n",
       "51                       NaN                     NaN         NaN         NaN  \n",
       "52                       NaN                     NaN         NaN         NaN  \n",
       "53                       NaN                     NaN         NaN         NaN  "
      ]
     },
     "execution_count": 56,
     "metadata": {},
     "output_type": "execute_result"
    }
   ],
   "source": [
    "df_train = df_metrics.dropna(subset=[\"loss\"])\n",
    "df_eval = df_metrics.dropna(subset=[\"eval_loss\"])\n",
    "df_train"
   ]
  },
  {
   "cell_type": "code",
   "execution_count": 57,
   "metadata": {
    "execution": {
     "iopub.execute_input": "2025-05-07T00:30:03.906596Z",
     "iopub.status.busy": "2025-05-07T00:30:03.906314Z",
     "iopub.status.idle": "2025-05-07T00:30:03.922454Z",
     "shell.execute_reply": "2025-05-07T00:30:03.921671Z",
     "shell.execute_reply.started": "2025-05-07T00:30:03.906568Z"
    },
    "trusted": true
   },
   "outputs": [
    {
     "name": "stderr",
     "output_type": "stream",
     "text": [
      "/usr/local/lib/python3.10/dist-packages/pandas/io/formats/format.py:1458: RuntimeWarning: invalid value encountered in greater\n",
      "  has_large_values = (abs_vals > 1e6).any()\n",
      "/usr/local/lib/python3.10/dist-packages/pandas/io/formats/format.py:1459: RuntimeWarning: invalid value encountered in less\n",
      "  has_small_values = ((abs_vals < 10 ** (-self.digits)) & (abs_vals > 0)).any()\n",
      "/usr/local/lib/python3.10/dist-packages/pandas/io/formats/format.py:1459: RuntimeWarning: invalid value encountered in greater\n",
      "  has_small_values = ((abs_vals < 10 ** (-self.digits)) & (abs_vals > 0)).any()\n"
     ]
    },
    {
     "data": {
      "text/html": [
       "<div>\n",
       "<style scoped>\n",
       "    .dataframe tbody tr th:only-of-type {\n",
       "        vertical-align: middle;\n",
       "    }\n",
       "\n",
       "    .dataframe tbody tr th {\n",
       "        vertical-align: top;\n",
       "    }\n",
       "\n",
       "    .dataframe thead th {\n",
       "        text-align: right;\n",
       "    }\n",
       "</style>\n",
       "<table border=\"1\" class=\"dataframe\">\n",
       "  <thead>\n",
       "    <tr style=\"text-align: right;\">\n",
       "      <th></th>\n",
       "      <th>loss</th>\n",
       "      <th>grad_norm</th>\n",
       "      <th>learning_rate</th>\n",
       "      <th>epoch</th>\n",
       "      <th>step</th>\n",
       "      <th>eval_loss</th>\n",
       "      <th>eval_precision</th>\n",
       "      <th>eval_recall</th>\n",
       "      <th>eval_f1</th>\n",
       "      <th>eval_accuracy</th>\n",
       "      <th>eval_runtime</th>\n",
       "      <th>eval_samples_per_second</th>\n",
       "      <th>eval_steps_per_second</th>\n",
       "      <th>train_runtime</th>\n",
       "      <th>train_samples_per_second</th>\n",
       "      <th>train_steps_per_second</th>\n",
       "      <th>total_flos</th>\n",
       "      <th>train_loss</th>\n",
       "    </tr>\n",
       "  </thead>\n",
       "  <tbody>\n",
       "    <tr>\n",
       "      <th>10</th>\n",
       "      <td>NaN</td>\n",
       "      <td>NaN</td>\n",
       "      <td>NaN</td>\n",
       "      <td>0.694927</td>\n",
       "      <td>1000</td>\n",
       "      <td>0.793482</td>\n",
       "      <td>0.833866</td>\n",
       "      <td>0.938779</td>\n",
       "      <td>0.883218</td>\n",
       "      <td>0.974489</td>\n",
       "      <td>198.6760</td>\n",
       "      <td>49.664</td>\n",
       "      <td>1.555</td>\n",
       "      <td>NaN</td>\n",
       "      <td>NaN</td>\n",
       "      <td>NaN</td>\n",
       "      <td>NaN</td>\n",
       "      <td>NaN</td>\n",
       "    </tr>\n",
       "    <tr>\n",
       "      <th>21</th>\n",
       "      <td>NaN</td>\n",
       "      <td>NaN</td>\n",
       "      <td>NaN</td>\n",
       "      <td>1.389854</td>\n",
       "      <td>2000</td>\n",
       "      <td>0.780966</td>\n",
       "      <td>0.861669</td>\n",
       "      <td>0.941332</td>\n",
       "      <td>0.899741</td>\n",
       "      <td>0.978500</td>\n",
       "      <td>198.4557</td>\n",
       "      <td>49.719</td>\n",
       "      <td>1.557</td>\n",
       "      <td>NaN</td>\n",
       "      <td>NaN</td>\n",
       "      <td>NaN</td>\n",
       "      <td>NaN</td>\n",
       "      <td>NaN</td>\n",
       "    </tr>\n",
       "    <tr>\n",
       "      <th>32</th>\n",
       "      <td>NaN</td>\n",
       "      <td>NaN</td>\n",
       "      <td>NaN</td>\n",
       "      <td>2.084781</td>\n",
       "      <td>3000</td>\n",
       "      <td>0.775718</td>\n",
       "      <td>0.872571</td>\n",
       "      <td>0.946311</td>\n",
       "      <td>0.907946</td>\n",
       "      <td>0.980920</td>\n",
       "      <td>198.0618</td>\n",
       "      <td>49.818</td>\n",
       "      <td>1.560</td>\n",
       "      <td>NaN</td>\n",
       "      <td>NaN</td>\n",
       "      <td>NaN</td>\n",
       "      <td>NaN</td>\n",
       "      <td>NaN</td>\n",
       "    </tr>\n",
       "    <tr>\n",
       "      <th>43</th>\n",
       "      <td>NaN</td>\n",
       "      <td>NaN</td>\n",
       "      <td>NaN</td>\n",
       "      <td>2.779708</td>\n",
       "      <td>4000</td>\n",
       "      <td>0.770739</td>\n",
       "      <td>0.876510</td>\n",
       "      <td>0.947917</td>\n",
       "      <td>0.910816</td>\n",
       "      <td>0.981423</td>\n",
       "      <td>198.1354</td>\n",
       "      <td>49.799</td>\n",
       "      <td>1.560</td>\n",
       "      <td>NaN</td>\n",
       "      <td>NaN</td>\n",
       "      <td>NaN</td>\n",
       "      <td>NaN</td>\n",
       "      <td>NaN</td>\n",
       "    </tr>\n",
       "    <tr>\n",
       "      <th>54</th>\n",
       "      <td>NaN</td>\n",
       "      <td>NaN</td>\n",
       "      <td>NaN</td>\n",
       "      <td>3.474635</td>\n",
       "      <td>5000</td>\n",
       "      <td>0.772299</td>\n",
       "      <td>0.865433</td>\n",
       "      <td>0.949275</td>\n",
       "      <td>0.905417</td>\n",
       "      <td>0.979883</td>\n",
       "      <td>198.1745</td>\n",
       "      <td>49.789</td>\n",
       "      <td>1.559</td>\n",
       "      <td>NaN</td>\n",
       "      <td>NaN</td>\n",
       "      <td>NaN</td>\n",
       "      <td>NaN</td>\n",
       "      <td>NaN</td>\n",
       "    </tr>\n",
       "  </tbody>\n",
       "</table>\n",
       "</div>"
      ],
      "text/plain": [
       "    loss  grad_norm  learning_rate     epoch  step  eval_loss  eval_precision  \\\n",
       "10   NaN        NaN            NaN  0.694927  1000   0.793482        0.833866   \n",
       "21   NaN        NaN            NaN  1.389854  2000   0.780966        0.861669   \n",
       "32   NaN        NaN            NaN  2.084781  3000   0.775718        0.872571   \n",
       "43   NaN        NaN            NaN  2.779708  4000   0.770739        0.876510   \n",
       "54   NaN        NaN            NaN  3.474635  5000   0.772299        0.865433   \n",
       "\n",
       "    eval_recall   eval_f1  eval_accuracy  eval_runtime  \\\n",
       "10     0.938779  0.883218       0.974489      198.6760   \n",
       "21     0.941332  0.899741       0.978500      198.4557   \n",
       "32     0.946311  0.907946       0.980920      198.0618   \n",
       "43     0.947917  0.910816       0.981423      198.1354   \n",
       "54     0.949275  0.905417       0.979883      198.1745   \n",
       "\n",
       "    eval_samples_per_second  eval_steps_per_second  train_runtime  \\\n",
       "10                   49.664                  1.555            NaN   \n",
       "21                   49.719                  1.557            NaN   \n",
       "32                   49.818                  1.560            NaN   \n",
       "43                   49.799                  1.560            NaN   \n",
       "54                   49.789                  1.559            NaN   \n",
       "\n",
       "    train_samples_per_second  train_steps_per_second  total_flos  train_loss  \n",
       "10                       NaN                     NaN         NaN         NaN  \n",
       "21                       NaN                     NaN         NaN         NaN  \n",
       "32                       NaN                     NaN         NaN         NaN  \n",
       "43                       NaN                     NaN         NaN         NaN  \n",
       "54                       NaN                     NaN         NaN         NaN  "
      ]
     },
     "execution_count": 57,
     "metadata": {},
     "output_type": "execute_result"
    }
   ],
   "source": [
    "df_eval"
   ]
  },
  {
   "cell_type": "code",
   "execution_count": 58,
   "metadata": {
    "execution": {
     "iopub.execute_input": "2025-05-07T00:30:03.923581Z",
     "iopub.status.busy": "2025-05-07T00:30:03.923322Z",
     "iopub.status.idle": "2025-05-07T00:30:04.118300Z",
     "shell.execute_reply": "2025-05-07T00:30:04.117451Z",
     "shell.execute_reply.started": "2025-05-07T00:30:03.923555Z"
    },
    "trusted": true
   },
   "outputs": [
    {
     "data": {
      "image/png": "[encoded data removed]",
      "text/plain": [
       "<Figure size 800x400 with 1 Axes>"
      ]
     },
     "metadata": {},
     "output_type": "display_data"
    }
   ],
   "source": [
    "plt.figure(figsize=(8, 4))\n",
    "plt.plot(df_train[\"epoch\"], df_train[\"loss\"], marker='o', linestyle='-', label=\"Train Loss\")\n",
    "plt.xlabel(\"Epoch\")\n",
    "plt.ylabel(\"Loss\")\n",
    "plt.title(\"Training Loss per Epoch\")\n",
    "plt.legend()\n",
    "plt.grid()\n",
    "plt.show()"
   ]
  },
  {
   "cell_type": "code",
   "execution_count": 59,
   "metadata": {
    "execution": {
     "iopub.execute_input": "2025-05-07T00:30:04.119231Z",
     "iopub.status.busy": "2025-05-07T00:30:04.119009Z",
     "iopub.status.idle": "2025-05-07T00:30:04.286874Z",
     "shell.execute_reply": "2025-05-07T00:30:04.286230Z",
     "shell.execute_reply.started": "2025-05-07T00:30:04.119213Z"
    },
    "trusted": true
   },
   "outputs": [
    {
     "data": {
      "image/png": "[encoded data removed]",
      "text/plain": [
       "<Figure size 800x400 with 1 Axes>"
      ]
     },
     "metadata": {},
     "output_type": "display_data"
    }
   ],
   "source": [
    "df_eval = df_metrics.dropna(subset=[\"eval_loss\"])\n",
    "\n",
    "plt.figure(figsize=(8, 4))\n",
    "plt.plot(df_eval[\"epoch\"], df_eval[\"eval_loss\"], marker='o', linestyle='-', color=\"blue\", label=\"Eval Loss\")\n",
    "plt.xlabel(\"Epoch\")\n",
    "plt.ylabel(\"Eval Loss\")\n",
    "plt.title(\"Evaluation Loss per Epoch\")\n",
    "plt.legend()\n",
    "plt.grid()\n",
    "plt.show()"
   ]
  },
  {
   "cell_type": "code",
   "execution_count": 60,
   "metadata": {
    "execution": {
     "iopub.execute_input": "2025-05-07T00:30:04.287722Z",
     "iopub.status.busy": "2025-05-07T00:30:04.287538Z",
     "iopub.status.idle": "2025-05-07T00:30:04.467504Z",
     "shell.execute_reply": "2025-05-07T00:30:04.466833Z",
     "shell.execute_reply.started": "2025-05-07T00:30:04.287706Z"
    },
    "trusted": true
   },
   "outputs": [
    {
     "data": {
      "image/png": "[encoded data removed]",
      "text/plain": [
       "<Figure size 800x400 with 1 Axes>"
      ]
     },
     "metadata": {},
     "output_type": "display_data"
    }
   ],
   "source": [
    "def plot_learning_rate(trainer):\n",
    "    lr_logs = [log[\"learning_rate\"] for log in trainer.state.log_history if \"learning_rate\" in log]\n",
    "    steps = list(range(len(lr_logs)))\n",
    "\n",
    "    plt.figure(figsize=(8, 4))\n",
    "    plt.plot(steps, lr_logs, marker='o', linestyle='-')\n",
    "    plt.xlabel(\"Steps\")\n",
    "    plt.ylabel(\"Learning Rate\")\n",
    "    plt.title(\"Learning Rate Schedule\")\n",
    "    plt.grid()\n",
    "    plt.show()\n",
    "plot_learning_rate(trainer)"
   ]
  },
  {
   "cell_type": "code",
   "execution_count": 1,
   "metadata": {
    "execution": {
     "iopub.execute_input": "2025-05-08T08:37:40.735221Z",
     "iopub.status.busy": "2025-05-08T08:37:40.735028Z",
     "iopub.status.idle": "2025-05-08T08:37:42.325855Z",
     "shell.execute_reply": "2025-05-08T08:37:42.324456Z",
     "shell.execute_reply.started": "2025-05-08T08:37:40.735202Z"
    },
    "trusted": true
   },
   "outputs": [
    {
     "ename": "NameError",
     "evalue": "name 'trainer' is not defined",
     "output_type": "error",
     "traceback": [
      "\u001b[0;31m---------------------------------------------------------------------------\u001b[0m",
      "\u001b[0;31mNameError\u001b[0m                                 Traceback (most recent call last)",
      "\u001b[0;32m<ipython-input-1-cd49f7ebb487>\u001b[0m in \u001b[0;36m<cell line: 12>\u001b[0;34m()\u001b[0m\n\u001b[1;32m     10\u001b[0m     \u001b[0;36m6\u001b[0m\u001b[0;34m:\u001b[0m \u001b[0;34m\"I-LOC\"\u001b[0m\u001b[0;34m\u001b[0m\u001b[0;34m\u001b[0m\u001b[0m\n\u001b[1;32m     11\u001b[0m }\n\u001b[0;32m---> 12\u001b[0;31m \u001b[0mpredictions\u001b[0m\u001b[0;34m,\u001b[0m \u001b[0mlabels\u001b[0m\u001b[0;34m,\u001b[0m \u001b[0mmetrics\u001b[0m \u001b[0;34m=\u001b[0m \u001b[0mtrainer\u001b[0m\u001b[0;34m.\u001b[0m\u001b[0mpredict\u001b[0m\u001b[0;34m(\u001b[0m\u001b[0mtokenized_datasets\u001b[0m\u001b[0;34m[\u001b[0m\u001b[0;34m\"test\"\u001b[0m\u001b[0;34m]\u001b[0m\u001b[0;34m)\u001b[0m\u001b[0;34m\u001b[0m\u001b[0;34m\u001b[0m\u001b[0m\n\u001b[0m\u001b[1;32m     13\u001b[0m \u001b[0;34m\u001b[0m\u001b[0m\n\u001b[1;32m     14\u001b[0m \u001b[0mpreds\u001b[0m \u001b[0;34m=\u001b[0m \u001b[0mnp\u001b[0m\u001b[0;34m.\u001b[0m\u001b[0margmax\u001b[0m\u001b[0;34m(\u001b[0m\u001b[0mpredictions\u001b[0m\u001b[0;34m,\u001b[0m \u001b[0maxis\u001b[0m\u001b[0;34m=\u001b[0m\u001b[0;34m-\u001b[0m\u001b[0;36m1\u001b[0m\u001b[0;34m)\u001b[0m\u001b[0;34m\u001b[0m\u001b[0;34m\u001b[0m\u001b[0m\n",
      "\u001b[0;31mNameError\u001b[0m: name 'trainer' is not defined"
     ]
    },
    {
     "data": {
      "text/html": [],
      "text/plain": [
       "<IPython.core.display.HTML object>"
      ]
     },
     "metadata": {},
     "output_type": "display_data"
    },
    {
     "data": {
      "image/png": "[encoded data removed]",
      "text/plain": [
       "<Figure size 800x600 with 2 Axes>"
      ]
     },
     "metadata": {},
     "output_type": "display_data"
    }
   ],
   "source": [
    "from sklearn.metrics import confusion_matrix\n",
    "\n",
    "predictions, labels, metrics = trainer.predict(tokenized_datasets[\"test\"])\n",
    "\n",
    "preds = np.argmax(predictions, axis=-1)\n",
    "valid_idx = labels != -100\n",
    "labels = labels[valid_idx]\n",
    "preds = preds[valid_idx]\n",
    "\n",
    "cm = confusion_matrix(labels, preds)\n",
    "plt.figure(figsize=(8, 6))\n",
    "sns.heatmap(cm, annot=True, fmt=\"d\", cmap=\"Blues\", xticklabels=range(len(cm)), yticklabels=range(len(cm)))\n",
    "plt.xlabel(\"Predicted Labels\")\n",
    "plt.ylabel(\"True Labels\")\n",
    "plt.title(\"Confusion Matrix\")\n",
    "plt.show()"
   ]
  },
  {
   "cell_type": "code",
   "execution_count": 62,
   "metadata": {
    "execution": {
     "iopub.execute_input": "2025-05-07T00:33:25.223980Z",
     "iopub.status.busy": "2025-05-07T00:33:25.223763Z",
     "iopub.status.idle": "2025-05-07T00:33:25.294494Z",
     "shell.execute_reply": "2025-05-07T00:33:25.293864Z",
     "shell.execute_reply.started": "2025-05-07T00:33:25.223961Z"
    },
    "trusted": true
   },
   "outputs": [
    {
     "name": "stderr",
     "output_type": "stream",
     "text": [
      "Device set to use cuda:0\n"
     ]
    },
    {
     "name": "stdout",
     "output_type": "stream",
     "text": [
      "Text: Президент України Володимир Зеленський відвідав штаб-квартиру ПриватБанк.\n",
      "NER Results:\n",
      "{'entity_group': 'LABEL_0', 'score': 0.5990856, 'word': 'Президент України', 'start': 0, 'end': 17}\n",
      "{'entity_group': 'LABEL_1', 'score': 0.96691084, 'word': 'Володимир', 'start': 18, 'end': 27}\n",
      "{'entity_group': 'LABEL_2', 'score': 0.97059053, 'word': 'Зеленський', 'start': 28, 'end': 38}\n",
      "{'entity_group': 'LABEL_0', 'score': 0.6311143, 'word': 'відвідав штаб-квартиру', 'start': 39, 'end': 61}\n",
      "{'entity_group': 'LABEL_3', 'score': 0.96622545, 'word': 'ПриватБанк.', 'start': 62, 'end': 73}\n",
      "==================================================\n",
      "Text: Компанія SoftServe є лідером у галузі IT-інновацій, постійно впроваджуючи новітні технології.\n",
      "NER Results:\n",
      "{'entity_group': 'LABEL_0', 'score': 0.6505145, 'word': 'Компанія', 'start': 0, 'end': 8}\n",
      "{'entity_group': 'LABEL_3', 'score': 0.9696961, 'word': 'SoftServe', 'start': 9, 'end': 18}\n",
      "{'entity_group': 'LABEL_0', 'score': 0.64129, 'word': 'є лідером у галузі IT-інновацій, постійно впроваджуючи новітні технології.', 'start': 19, 'end': 93}\n",
      "==================================================\n",
      "Text: Відомий науковець Марія Коваленко отримала престижну нагороду за свої дослідження.\n",
      "NER Results:\n",
      "{'entity_group': 'LABEL_0', 'score': 0.65117645, 'word': 'Відомий науковець', 'start': 0, 'end': 17}\n",
      "{'entity_group': 'LABEL_1', 'score': 0.9686724, 'word': 'Марія', 'start': 18, 'end': 23}\n",
      "{'entity_group': 'LABEL_2', 'score': 0.97023416, 'word': 'Коваленко', 'start': 24, 'end': 33}\n",
      "{'entity_group': 'LABEL_0', 'score': 0.6507406, 'word': 'отримала престижну нагороду за свої дослідження.', 'start': 34, 'end': 82}\n",
      "==================================================\n",
      "Text: Керівник відділу маркетингу компанії 'Розумні Технології' Олександр Іваненко презентував нову стратегію.\n",
      "NER Results:\n",
      "{'entity_group': 'LABEL_0', 'score': 0.63722235, 'word': 'Керівник відділу маркетингу компанії', 'start': 0, 'end': 36}\n",
      "{'entity_group': 'LABEL_3', 'score': 0.96364594, 'word': \"'Розумні\", 'start': 37, 'end': 45}\n",
      "{'entity_group': 'LABEL_4', 'score': 0.9684151, 'word': \"Технології'\", 'start': 46, 'end': 57}\n",
      "{'entity_group': 'LABEL_1', 'score': 0.9699645, 'word': 'Олександр', 'start': 58, 'end': 67}\n",
      "{'entity_group': 'LABEL_2', 'score': 0.96856564, 'word': 'Іваненко', 'start': 68, 'end': 76}\n",
      "{'entity_group': 'LABEL_0', 'score': 0.6447568, 'word': 'презентував нову стратегію.', 'start': 77, 'end': 104}\n",
      "==================================================\n"
     ]
    }
   ],
   "source": [
    "from transformers import pipeline\n",
    "ner_pipeline = pipeline(\n",
    "    \"ner\",\n",
    "    model=model,\n",
    "    tokenizer=tokenizer,\n",
    "    aggregation_strategy=\"simple\"\n",
    ")\n",
    "\n",
    "def perform_inference(text: str):\n",
    "    results = ner_pipeline(text)\n",
    "    return results\n",
    "\n",
    "texts = [\n",
    "    \"Президент України Володимир Зеленський відвідав штаб-квартиру ПриватБанк.\",\n",
    "    \"Компанія SoftServe є лідером у галузі IT-інновацій, постійно впроваджуючи новітні технології.\",\n",
    "    \"Відомий науковець Марія Коваленко отримала престижну нагороду за свої дослідження.\",\n",
    "    \"Керівник відділу маркетингу компанії 'Розумні Технології' Олександр Іваненко презентував нову стратегію.\"\n",
    "]\n",
    "\n",
    "for text in texts:\n",
    "    print(\"Text:\", text)\n",
    "    results = perform_inference(text)\n",
    "    print(\"NER Results:\")\n",
    "    for entity in results:\n",
    "        print(entity)\n",
    "    print(\"=\" * 50)"
   ]
  },
  {
   "cell_type": "code",
   "execution_count": 2,
   "metadata": {
    "execution": {
     "iopub.execute_input": "2025-05-08T21:53:00.076097Z",
     "iopub.status.busy": "2025-05-08T21:53:00.075584Z",
     "iopub.status.idle": "2025-05-08T21:53:35.055532Z",
     "shell.execute_reply": "2025-05-08T21:53:35.054872Z",
     "shell.execute_reply.started": "2025-05-08T21:53:00.076065Z"
    },
    "trusted": true
   },
   "outputs": [
    {
     "data": {
      "application/vnd.jupyter.widget-view+json": {
       "model_id": "3ae063f615614fe3b0094f4b855413dc",
       "version_major": 2,
       "version_minor": 0
      },
      "text/plain": [
       "tokenizer_config.json:   0%|          | 0.00/1.18k [00:00<?, ?B/s]"
      ]
     },
     "metadata": {},
     "output_type": "display_data"
    },
    {
     "data": {
      "application/vnd.jupyter.widget-view+json": {
       "model_id": "dc9cbc501c1d4e87aae3875a4a6c46ac",
       "version_major": 2,
       "version_minor": 0
      },
      "text/plain": [
       "sentencepiece.bpe.model:   0%|          | 0.00/5.07M [00:00<?, ?B/s]"
      ]
     },
     "metadata": {},
     "output_type": "display_data"
    },
    {
     "data": {
      "application/vnd.jupyter.widget-view+json": {
       "model_id": "72c661d65af54f1499ffb0ca3307112f",
       "version_major": 2,
       "version_minor": 0
      },
      "text/plain": [
       "tokenizer.json:   0%|          | 0.00/17.1M [00:00<?, ?B/s]"
      ]
     },
     "metadata": {},
     "output_type": "display_data"
    },
    {
     "data": {
      "application/vnd.jupyter.widget-view+json": {
       "model_id": "d69158a9bbe54dd185ef3c35f7cd6e02",
       "version_major": 2,
       "version_minor": 0
      },
      "text/plain": [
       "special_tokens_map.json:   0%|          | 0.00/280 [00:00<?, ?B/s]"
      ]
     },
     "metadata": {},
     "output_type": "display_data"
    },
    {
     "data": {
      "application/vnd.jupyter.widget-view+json": {
       "model_id": "18feeedd1ce040a9b8be909c9b94a37e",
       "version_major": 2,
       "version_minor": 0
      },
      "text/plain": [
       "config.json:   0%|          | 0.00/1.02k [00:00<?, ?B/s]"
      ]
     },
     "metadata": {},
     "output_type": "display_data"
    },
    {
     "data": {
      "application/vnd.jupyter.widget-view+json": {
       "model_id": "90b7d3ea17714cd08bc013d5a071c68f",
       "version_major": 2,
       "version_minor": 0
      },
      "text/plain": [
       "model.safetensors:   0%|          | 0.00/1.11G [00:00<?, ?B/s]"
      ]
     },
     "metadata": {},
     "output_type": "display_data"
    }
   ],
   "source": [
    "from transformers import AutoTokenizer, AutoModelForTokenClassification\n",
    "\n",
    "model_name = \"savkivyaryna21/ukr_ner_mlproject\"\n",
    "\n",
    "tokenizer = AutoTokenizer.from_pretrained(model_name)\n",
    "model = AutoModelForTokenClassification.from_pretrained(model_name)"
   ]
  },
  {
   "cell_type": "code",
   "execution_count": 3,
   "metadata": {
    "execution": {
     "iopub.execute_input": "2025-05-08T21:53:35.056985Z",
     "iopub.status.busy": "2025-05-08T21:53:35.056399Z",
     "iopub.status.idle": "2025-05-08T21:53:37.548512Z",
     "shell.execute_reply": "2025-05-08T21:53:37.547548Z",
     "shell.execute_reply.started": "2025-05-08T21:53:35.056959Z"
    },
    "trusted": true
   },
   "outputs": [
    {
     "name": "stderr",
     "output_type": "stream",
     "text": [
      "<ipython-input-3-0570e5ccdc4d>:9: FutureWarning: `tokenizer` is deprecated and will be removed in version 5.0.0 for `Trainer.__init__`. Use `processing_class` instead.\n",
      "  trainer = Trainer(\n"
     ]
    }
   ],
   "source": [
    "from transformers import TrainingArguments, Trainer\n",
    "\n",
    "training_args = TrainingArguments(\n",
    "    output_dir=\"./results\",\n",
    "    per_device_eval_batch_size=32,\n",
    "    report_to=\"none\"\n",
    ")\n",
    "\n",
    "trainer = Trainer(\n",
    "    model=model,\n",
    "    tokenizer=tokenizer,\n",
    "    args=training_args\n",
    ")"
   ]
  },
  {
   "cell_type": "code",
   "execution_count": 35,
   "metadata": {
    "execution": {
     "iopub.execute_input": "2025-05-08T22:00:11.126451Z",
     "iopub.status.busy": "2025-05-08T22:00:11.126256Z",
     "iopub.status.idle": "2025-05-08T22:02:52.154563Z",
     "shell.execute_reply": "2025-05-08T22:02:52.153697Z",
     "shell.execute_reply.started": "2025-05-08T22:00:11.126434Z"
    },
    "trusted": true
   },
   "outputs": [
    {
     "data": {
      "text/html": [],
      "text/plain": [
       "<IPython.core.display.HTML object>"
      ]
     },
     "metadata": {},
     "output_type": "display_data"
    }
   ],
   "source": [
    "from sklearn.metrics import confusion_matrix\n",
    "from sklearn.metrics import classification_report\n",
    "id2label = {\n",
    "    0: \"O\",\n",
    "    1: \"B-PER\",\n",
    "    2: \"I-PER\",\n",
    "    3: \"B-ORG\",\n",
    "    4: \"I-ORG\",\n",
    "    5: \"B-LOC\",\n",
    "    6: \"I-LOC\"\n",
    "}\n",
    "predictions, labels, metrics = trainer.predict(tokenized_datasets[\"test\"])"
   ]
  },
  {
   "cell_type": "code",
   "execution_count": 36,
   "metadata": {
    "execution": {
     "iopub.execute_input": "2025-05-08T22:02:52.155664Z",
     "iopub.status.busy": "2025-05-08T22:02:52.155432Z",
     "iopub.status.idle": "2025-05-08T22:02:52.162162Z",
     "shell.execute_reply": "2025-05-08T22:02:52.161487Z",
     "shell.execute_reply.started": "2025-05-08T22:02:52.155645Z"
    },
    "trusted": true
   },
   "outputs": [
    {
     "data": {
      "text/plain": [
       "array([[[ 0.92464113, -0.6316073 , -0.55421925, ..., -0.3780647 ,\n",
       "         -0.7660603 , -0.851074  ],\n",
       "        [ 1.5341628 , -0.82792425, -0.8641514 , ..., -0.88232094,\n",
       "         -0.84160775, -0.8155029 ],\n",
       "        [ 1.5381019 , -0.8278787 , -0.85588104, ..., -0.86498463,\n",
       "         -0.8444912 , -0.8120638 ],\n",
       "        ...,\n",
       "        [ 0.93530446, -0.63900125, -0.56001574, ..., -0.38093182,\n",
       "         -0.7682497 , -0.85857576],\n",
       "        [ 0.93530446, -0.63900125, -0.56001574, ..., -0.38093182,\n",
       "         -0.7682497 , -0.85857576],\n",
       "        [ 0.93530446, -0.63900125, -0.56001574, ..., -0.38093182,\n",
       "         -0.7682497 , -0.85857576]],\n",
       "\n",
       "       [[ 1.0273817 , -0.6232201 , -0.55219716, ..., -0.43270695,\n",
       "         -0.75823706, -0.85006034],\n",
       "        [ 1.5517843 , -0.8504715 , -0.87763673, ..., -0.86909956,\n",
       "         -0.8466585 , -0.82989216],\n",
       "        [ 1.5550864 , -0.85603803, -0.8738224 , ..., -0.8667388 ,\n",
       "         -0.84585565, -0.8305396 ],\n",
       "        ...,\n",
       "        [ 1.5483189 , -0.8441954 , -0.86063224, ..., -0.86136246,\n",
       "         -0.8400044 , -0.8439356 ],\n",
       "        [ 1.5508908 , -0.82678336, -0.88149303, ..., -0.8497348 ,\n",
       "         -0.8415011 , -0.8370565 ],\n",
       "        [ 1.0341775 , -0.6252471 , -0.5545681 , ..., -0.43610382,\n",
       "         -0.75859714, -0.8540337 ]],\n",
       "\n",
       "       [[ 1.0349927 , -0.6183605 , -0.54948586, ..., -0.4433787 ,\n",
       "         -0.7714869 , -0.85808206],\n",
       "        [ 1.5492343 , -0.8233783 , -0.8629282 , ..., -0.8608327 ,\n",
       "         -0.8548792 , -0.822358  ],\n",
       "        [ 1.5592291 , -0.82261276, -0.8519687 , ..., -0.8684068 ,\n",
       "         -0.83447546, -0.82020295],\n",
       "        ...,\n",
       "        [ 1.0448816 , -0.6230762 , -0.55435675, ..., -0.44894886,\n",
       "         -0.7734789 , -0.8636656 ],\n",
       "        [ 1.0448816 , -0.6230762 , -0.55435675, ..., -0.44894886,\n",
       "         -0.7734789 , -0.8636656 ],\n",
       "        [ 1.0448816 , -0.6230762 , -0.55435675, ..., -0.44894886,\n",
       "         -0.7734789 , -0.8636656 ]],\n",
       "\n",
       "       ...,\n",
       "\n",
       "       [[ 0.3272624 , -0.53930587, -0.4757764 , ...,  0.07554186,\n",
       "         -0.73352677, -0.81170833],\n",
       "        [ 1.5852773 , -0.77210087, -0.854966  , ..., -0.88035554,\n",
       "         -0.82063776, -0.7853399 ],\n",
       "        [ 1.5813475 , -0.77827406, -0.85759336, ..., -0.87384194,\n",
       "         -0.7790567 , -0.8045333 ],\n",
       "        ...,\n",
       "        [ 0.32061505, -0.5870272 , -0.51147187, ...,  0.11796974,\n",
       "         -0.7348677 , -0.84140235],\n",
       "        [ 0.32061505, -0.5870272 , -0.51147187, ...,  0.11796974,\n",
       "         -0.7348677 , -0.84140235],\n",
       "        [ 0.32061505, -0.5870272 , -0.51147187, ...,  0.11796974,\n",
       "         -0.7348677 , -0.84140235]],\n",
       "\n",
       "       [[ 0.8829048 , -0.53599966, -0.48226455, ..., -0.35235214,\n",
       "         -0.70619625, -0.8141228 ],\n",
       "        [ 1.552784  , -0.8258247 , -0.8833255 , ..., -0.86774695,\n",
       "         -0.8703779 , -0.83977944],\n",
       "        [ 1.5581291 , -0.82445407, -0.8807867 , ..., -0.87288666,\n",
       "         -0.8530776 , -0.83897376],\n",
       "        ...,\n",
       "        [ 0.8997726 , -0.5482444 , -0.49244615, ..., -0.35878447,\n",
       "         -0.70950407, -0.8231766 ],\n",
       "        [ 0.8997726 , -0.5482444 , -0.49244615, ..., -0.35878447,\n",
       "         -0.70950407, -0.8231766 ],\n",
       "        [ 0.8997726 , -0.5482444 , -0.49244615, ..., -0.35878447,\n",
       "         -0.70950407, -0.8231766 ]],\n",
       "\n",
       "       [[ 0.8294518 , -0.5640271 , -0.50944835, ..., -0.41552657,\n",
       "         -0.6630904 , -0.81796074],\n",
       "        [ 1.5486398 , -0.83368826, -0.8550839 , ..., -0.8778628 ,\n",
       "         -0.85948455, -0.81695175],\n",
       "        [ 1.5478112 , -0.83567345, -0.8518116 , ..., -0.8818758 ,\n",
       "         -0.8612967 , -0.8203254 ],\n",
       "        ...,\n",
       "        [ 0.854952  , -0.5736387 , -0.51881546, ..., -0.4278432 ,\n",
       "         -0.67508113, -0.8319812 ],\n",
       "        [ 0.854952  , -0.5736387 , -0.51881546, ..., -0.4278432 ,\n",
       "         -0.67508113, -0.8319812 ],\n",
       "        [ 0.854952  , -0.5736387 , -0.51881546, ..., -0.4278432 ,\n",
       "         -0.67508113, -0.8319812 ]]], dtype=float32)"
      ]
     },
     "execution_count": 36,
     "metadata": {},
     "output_type": "execute_result"
    }
   ],
   "source": [
    "predictions"
   ]
  },
  {
   "cell_type": "code",
   "execution_count": 37,
   "metadata": {
    "execution": {
     "iopub.execute_input": "2025-05-08T22:02:52.163124Z",
     "iopub.status.busy": "2025-05-08T22:02:52.162852Z",
     "iopub.status.idle": "2025-05-08T22:02:52.270760Z",
     "shell.execute_reply": "2025-05-08T22:02:52.269825Z",
     "shell.execute_reply.started": "2025-05-08T22:02:52.163097Z"
    },
    "trusted": true
   },
   "outputs": [],
   "source": [
    "preds = np.argmax(predictions, axis=-1)"
   ]
  },
  {
   "cell_type": "code",
   "execution_count": 38,
   "metadata": {
    "execution": {
     "iopub.execute_input": "2025-05-08T22:02:52.272111Z",
     "iopub.status.busy": "2025-05-08T22:02:52.271804Z",
     "iopub.status.idle": "2025-05-08T22:02:52.294198Z",
     "shell.execute_reply": "2025-05-08T22:02:52.293578Z",
     "shell.execute_reply.started": "2025-05-08T22:02:52.272080Z"
    },
    "trusted": true
   },
   "outputs": [],
   "source": [
    "valid_idx = labels != -100\n",
    "labels = labels[valid_idx]\n",
    "preds = preds[valid_idx]"
   ]
  },
  {
   "cell_type": "code",
   "execution_count": 41,
   "metadata": {
    "execution": {
     "iopub.execute_input": "2025-05-08T22:06:32.915352Z",
     "iopub.status.busy": "2025-05-08T22:06:32.915039Z",
     "iopub.status.idle": "2025-05-08T22:06:32.920025Z",
     "shell.execute_reply": "2025-05-08T22:06:32.919226Z",
     "shell.execute_reply.started": "2025-05-08T22:06:32.915326Z"
    },
    "trusted": true
   },
   "outputs": [],
   "source": [
    "label_to_number = {\n",
    "    'O': 0,\n",
    "    'B-PER': 1,\n",
    "    'I-PER': 2,\n",
    "    'B-ORG': 3,\n",
    "    'I-ORG': 4,\n",
    "    'B-LOC': 5,\n",
    "    'I-LOC': 6,\n",
    "}\n",
    "\n",
    "number_to_label = {v: k for k, v in label_to_number.items()}\n",
    "\n",
    "ordered_labels = list(label_to_number.values())\n",
    "ordered_names = [number_to_label[i] for i in ordered_labels]"
   ]
  },
  {
   "cell_type": "code",
   "execution_count": 42,
   "metadata": {
    "execution": {
     "iopub.execute_input": "2025-05-08T22:06:33.488837Z",
     "iopub.status.busy": "2025-05-08T22:06:33.488468Z",
     "iopub.status.idle": "2025-05-08T22:07:04.060828Z",
     "shell.execute_reply": "2025-05-08T22:07:04.059920Z",
     "shell.execute_reply.started": "2025-05-08T22:06:33.488806Z"
    },
    "trusted": true
   },
   "outputs": [
    {
     "name": "stdout",
     "output_type": "stream",
     "text": [
      "\n",
      "📋 Classification Report:\n",
      "\n",
      "              precision    recall  f1-score   support\n",
      "\n",
      "           O     0.9987    0.9851    0.9919   2123305\n",
      "       B-PER     0.9027    0.9584    0.9297     70438\n",
      "       I-PER     0.9695    0.9826    0.9760     50565\n",
      "       B-ORG     0.8531    0.9610    0.9038    119071\n",
      "       I-ORG     0.8659    0.9619    0.9114     59030\n",
      "       B-LOC     0.9303    0.9503    0.9402     89422\n",
      "       I-LOC     0.8811    0.9029    0.8919     13086\n",
      "\n",
      "    accuracy                         0.9810   2524917\n",
      "   macro avg     0.9145    0.9575    0.9350   2524917\n",
      "weighted avg     0.9825    0.9810    0.9815   2524917\n",
      "\n"
     ]
    }
   ],
   "source": [
    "from sklearn.metrics import classification_report\n",
    "\n",
    "pred_tags = [id2label[i] for i in preds]\n",
    "true_tags = [id2label[i] for i in labels]\n",
    "\n",
    "print(\"\\n📋 Classification Report:\\n\")\n",
    "print(classification_report(\n",
    "    true_tags,\n",
    "    pred_tags,\n",
    "    labels=ordered_names,\n",
    "    digits=4,\n",
    "    zero_division=0\n",
    "))"
   ]
  },
  {
   "cell_type": "code",
   "execution_count": 32,
   "metadata": {
    "execution": {
     "iopub.execute_input": "2025-05-08T11:07:23.654227Z",
     "iopub.status.busy": "2025-05-08T11:07:23.653890Z",
     "iopub.status.idle": "2025-05-08T11:07:24.390138Z",
     "shell.execute_reply": "2025-05-08T11:07:24.389253Z",
     "shell.execute_reply.started": "2025-05-08T11:07:23.654195Z"
    },
    "trusted": true
   },
   "outputs": [
    {
     "data": {
      "image/png": "[encoded data removed]",
      "text/plain": [
       "<Figure size 800x600 with 2 Axes>"
      ]
     },
     "metadata": {},
     "output_type": "display_data"
    }
   ],
   "source": [
    "import matplotlib.pyplot as plt\n",
    "import seaborn as sns\n",
    "from sklearn.metrics import confusion_matrix, ConfusionMatrixDisplay\n",
    "\n",
    "label_to_number = {\n",
    "    'O': 0,\n",
    "    'B-PER': 1,\n",
    "    'I-PER': 2,\n",
    "    'B-ORG': 3,\n",
    "    'I-ORG': 4,\n",
    "    'B-LOC': 5,\n",
    "    'I-LOC': 6,\n",
    "}\n",
    "\n",
    "number_to_label = {v: k for k, v in label_to_number.items()}\n",
    "\n",
    "ordered_labels = list(label_to_number.values())\n",
    "ordered_names = [number_to_label[i] for i in ordered_labels]\n",
    "\n",
    "cm = confusion_matrix(labels, preds, labels=ordered_labels)\n",
    "\n",
    "plt.figure(figsize=(8, 6))\n",
    "sns.heatmap(\n",
    "    cm,\n",
    "    annot=True,\n",
    "    fmt=\"d\",\n",
    "    cmap=\"Blues\",\n",
    "    xticklabels=ordered_names,\n",
    "    yticklabels=ordered_names\n",
    ")\n",
    "plt.xlabel(\"Predicted label\")\n",
    "plt.ylabel(\"True label\")\n",
    "plt.title(\"Confusion Matrix on Test Set (RoBERTa)\")\n",
    "plt.tight_layout()\n",
    "plt.show()"
   ]
  }
 ],
 "metadata": {
  "kaggle": {
   "accelerator": "gpu",
   "dataSources": [
    {
     "datasetId": 6902390,
     "sourceId": 11075297,
     "sourceType": "datasetVersion"
    },
    {
     "datasetId": 7337928,
     "sourceId": 11691047,
     "sourceType": "datasetVersion"
    }
   ],
   "dockerImageVersionId": 30919,
   "isGpuEnabled": true,
   "isInternetEnabled": true,
   "language": "python",
   "sourceType": "notebook"
  },
  "kernelspec": {
   "display_name": "Python 3",
   "language": "python",
   "name": "python3"
  },
  "language_info": {
   "codemirror_mode": {
    "name": "ipython",
    "version": 3
   },
   "file_extension": ".py",
   "mimetype": "text/x-python",
   "name": "python",
   "nbconvert_exporter": "python",
   "pygments_lexer": "ipython3",
   "version": "3.10.12"
  }
 },
 "nbformat": 4,
 "nbformat_minor": 4
}
